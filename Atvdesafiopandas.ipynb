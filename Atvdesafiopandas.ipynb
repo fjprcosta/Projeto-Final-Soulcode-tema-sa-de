{
  "nbformat": 4,
  "nbformat_minor": 0,
  "metadata": {
    "colab": {
      "name": "Atvdesafiopandas.ipynb",
      "provenance": [],
      "authorship_tag": "ABX9TyMqHbCsLDS8JCozL2q9SWz5",
      "include_colab_link": true
    },
    "kernelspec": {
      "name": "python3",
      "display_name": "Python 3"
    },
    "language_info": {
      "name": "python"
    }
  },
  "cells": [
    {
      "cell_type": "markdown",
      "metadata": {
        "id": "view-in-github",
        "colab_type": "text"
      },
      "source": [
        "<a href=\"https://colab.research.google.com/github/fjprcosta/Projeto-Final-Soulcode-tema-sa-de/blob/main/Atvdesafiopandas.ipynb\" target=\"_parent\"><img src=\"https://colab.research.google.com/assets/colab-badge.svg\" alt=\"Open In Colab\"/></a>"
      ]
    },
    {
      "cell_type": "markdown",
      "source": [
        "##Conectores"
      ],
      "metadata": {
        "id": "Z7NMYJR9pAGf"
      }
    },
    {
      "cell_type": "code",
      "source": [
        "!pip install gcsfs"
      ],
      "metadata": {
        "id": "WS4gEYP86Q9f"
      },
      "execution_count": null,
      "outputs": []
    },
    {
      "cell_type": "code",
      "source": [
        "from google.cloud import storage\n",
        "import os\n",
        "# lib para conexão\n",
        "import requests\n",
        "import numpy as np\n",
        "# Modelagem de dados\n",
        "import pandas as pd\n",
        "# Ignorando avisos\n",
        "import warnings\n",
        "warnings.filterwarnings('ignore')\n",
        "# URL da API da Alesp\n",
        "URL_Despesas = 'http://www.al.sp.gov.br/repositorioDados/deputados/despesas_gabinetes.xml'\n",
        "URL_Cadastro = 'https://www.al.sp.gov.br/repositorioDados/deputados/deputados.xml'"
      ],
      "metadata": {
        "id": "56m2xtEf8IbK"
      },
      "execution_count": null,
      "outputs": []
    },
    {
      "cell_type": "code",
      "source": [
        "#conectando drive\n",
        "from google.colab import drive\n",
        "drive.mount('/content/drive')"
      ],
      "metadata": {
        "id": "mJBXyB7v6Mma"
      },
      "execution_count": null,
      "outputs": []
    },
    {
      "cell_type": "code",
      "source": [
        "serviceAccount = '/content/drive/MyDrive/Datasets/dev-fiber-349020-e47e934c596f.json'\n",
        "\n",
        "os.environ['GOOGLE_APPLICATION_CREDENTIALS'] = serviceAccount"
      ],
      "metadata": {
        "id": "UrokYW3S6jWR"
      },
      "execution_count": null,
      "outputs": []
    },
    {
      "cell_type": "code",
      "source": [
        "# Pegando os dados\n",
        "Conexao_01 = requests.get( URL_Despesas )\n",
        "Conexao_02 = requests.get( URL_Cadastro )\n",
        "# Verificando se a API funcinou\n",
        "print( Conexao_01, Conexao_02 )"
      ],
      "metadata": {
        "id": "qkQUVXZ28MgV"
      },
      "execution_count": null,
      "outputs": []
    },
    {
      "cell_type": "code",
      "source": [
        "#dataframe arquivo 1\n",
        "df2 = pd.read_xml(URL_Cadastro, encoding='utf-8')"
      ],
      "metadata": {
        "id": "kcIFenH6CDUY"
      },
      "execution_count": null,
      "outputs": []
    },
    {
      "cell_type": "code",
      "source": [
        "#dataframe arquivo 2\n",
        "df1 = pd.read_xml(URL_Despesas, encoding='utf-8')"
      ],
      "metadata": {
        "id": "jhj1ue-T--sl"
      },
      "execution_count": null,
      "outputs": []
    },
    {
      "cell_type": "markdown",
      "source": [
        "##E --- Pré Análise"
      ],
      "metadata": {
        "id": "hisOUCo2L8Ch"
      }
    },
    {
      "cell_type": "code",
      "source": [
        "#criando cópias dos df\n",
        "despesas = df1.copy()\n",
        "cadastro = df2.copy()"
      ],
      "metadata": {
        "id": "-FcqNg8YFpuo"
      },
      "execution_count": null,
      "outputs": []
    },
    {
      "cell_type": "code",
      "source": [
        "despesas.head(1)"
      ],
      "metadata": {
        "id": "Ap7rLWyxIw5J"
      },
      "execution_count": null,
      "outputs": []
    },
    {
      "cell_type": "code",
      "source": [
        "#Trabalhando com os dados dos 4 últimos anos\n",
        "dfanos = despesas.loc[(despesas['Ano'] >= 2019) & (despesas['Ano'] < 2023)]"
      ],
      "metadata": {
        "id": "J5VcPZmMkFAN"
      },
      "execution_count": null,
      "outputs": []
    },
    {
      "cell_type": "code",
      "source": [
        "#agrupando por ano\n",
        "dfanos.groupby(['Ano']).Valor.sum()"
      ],
      "metadata": {
        "id": "DEgMT3gXkYxH"
      },
      "execution_count": null,
      "outputs": []
    },
    {
      "cell_type": "code",
      "source": [
        "#verificando se CNPJ tem somente valores únicos\n",
        "dfanos.CNPJ.is_unique"
      ],
      "metadata": {
        "id": "hEHIQ0DHJXzJ"
      },
      "execution_count": null,
      "outputs": []
    },
    {
      "cell_type": "code",
      "source": [
        "#verificando se Matricula tem somente valores únicos\n",
        "dfanos.Matricula.is_unique"
      ],
      "metadata": {
        "id": "BLRMO6u0J1Qq"
      },
      "execution_count": null,
      "outputs": []
    },
    {
      "cell_type": "code",
      "source": [
        "#procurando inconsistências\n",
        "sorted(pd.unique(dfanos['Fornecedor']))"
      ],
      "metadata": {
        "id": "NJXW1eISPoZw"
      },
      "execution_count": null,
      "outputs": []
    },
    {
      "cell_type": "code",
      "source": [
        "#tratando inconsistências\n",
        "dfanos.replace(regex=[r'PEDAGIO','PEDÁGIOS','PEDAGIOS','PEGAGIO','CUPONS DE PEDÁGIO'],value='PEDÁGIO', inplace=True)"
      ],
      "metadata": {
        "id": "I4YHl2TogWz6"
      },
      "execution_count": null,
      "outputs": []
    },
    {
      "cell_type": "code",
      "source": [
        "#tratando inconsistências\n",
        "dfanos.replace(regex=[r'DELTA RADIO TAXI','taxi'],value='TAXI', inplace=True)"
      ],
      "metadata": {
        "id": "ym-EdSO9whUz"
      },
      "execution_count": null,
      "outputs": []
    },
    {
      "cell_type": "code",
      "source": [
        "#contando campos nulos\n",
        "dfanos.isna().sum()"
      ],
      "metadata": {
        "id": "e5oY1gbCRj4P"
      },
      "execution_count": null,
      "outputs": []
    },
    {
      "cell_type": "code",
      "source": [
        "#completando valores nulos\n",
        "despesas_tratadas = dfanos.fillna('Na')"
      ],
      "metadata": {
        "id": "4fUoL7NGSlW3"
      },
      "execution_count": null,
      "outputs": []
    },
    {
      "cell_type": "code",
      "source": [
        "#Transformando CNPJ em FLOAT\n",
        "dfanos[\"CNPJ\"] = pd.to_numeric(dfanos['CNPJ'],errors=\"coerce\")"
      ],
      "metadata": {
        "id": "gqJ7HhvGuc6t"
      },
      "execution_count": null,
      "outputs": []
    },
    {
      "cell_type": "code",
      "source": [
        "#confirmando as alterações no nulos\n",
        "despesas_tratadas.isna().sum()"
      ],
      "metadata": {
        "id": "kN_ZvoMTTNqn"
      },
      "execution_count": null,
      "outputs": []
    },
    {
      "cell_type": "code",
      "source": [
        "#procurando inconsistências\n",
        "pd.unique(cadastro['Telefone'])\n",
        "#coluna Aniverário com null/null"
      ],
      "metadata": {
        "id": "4rE6msXUU6JA"
      },
      "execution_count": null,
      "outputs": []
    },
    {
      "cell_type": "markdown",
      "source": [
        "##T --- Tratamento dos Dados"
      ],
      "metadata": {
        "id": "6knHiRf4fh87"
      }
    },
    {
      "cell_type": "code",
      "source": [
        "#maiores despesas nos últimos 4 anos\n",
        "despesas_tratadas.groupby(['CNPJ','Fornecedor','Tipo']).Valor.sum().sort_values(ascending=False).head()"
      ],
      "metadata": {
        "colab": {
          "base_uri": "https://localhost:8080/"
        },
        "id": "zM_LjtxwQjyt",
        "outputId": "25c38b6b-1ace-4bcf-b0ed-77cb3156abdd"
      },
      "execution_count": null,
      "outputs": [
        {
          "output_type": "execute_result",
          "data": {
            "text/plain": [
              "CNPJ              Fornecedor                         Tipo                                                            \n",
              "2491558000142.0   UNIDAS VEÍCULOS ESPECIAIS S.A.     O - LOCAÇÃO DE VEÍCULO                                              1883085.97\n",
              "58488099000100.0  NEVADA RENT A CAR LTDA             O - LOCAÇÃO DE VEÍCULO                                              1606952.52\n",
              "3067942000185.0   NOGUEIRA E NOGUEIRA JUNIOR LTDA    O - LOCAÇÃO DE VEÍCULO                                               784673.50\n",
              "18870651000106.0  QUATTROPORTO CONS E NEGOCIOS LTDA  O - LOCAÇÃO DE VEÍCULO                                               568722.33\n",
              "2558157000162.0   TELEFONICA BRASIL S.A              H - SERV.UTIL.PÚBLICA (TELEF.MÓVEL/FIXA, ENERGIA, ÁGUA, GÁS ETC)     479502.07\n",
              "Name: Valor, dtype: float64"
            ]
          },
          "metadata": {},
          "execution_count": 365
        }
      ]
    },
    {
      "cell_type": "code",
      "source": [
        "#3 deputados que mais gastaram\n",
        "despesas_tratadas.groupby(['Deputado']).Valor.sum().sort_values(ascending=False).head(3)"
      ],
      "metadata": {
        "colab": {
          "base_uri": "https://localhost:8080/"
        },
        "id": "D6SQHOCiBsXv",
        "outputId": "a9f35b87-8005-4e9f-e32c-e8cd016744ff"
      },
      "execution_count": null,
      "outputs": [
        {
          "output_type": "execute_result",
          "data": {
            "text/plain": [
              "Deputado\n",
              "ENIO TATTO            1180638.64\n",
              "TEONILIO BARBA        1169566.84\n",
              "VINÍCIUS CAMARINHA    1164305.11\n",
              "Name: Valor, dtype: float64"
            ]
          },
          "metadata": {},
          "execution_count": 370
        }
      ]
    },
    {
      "cell_type": "code",
      "source": [
        "#3 deputados que menos gastaram\n",
        "despesas_tratadas.groupby(['Deputado']).Valor.sum().sort_values().head(3)"
      ],
      "metadata": {
        "colab": {
          "base_uri": "https://localhost:8080/"
        },
        "id": "N8xPzlQiMLH_",
        "outputId": "09bb12d8-df0e-4b0d-80c5-f8037d7860c1"
      },
      "execution_count": null,
      "outputs": [
        {
          "output_type": "execute_result",
          "data": {
            "text/plain": [
              "Deputado\n",
              "PEDRO KAKÁ             1302.67\n",
              "CARLOS BEZERRA JR.     1467.37\n",
              "LUIZ GONZAGA VIEIRA    2251.96\n",
              "Name: Valor, dtype: float64"
            ]
          },
          "metadata": {},
          "execution_count": 371
        }
      ]
    },
    {
      "cell_type": "code",
      "source": [
        "#quando se agrupa os campos, há uma divergencia de quem gastou mais. Sendo identificado uma inconsistencia\n",
        "despesas_tratadas.groupby(['Deputado','CNPJ','Fornecedor','Tipo']).Valor.sum().sort_values(ascending=False).head()"
      ],
      "metadata": {
        "colab": {
          "base_uri": "https://localhost:8080/"
        },
        "id": "ghy9O9TwT1AZ",
        "outputId": "a191100b-409c-4f4f-893c-78b71e32b6af"
      },
      "execution_count": null,
      "outputs": [
        {
          "output_type": "execute_result",
          "data": {
            "text/plain": [
              "Deputado          CNPJ             Fornecedor                               Tipo                                                            \n",
              "MARCIO NAKASHIMA  9167845843.0     MARCOS CARVALHO ELIAS                    L - LOCAÇÃO DE BENS IMÓVEIS                                         463628.26\n",
              "TEONILIO BARBA    10778146820.0    MARCELO PEREIRA NUNES                    L - LOCAÇÃO DE BENS IMÓVEIS                                         364251.17\n",
              "TENENTE COIMBRA   16228518895.0    SILVIO CESAR DE JESUS SANTOS             L - LOCAÇÃO DE BENS IMÓVEIS                                         288692.54\n",
              "ROBERTO MORAIS    51410672891.0    JOSÉ CARLOS RIBEIRO                      L - LOCAÇÃO DE BENS IMÓVEIS                                         278869.00\n",
              "LECI BRANDÃO      8300679000146.0  CIRCUS FILMES E PRODUÇOES GRAFICAS LTDA  F - SERVIÇOS TÉCNICOS PROFISSIONAIS (CONSULTORIA, PESQUISAS ETC)    277200.00\n",
              "Name: Valor, dtype: float64"
            ]
          },
          "metadata": {},
          "execution_count": 372
        }
      ]
    },
    {
      "cell_type": "code",
      "source": [
        "#plotando os os valores maiores\n",
        "despesas_tratadas.groupby(['CNPJ','Tipo']).Valor.sum().sort_values(ascending=False).head(3).plot.bar(figsize=(10,8),xlabel=\"TIPO DE GASTO\",ylabel=\"VALOR\")"
      ],
      "metadata": {
        "id": "NXTszv3WVZYo"
      },
      "execution_count": null,
      "outputs": []
    },
    {
      "cell_type": "code",
      "source": [
        "#plotando os 3 deputados que menos gastaram\n",
        "despesas_tratadas.groupby(['Deputado']).Valor.sum().sort_values().head(3).plot.bar(figsize=(10,8),xlabel=\"TIPO DE GASTO\",ylabel=\"VALOR\")"
      ],
      "metadata": {
        "id": "jcDsECK95GIG"
      },
      "execution_count": null,
      "outputs": []
    },
    {
      "cell_type": "code",
      "source": [
        "#plotando os 3 deputados que mais gastaram\n",
        "despesas_tratadas.groupby(['Deputado']).Valor.sum().sort_values(ascending=False).head(3).plot.bar(figsize=(10,8),xlabel=\"TIPO DE GASTO\",ylabel=\"VALOR\")"
      ],
      "metadata": {
        "id": "Nylq3Odh5yyu"
      },
      "execution_count": null,
      "outputs": []
    },
    {
      "cell_type": "code",
      "source": [
        ""
      ],
      "metadata": {
        "id": "GD6aMh8l96Jo"
      },
      "execution_count": null,
      "outputs": []
    },
    {
      "cell_type": "markdown",
      "source": [
        "##L --- Salvando e fazendo upload para o GCP"
      ],
      "metadata": {
        "id": "F2h_sQX86_kn"
      }
    },
    {
      "cell_type": "code",
      "source": [
        "#CÓDIGO QUE ACESSA A BUCKET CRIADA E FAZ O DOWNLOAD DOS ARQUIVOS VIA PANDAS\n",
        "client = storage.Client()\n",
        "#CRIAR UMA VARIÁVEL CHAMADA BUCKET QUE VAI RECEBER O NOME DA BUCKET DO CLOUD STORAGE\n",
        "bucket = client.get_bucket('felipesoulcode')"
      ],
      "metadata": {
        "id": "v-Gp2HEU69UV"
      },
      "execution_count": null,
      "outputs": []
    },
    {
      "cell_type": "code",
      "source": [
        "despesas_tratadas.to_csv('gs://felipesoulcode/tratados/despesas-tratadas.csv')"
      ],
      "metadata": {
        "id": "8nvHRaTw8k74"
      },
      "execution_count": null,
      "outputs": []
    }
  ]
}