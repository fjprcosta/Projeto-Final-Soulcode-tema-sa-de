{
  "cells": [
    {
      "cell_type": "markdown",
      "metadata": {
        "id": "view-in-github",
        "colab_type": "text"
      },
      "source": [
        "<a href=\"https://colab.research.google.com/github/fjprcosta/Projeto-Final-Soulcode-tema-sa-de/blob/main/proj_final.ipynb\" target=\"_parent\"><img src=\"https://colab.research.google.com/assets/colab-badge.svg\" alt=\"Open In Colab\"/></a>"
      ]
    },
    {
      "cell_type": "markdown",
      "metadata": {
        "id": "6xJP6lbLNtJ3"
      },
      "source": [
        "##**IMPORTANDO AS BIBLIOTECAS/MÓDULOS**"
      ]
    },
    {
      "cell_type": "markdown",
      "metadata": {
        "id": "HP4AvZAWPZaS"
      },
      "source": [
        "* gcsfs -> conexão com o GCP\n",
        "* pymongo -> Conexão com o MongoDB\n",
        "* pandas -> manipulação e análise de dados\n",
        "* pyspark -> framework para processar grandes quantidades de dados\n",
        "* fsspec -> projeto para fornecer uma interface Python unificada para sistemas de arquivos locais, remotos e incorporados e armazenamento de bytes.\n",
        "* pandera -> validação de schema"
      ]
    },
    {
      "cell_type": "code",
      "execution_count": null,
      "metadata": {
        "colab": {
          "base_uri": "https://localhost:8080/"
        },
        "id": "vI5HjLjZTSBI",
        "outputId": "117ad2d4-3054-4efc-a26e-1551ea104e38"
      },
      "outputs": [
        {
          "name": "stdout",
          "output_type": "stream",
          "text": [
            "Looking in indexes: https://pypi.org/simple, https://us-python.pkg.dev/colab-wheels/public/simple/\n",
            "Collecting gcsfs\n",
            "  Downloading gcsfs-2022.5.0-py2.py3-none-any.whl (25 kB)\n",
            "Requirement already satisfied: google-cloud-storage in /usr/local/lib/python3.7/dist-packages (from gcsfs) (1.18.1)\n",
            "Requirement already satisfied: google-auth>=1.2 in /usr/local/lib/python3.7/dist-packages (from gcsfs) (1.35.0)\n",
            "Collecting aiohttp<4\n",
            "  Downloading aiohttp-3.8.1-cp37-cp37m-manylinux_2_5_x86_64.manylinux1_x86_64.manylinux_2_12_x86_64.manylinux2010_x86_64.whl (1.1 MB)\n",
            "\u001b[K     |████████████████████████████████| 1.1 MB 11.7 MB/s \n",
            "\u001b[?25hCollecting fsspec==2022.5.0\n",
            "  Downloading fsspec-2022.5.0-py3-none-any.whl (140 kB)\n",
            "\u001b[K     |████████████████████████████████| 140 kB 45.6 MB/s \n",
            "\u001b[?25hRequirement already satisfied: google-auth-oauthlib in /usr/local/lib/python3.7/dist-packages (from gcsfs) (0.4.6)\n",
            "Requirement already satisfied: requests in /usr/local/lib/python3.7/dist-packages (from gcsfs) (2.23.0)\n",
            "Requirement already satisfied: decorator>4.1.2 in /usr/local/lib/python3.7/dist-packages (from gcsfs) (4.4.2)\n",
            "Collecting yarl<2.0,>=1.0\n",
            "  Downloading yarl-1.7.2-cp37-cp37m-manylinux_2_5_x86_64.manylinux1_x86_64.manylinux_2_12_x86_64.manylinux2010_x86_64.whl (271 kB)\n",
            "\u001b[K     |████████████████████████████████| 271 kB 59.7 MB/s \n",
            "\u001b[?25hRequirement already satisfied: typing-extensions>=3.7.4 in /usr/local/lib/python3.7/dist-packages (from aiohttp<4->gcsfs) (4.2.0)\n",
            "Collecting frozenlist>=1.1.1\n",
            "  Downloading frozenlist-1.3.0-cp37-cp37m-manylinux_2_5_x86_64.manylinux1_x86_64.manylinux_2_17_x86_64.manylinux2014_x86_64.whl (144 kB)\n",
            "\u001b[K     |████████████████████████████████| 144 kB 47.0 MB/s \n",
            "\u001b[?25hCollecting asynctest==0.13.0\n",
            "  Downloading asynctest-0.13.0-py3-none-any.whl (26 kB)\n",
            "Requirement already satisfied: attrs>=17.3.0 in /usr/local/lib/python3.7/dist-packages (from aiohttp<4->gcsfs) (21.4.0)\n",
            "Collecting multidict<7.0,>=4.5\n",
            "  Downloading multidict-6.0.2-cp37-cp37m-manylinux_2_17_x86_64.manylinux2014_x86_64.whl (94 kB)\n",
            "\u001b[K     |████████████████████████████████| 94 kB 507 kB/s \n",
            "\u001b[?25hRequirement already satisfied: charset-normalizer<3.0,>=2.0 in /usr/local/lib/python3.7/dist-packages (from aiohttp<4->gcsfs) (2.0.12)\n",
            "Collecting async-timeout<5.0,>=4.0.0a3\n",
            "  Downloading async_timeout-4.0.2-py3-none-any.whl (5.8 kB)\n",
            "Collecting aiosignal>=1.1.2\n",
            "  Downloading aiosignal-1.2.0-py3-none-any.whl (8.2 kB)\n",
            "Requirement already satisfied: six>=1.9.0 in /usr/local/lib/python3.7/dist-packages (from google-auth>=1.2->gcsfs) (1.15.0)\n",
            "Requirement already satisfied: cachetools<5.0,>=2.0.0 in /usr/local/lib/python3.7/dist-packages (from google-auth>=1.2->gcsfs) (4.2.4)\n",
            "Requirement already satisfied: setuptools>=40.3.0 in /usr/local/lib/python3.7/dist-packages (from google-auth>=1.2->gcsfs) (57.4.0)\n",
            "Requirement already satisfied: pyasn1-modules>=0.2.1 in /usr/local/lib/python3.7/dist-packages (from google-auth>=1.2->gcsfs) (0.2.8)\n",
            "Requirement already satisfied: rsa<5,>=3.1.4 in /usr/local/lib/python3.7/dist-packages (from google-auth>=1.2->gcsfs) (4.8)\n",
            "Requirement already satisfied: pyasn1<0.5.0,>=0.4.6 in /usr/local/lib/python3.7/dist-packages (from pyasn1-modules>=0.2.1->google-auth>=1.2->gcsfs) (0.4.8)\n",
            "Requirement already satisfied: idna>=2.0 in /usr/local/lib/python3.7/dist-packages (from yarl<2.0,>=1.0->aiohttp<4->gcsfs) (2.10)\n",
            "Requirement already satisfied: requests-oauthlib>=0.7.0 in /usr/local/lib/python3.7/dist-packages (from google-auth-oauthlib->gcsfs) (1.3.1)\n",
            "Requirement already satisfied: oauthlib>=3.0.0 in /usr/local/lib/python3.7/dist-packages (from requests-oauthlib>=0.7.0->google-auth-oauthlib->gcsfs) (3.2.0)\n",
            "Requirement already satisfied: chardet<4,>=3.0.2 in /usr/local/lib/python3.7/dist-packages (from requests->gcsfs) (3.0.4)\n",
            "Requirement already satisfied: urllib3!=1.25.0,!=1.25.1,<1.26,>=1.21.1 in /usr/local/lib/python3.7/dist-packages (from requests->gcsfs) (1.24.3)\n",
            "Requirement already satisfied: certifi>=2017.4.17 in /usr/local/lib/python3.7/dist-packages (from requests->gcsfs) (2022.5.18.1)\n",
            "Requirement already satisfied: google-resumable-media<0.5.0dev,>=0.3.1 in /usr/local/lib/python3.7/dist-packages (from google-cloud-storage->gcsfs) (0.4.1)\n",
            "Requirement already satisfied: google-cloud-core<2.0dev,>=1.0.0 in /usr/local/lib/python3.7/dist-packages (from google-cloud-storage->gcsfs) (1.0.3)\n",
            "Requirement already satisfied: google-api-core<2.0.0dev,>=1.14.0 in /usr/local/lib/python3.7/dist-packages (from google-cloud-core<2.0dev,>=1.0.0->google-cloud-storage->gcsfs) (1.31.6)\n",
            "Requirement already satisfied: pytz in /usr/local/lib/python3.7/dist-packages (from google-api-core<2.0.0dev,>=1.14.0->google-cloud-core<2.0dev,>=1.0.0->google-cloud-storage->gcsfs) (2022.1)\n",
            "Requirement already satisfied: googleapis-common-protos<2.0dev,>=1.6.0 in /usr/local/lib/python3.7/dist-packages (from google-api-core<2.0.0dev,>=1.14.0->google-cloud-core<2.0dev,>=1.0.0->google-cloud-storage->gcsfs) (1.56.2)\n",
            "Requirement already satisfied: protobuf<4.0.0dev,>=3.12.0 in /usr/local/lib/python3.7/dist-packages (from google-api-core<2.0.0dev,>=1.14.0->google-cloud-core<2.0dev,>=1.0.0->google-cloud-storage->gcsfs) (3.17.3)\n",
            "Requirement already satisfied: packaging>=14.3 in /usr/local/lib/python3.7/dist-packages (from google-api-core<2.0.0dev,>=1.14.0->google-cloud-core<2.0dev,>=1.0.0->google-cloud-storage->gcsfs) (21.3)\n",
            "Requirement already satisfied: pyparsing!=3.0.5,>=2.0.2 in /usr/local/lib/python3.7/dist-packages (from packaging>=14.3->google-api-core<2.0.0dev,>=1.14.0->google-cloud-core<2.0dev,>=1.0.0->google-cloud-storage->gcsfs) (3.0.9)\n",
            "Installing collected packages: multidict, frozenlist, yarl, asynctest, async-timeout, aiosignal, fsspec, aiohttp, gcsfs\n",
            "Successfully installed aiohttp-3.8.1 aiosignal-1.2.0 async-timeout-4.0.2 asynctest-0.13.0 frozenlist-1.3.0 fsspec-2022.5.0 gcsfs-2022.5.0 multidict-6.0.2 yarl-1.7.2\n"
          ]
        }
      ],
      "source": [
        "!pip install gcsfs"
      ]
    },
    {
      "cell_type": "code",
      "execution_count": null,
      "metadata": {
        "colab": {
          "background_save": true,
          "base_uri": "https://localhost:8080/"
        },
        "id": "rd_AD8OSMEcN",
        "outputId": "8b6aedb6-3fd2-45ac-bab2-3747222f413e"
      },
      "outputs": [
        {
          "name": "stdout",
          "output_type": "stream",
          "text": [
            "Looking in indexes: https://pypi.org/simple, https://us-python.pkg.dev/colab-wheels/public/simple/\n",
            "Requirement already satisfied: pymongo in /usr/local/lib/python3.7/dist-packages (4.1.1)\n"
          ]
        }
      ],
      "source": [
        "!pip install pymongo "
      ]
    },
    {
      "cell_type": "code",
      "execution_count": null,
      "metadata": {
        "colab": {
          "background_save": true,
          "base_uri": "https://localhost:8080/"
        },
        "id": "aW3GfMOhTwpY",
        "outputId": "17941d44-3851-4df1-ede9-b63a76410146"
      },
      "outputs": [
        {
          "name": "stdout",
          "output_type": "stream",
          "text": [
            "Looking in indexes: https://pypi.org/simple, https://us-python.pkg.dev/colab-wheels/public/simple/\n",
            "Requirement already satisfied: pandas in /usr/local/lib/python3.7/dist-packages (1.3.5)\n",
            "Requirement already satisfied: numpy>=1.17.3 in /usr/local/lib/python3.7/dist-packages (from pandas) (1.21.6)\n",
            "Requirement already satisfied: python-dateutil>=2.7.3 in /usr/local/lib/python3.7/dist-packages (from pandas) (2.8.2)\n",
            "Requirement already satisfied: pytz>=2017.3 in /usr/local/lib/python3.7/dist-packages (from pandas) (2022.1)\n",
            "Requirement already satisfied: six>=1.5 in /usr/local/lib/python3.7/dist-packages (from python-dateutil>=2.7.3->pandas) (1.15.0)\n"
          ]
        }
      ],
      "source": [
        "!pip install pandas"
      ]
    },
    {
      "cell_type": "code",
      "execution_count": null,
      "metadata": {
        "colab": {
          "background_save": true,
          "base_uri": "https://localhost:8080/"
        },
        "id": "c_8_Nay9T0iA",
        "outputId": "849ed111-b7c7-444a-e466-46b1e2e3518b"
      },
      "outputs": [
        {
          "name": "stdout",
          "output_type": "stream",
          "text": [
            "Looking in indexes: https://pypi.org/simple, https://us-python.pkg.dev/colab-wheels/public/simple/\n",
            "Collecting pyspark\n",
            "  Downloading pyspark-3.3.0.tar.gz (281.3 MB)\n",
            "\u001b[K     |████████████████████████████████| 281.3 MB 45 kB/s \n",
            "\u001b[?25hCollecting py4j==0.10.9.5\n",
            "  Downloading py4j-0.10.9.5-py2.py3-none-any.whl (199 kB)\n",
            "\u001b[K     |████████████████████████████████| 199 kB 50.2 MB/s \n",
            "\u001b[?25hBuilding wheels for collected packages: pyspark\n",
            "  Building wheel for pyspark (setup.py) ... \u001b[?25l\u001b[?25hdone\n",
            "  Created wheel for pyspark: filename=pyspark-3.3.0-py2.py3-none-any.whl size=281764026 sha256=d1a64cdc1119e32164cf9b1179f1196a2aad918a1799d33f7eb0f153ebc1ea50\n",
            "  Stored in directory: /root/.cache/pip/wheels/7a/8e/1b/f73a52650d2e5f337708d9f6a1750d451a7349a867f928b885\n",
            "Successfully built pyspark\n",
            "Installing collected packages: py4j, pyspark\n",
            "Successfully installed py4j-0.10.9.5 pyspark-3.3.0\n"
          ]
        }
      ],
      "source": [
        "!pip install pyspark"
      ]
    },
    {
      "cell_type": "code",
      "execution_count": null,
      "metadata": {
        "colab": {
          "background_save": true,
          "base_uri": "https://localhost:8080/"
        },
        "id": "LyjETp1TTZLC",
        "outputId": "7dea1dd2-733e-4d5e-81c9-d7f457ecfadc"
      },
      "outputs": [
        {
          "name": "stdout",
          "output_type": "stream",
          "text": [
            "Looking in indexes: https://pypi.org/simple, https://us-python.pkg.dev/colab-wheels/public/simple/\n",
            "Requirement already satisfied: fsspec in /usr/local/lib/python3.7/dist-packages (2022.5.0)\n"
          ]
        }
      ],
      "source": [
        "pip install fsspec"
      ]
    },
    {
      "cell_type": "code",
      "execution_count": null,
      "metadata": {
        "colab": {
          "background_save": true,
          "base_uri": "https://localhost:8080/"
        },
        "id": "FXQixuxC0uNI",
        "outputId": "4904246e-b0c0-435f-885e-f361a66ec9d8"
      },
      "outputs": [
        {
          "name": "stdout",
          "output_type": "stream",
          "text": [
            "Looking in indexes: https://pypi.org/simple, https://us-python.pkg.dev/colab-wheels/public/simple/\n",
            "Collecting pandera\n",
            "  Downloading pandera-0.9.0-py3-none-any.whl (197 kB)\n",
            "\u001b[K     |████████████████████████████████| 197 kB 7.1 MB/s \n",
            "\u001b[?25hRequirement already satisfied: packaging>=20.0 in /usr/local/lib/python3.7/dist-packages (from pandera) (21.3)\n",
            "Requirement already satisfied: numpy>=1.9.0 in /usr/local/lib/python3.7/dist-packages (from pandera) (1.21.6)\n",
            "Collecting typing-inspect>=0.6.0\n",
            "  Downloading typing_inspect-0.7.1-py3-none-any.whl (8.4 kB)\n",
            "Requirement already satisfied: pandas>=1.0 in /usr/local/lib/python3.7/dist-packages (from pandera) (1.3.5)\n",
            "Requirement already satisfied: typing-extensions>=3.7.4.3 in /usr/local/lib/python3.7/dist-packages (from pandera) (4.1.1)\n",
            "Requirement already satisfied: wrapt in /usr/local/lib/python3.7/dist-packages (from pandera) (1.14.1)\n",
            "Requirement already satisfied: pydantic in /usr/local/lib/python3.7/dist-packages (from pandera) (1.8.2)\n",
            "Requirement already satisfied: pyarrow in /usr/local/lib/python3.7/dist-packages (from pandera) (6.0.1)\n",
            "Requirement already satisfied: pyparsing!=3.0.5,>=2.0.2 in /usr/local/lib/python3.7/dist-packages (from packaging>=20.0->pandera) (3.0.9)\n",
            "Requirement already satisfied: pytz>=2017.3 in /usr/local/lib/python3.7/dist-packages (from pandas>=1.0->pandera) (2022.1)\n",
            "Requirement already satisfied: python-dateutil>=2.7.3 in /usr/local/lib/python3.7/dist-packages (from pandas>=1.0->pandera) (2.8.2)\n",
            "Requirement already satisfied: six>=1.5 in /usr/local/lib/python3.7/dist-packages (from python-dateutil>=2.7.3->pandas>=1.0->pandera) (1.15.0)\n",
            "Collecting mypy-extensions>=0.3.0\n",
            "  Downloading mypy_extensions-0.4.3-py2.py3-none-any.whl (4.5 kB)\n",
            "Installing collected packages: mypy-extensions, typing-inspect, pandera\n",
            "Successfully installed mypy-extensions-0.4.3 pandera-0.9.0 typing-inspect-0.7.1\n"
          ]
        }
      ],
      "source": [
        "pip install pandera"
      ]
    },
    {
      "cell_type": "markdown",
      "metadata": {
        "id": "ONWDrEqtMygF"
      },
      "source": [
        "\n",
        "\n",
        "* psycopg2 -> Adaptador Postgres\n",
        "* requests -> Solicitações HTTP em Python\n",
        "* pymongo -> Conexão com o MongoDB\n",
        "* sqlalchemy -> Mapeamento Objeto Relacional\n",
        "* datetime -> fornece as classes para manipulação de datas e horas\n",
        "* csv -> ler e gravar arquivos .csv\n",
        "* collections -> trabalhar com dados de maneira eficiente\n",
        "* numpy -> processamento de grandes, multi-dimensionais arranjos e matrizes, juntamente com uma grande coleção de funções matemáticas de alto nível para operar sobre estas matrizes\n",
        "* pandera -> validação do schema\n"
      ]
    },
    {
      "cell_type": "code",
      "execution_count": null,
      "metadata": {
        "colab": {
          "background_save": true,
          "base_uri": "https://localhost:8080/",
          "height": 1000
        },
        "id": "4viikXsMH-cb",
        "outputId": "b5d3ba13-a556-4d9b-b3a6-9a8a060b4865"
      },
      "outputs": [
        {
          "name": "stdout",
          "output_type": "stream",
          "text": [
            "Looking in indexes: https://pypi.org/simple, https://us-python.pkg.dev/colab-wheels/public/simple/\n",
            "Collecting apache-beam[interactive]\n",
            "  Downloading apache_beam-2.39.0-cp37-cp37m-manylinux2010_x86_64.whl (10.3 MB)\n",
            "\u001b[K     |████████████████████████████████| 10.3 MB 9.7 MB/s \n",
            "\u001b[?25hRequirement already satisfied: pytz>=2018.3 in /usr/local/lib/python3.7/dist-packages (from apache-beam[interactive]) (2022.1)\n",
            "Requirement already satisfied: crcmod<2.0,>=1.7 in /usr/local/lib/python3.7/dist-packages (from apache-beam[interactive]) (1.7)\n",
            "Requirement already satisfied: grpcio<2,>=1.29.0 in /usr/local/lib/python3.7/dist-packages (from apache-beam[interactive]) (1.46.3)\n",
            "Requirement already satisfied: pydot<2,>=1.2.0 in /usr/local/lib/python3.7/dist-packages (from apache-beam[interactive]) (1.3.0)\n",
            "Collecting dill<0.3.2,>=0.3.1.1\n",
            "  Downloading dill-0.3.1.1.tar.gz (151 kB)\n",
            "\u001b[K     |████████████████████████████████| 151 kB 53.5 MB/s \n",
            "\u001b[?25hCollecting hdfs<3.0.0,>=2.1.0\n",
            "  Downloading hdfs-2.7.0-py3-none-any.whl (34 kB)\n",
            "Requirement already satisfied: numpy<1.23.0,>=1.14.3 in /usr/local/lib/python3.7/dist-packages (from apache-beam[interactive]) (1.21.6)\n",
            "Collecting pymongo<4.0.0,>=3.8.0\n",
            "  Downloading pymongo-3.12.3-cp37-cp37m-manylinux_2_17_x86_64.manylinux2014_x86_64.whl (508 kB)\n",
            "\u001b[K     |████████████████████████████████| 508 kB 65.8 MB/s \n",
            "\u001b[?25hRequirement already satisfied: protobuf<4,>=3.12.2 in /usr/local/lib/python3.7/dist-packages (from apache-beam[interactive]) (3.17.3)\n",
            "Requirement already satisfied: pyarrow<8.0.0,>=0.15.1 in /usr/local/lib/python3.7/dist-packages (from apache-beam[interactive]) (6.0.1)\n",
            "Requirement already satisfied: python-dateutil<3,>=2.8.0 in /usr/local/lib/python3.7/dist-packages (from apache-beam[interactive]) (2.8.2)\n",
            "Requirement already satisfied: typing-extensions>=3.7.0 in /usr/local/lib/python3.7/dist-packages (from apache-beam[interactive]) (4.1.1)\n",
            "Collecting requests<3.0.0,>=2.24.0\n",
            "  Downloading requests-2.28.0-py3-none-any.whl (62 kB)\n",
            "\u001b[K     |████████████████████████████████| 62 kB 1.5 MB/s \n",
            "\u001b[?25hCollecting orjson<4.0\n",
            "  Downloading orjson-3.7.2-cp37-cp37m-manylinux_2_17_x86_64.manylinux2014_x86_64.whl (256 kB)\n",
            "\u001b[K     |████████████████████████████████| 256 kB 50.1 MB/s \n",
            "\u001b[?25hCollecting proto-plus<2,>=1.7.1\n",
            "  Downloading proto_plus-1.20.6-py3-none-any.whl (46 kB)\n",
            "\u001b[K     |████████████████████████████████| 46 kB 3.5 MB/s \n",
            "\u001b[?25hRequirement already satisfied: httplib2<0.20.0,>=0.8 in /usr/local/lib/python3.7/dist-packages (from apache-beam[interactive]) (0.17.4)\n",
            "Collecting fastavro<2,>=0.23.6\n",
            "  Downloading fastavro-1.5.1-cp37-cp37m-manylinux_2_17_x86_64.manylinux2014_x86_64.whl (2.3 MB)\n",
            "\u001b[K     |████████████████████████████████| 2.3 MB 47.7 MB/s \n",
            "\u001b[?25hCollecting cloudpickle<3,>=2.0.0\n",
            "  Downloading cloudpickle-2.1.0-py3-none-any.whl (25 kB)\n",
            "Collecting ipykernel<7,>=6\n",
            "  Downloading ipykernel-6.15.0-py3-none-any.whl (133 kB)\n",
            "\u001b[K     |████████████████████████████████| 133 kB 9.6 MB/s \n",
            "\u001b[?25hRequirement already satisfied: ipywidgets<8,>=7.6.5 in /usr/local/lib/python3.7/dist-packages (from apache-beam[interactive]) (7.7.0)\n",
            "Collecting facets-overview<2,>=1.0.0\n",
            "  Downloading facets_overview-1.0.0-py2.py3-none-any.whl (24 kB)\n",
            "Collecting jupyter-client<6.1.13,>=6.1.11\n",
            "  Downloading jupyter_client-6.1.12-py3-none-any.whl (112 kB)\n",
            "\u001b[K     |████████████████████████████████| 112 kB 9.7 MB/s \n",
            "\u001b[?25hCollecting timeloop<2,>=1.0.2\n",
            "  Downloading timeloop-1.0.2.tar.gz (2.9 kB)\n",
            "Collecting google-cloud-dataproc<3.2.0,>=3.0.0\n",
            "  Downloading google_cloud_dataproc-3.1.1-py2.py3-none-any.whl (186 kB)\n",
            "\u001b[K     |████████████████████████████████| 186 kB 10.4 MB/s \n",
            "\u001b[?25hCollecting ipython<8,>=7\n",
            "  Downloading ipython-7.34.0-py3-none-any.whl (793 kB)\n",
            "\u001b[K     |████████████████████████████████| 793 kB 12.2 MB/s \n",
            "\u001b[?25hRequirement already satisfied: pandas>=0.22.0 in /usr/local/lib/python3.7/dist-packages (from facets-overview<2,>=1.0.0->apache-beam[interactive]) (1.3.5)\n",
            "Requirement already satisfied: google-api-core[grpc]<3.0.0dev,>=1.28.0 in /usr/local/lib/python3.7/dist-packages (from google-cloud-dataproc<3.2.0,>=3.0.0->apache-beam[interactive]) (1.31.6)\n",
            "Requirement already satisfied: google-auth<2.0dev,>=1.25.0 in /usr/local/lib/python3.7/dist-packages (from google-api-core[grpc]<3.0.0dev,>=1.28.0->google-cloud-dataproc<3.2.0,>=3.0.0->apache-beam[interactive]) (1.35.0)\n",
            "Requirement already satisfied: packaging>=14.3 in /usr/local/lib/python3.7/dist-packages (from google-api-core[grpc]<3.0.0dev,>=1.28.0->google-cloud-dataproc<3.2.0,>=3.0.0->apache-beam[interactive]) (21.3)\n",
            "Requirement already satisfied: six>=1.13.0 in /usr/local/lib/python3.7/dist-packages (from google-api-core[grpc]<3.0.0dev,>=1.28.0->google-cloud-dataproc<3.2.0,>=3.0.0->apache-beam[interactive]) (1.15.0)\n",
            "Requirement already satisfied: setuptools>=40.3.0 in /usr/local/lib/python3.7/dist-packages (from google-api-core[grpc]<3.0.0dev,>=1.28.0->google-cloud-dataproc<3.2.0,>=3.0.0->apache-beam[interactive]) (57.4.0)\n",
            "Requirement already satisfied: googleapis-common-protos<2.0dev,>=1.6.0 in /usr/local/lib/python3.7/dist-packages (from google-api-core[grpc]<3.0.0dev,>=1.28.0->google-cloud-dataproc<3.2.0,>=3.0.0->apache-beam[interactive]) (1.56.2)\n",
            "Requirement already satisfied: rsa<5,>=3.1.4 in /usr/local/lib/python3.7/dist-packages (from google-auth<2.0dev,>=1.25.0->google-api-core[grpc]<3.0.0dev,>=1.28.0->google-cloud-dataproc<3.2.0,>=3.0.0->apache-beam[interactive]) (4.8)\n",
            "Requirement already satisfied: cachetools<5.0,>=2.0.0 in /usr/local/lib/python3.7/dist-packages (from google-auth<2.0dev,>=1.25.0->google-api-core[grpc]<3.0.0dev,>=1.28.0->google-cloud-dataproc<3.2.0,>=3.0.0->apache-beam[interactive]) (4.2.4)\n",
            "Requirement already satisfied: pyasn1-modules>=0.2.1 in /usr/local/lib/python3.7/dist-packages (from google-auth<2.0dev,>=1.25.0->google-api-core[grpc]<3.0.0dev,>=1.28.0->google-cloud-dataproc<3.2.0,>=3.0.0->apache-beam[interactive]) (0.2.8)\n",
            "Requirement already satisfied: docopt in /usr/local/lib/python3.7/dist-packages (from hdfs<3.0.0,>=2.1.0->apache-beam[interactive]) (0.6.2)\n",
            "Requirement already satisfied: pyzmq>=17 in /usr/local/lib/python3.7/dist-packages (from ipykernel<7,>=6->apache-beam[interactive]) (23.1.0)\n",
            "Requirement already satisfied: traitlets>=5.1.0 in /usr/local/lib/python3.7/dist-packages (from ipykernel<7,>=6->apache-beam[interactive]) (5.1.1)\n",
            "Requirement already satisfied: matplotlib-inline>=0.1 in /usr/local/lib/python3.7/dist-packages (from ipykernel<7,>=6->apache-beam[interactive]) (0.1.3)\n",
            "Requirement already satisfied: psutil in /usr/local/lib/python3.7/dist-packages (from ipykernel<7,>=6->apache-beam[interactive]) (5.4.8)\n",
            "Collecting tornado>=6.1\n",
            "  Downloading tornado-6.1-cp37-cp37m-manylinux2010_x86_64.whl (428 kB)\n",
            "\u001b[K     |████████████████████████████████| 428 kB 14.5 MB/s \n",
            "\u001b[?25hRequirement already satisfied: nest-asyncio in /usr/local/lib/python3.7/dist-packages (from ipykernel<7,>=6->apache-beam[interactive]) (1.5.5)\n",
            "Requirement already satisfied: debugpy>=1.0 in /usr/local/lib/python3.7/dist-packages (from ipykernel<7,>=6->apache-beam[interactive]) (1.0.0)\n",
            "Collecting prompt-toolkit!=3.0.0,!=3.0.1,<3.1.0,>=2.0.0\n",
            "  Downloading prompt_toolkit-3.0.29-py3-none-any.whl (381 kB)\n",
            "\u001b[K     |████████████████████████████████| 381 kB 16.7 MB/s \n",
            "\u001b[?25hRequirement already satisfied: decorator in /usr/local/lib/python3.7/dist-packages (from ipython<8,>=7->apache-beam[interactive]) (4.4.2)\n",
            "Requirement already satisfied: backcall in /usr/local/lib/python3.7/dist-packages (from ipython<8,>=7->apache-beam[interactive]) (0.2.0)\n",
            "Requirement already satisfied: pexpect>4.3 in /usr/local/lib/python3.7/dist-packages (from ipython<8,>=7->apache-beam[interactive]) (4.8.0)\n",
            "Requirement already satisfied: pickleshare in /usr/local/lib/python3.7/dist-packages (from ipython<8,>=7->apache-beam[interactive]) (0.7.5)\n",
            "Requirement already satisfied: jedi>=0.16 in /usr/local/lib/python3.7/dist-packages (from ipython<8,>=7->apache-beam[interactive]) (0.18.1)\n",
            "Requirement already satisfied: pygments in /usr/local/lib/python3.7/dist-packages (from ipython<8,>=7->apache-beam[interactive]) (2.6.1)\n",
            "Requirement already satisfied: ipython-genutils~=0.2.0 in /usr/local/lib/python3.7/dist-packages (from ipywidgets<8,>=7.6.5->apache-beam[interactive]) (0.2.0)\n",
            "Requirement already satisfied: nbformat>=4.2.0 in /usr/local/lib/python3.7/dist-packages (from ipywidgets<8,>=7.6.5->apache-beam[interactive]) (5.4.0)\n",
            "Requirement already satisfied: jupyterlab-widgets>=1.0.0 in /usr/local/lib/python3.7/dist-packages (from ipywidgets<8,>=7.6.5->apache-beam[interactive]) (1.1.0)\n",
            "Requirement already satisfied: widgetsnbextension~=3.6.0 in /usr/local/lib/python3.7/dist-packages (from ipywidgets<8,>=7.6.5->apache-beam[interactive]) (3.6.0)\n",
            "Requirement already satisfied: parso<0.9.0,>=0.8.0 in /usr/local/lib/python3.7/dist-packages (from jedi>=0.16->ipython<8,>=7->apache-beam[interactive]) (0.8.3)\n",
            "Requirement already satisfied: jupyter-core>=4.6.0 in /usr/local/lib/python3.7/dist-packages (from jupyter-client<6.1.13,>=6.1.11->apache-beam[interactive]) (4.10.0)\n",
            "Requirement already satisfied: jsonschema>=2.6 in /usr/local/lib/python3.7/dist-packages (from nbformat>=4.2.0->ipywidgets<8,>=7.6.5->apache-beam[interactive]) (4.3.3)\n",
            "Requirement already satisfied: fastjsonschema in /usr/local/lib/python3.7/dist-packages (from nbformat>=4.2.0->ipywidgets<8,>=7.6.5->apache-beam[interactive]) (2.15.3)\n",
            "Requirement already satisfied: pyrsistent!=0.17.0,!=0.17.1,!=0.17.2,>=0.14.0 in /usr/local/lib/python3.7/dist-packages (from jsonschema>=2.6->nbformat>=4.2.0->ipywidgets<8,>=7.6.5->apache-beam[interactive]) (0.18.1)\n",
            "Requirement already satisfied: importlib-resources>=1.4.0 in /usr/local/lib/python3.7/dist-packages (from jsonschema>=2.6->nbformat>=4.2.0->ipywidgets<8,>=7.6.5->apache-beam[interactive]) (5.7.1)\n",
            "Requirement already satisfied: importlib-metadata in /usr/local/lib/python3.7/dist-packages (from jsonschema>=2.6->nbformat>=4.2.0->ipywidgets<8,>=7.6.5->apache-beam[interactive]) (4.11.4)\n",
            "Requirement already satisfied: attrs>=17.4.0 in /usr/local/lib/python3.7/dist-packages (from jsonschema>=2.6->nbformat>=4.2.0->ipywidgets<8,>=7.6.5->apache-beam[interactive]) (21.4.0)\n",
            "Requirement already satisfied: zipp>=3.1.0 in /usr/local/lib/python3.7/dist-packages (from importlib-resources>=1.4.0->jsonschema>=2.6->nbformat>=4.2.0->ipywidgets<8,>=7.6.5->apache-beam[interactive]) (3.8.0)\n",
            "Requirement already satisfied: pyparsing!=3.0.5,>=2.0.2 in /usr/local/lib/python3.7/dist-packages (from packaging>=14.3->google-api-core[grpc]<3.0.0dev,>=1.28.0->google-cloud-dataproc<3.2.0,>=3.0.0->apache-beam[interactive]) (3.0.9)\n",
            "Requirement already satisfied: ptyprocess>=0.5 in /usr/local/lib/python3.7/dist-packages (from pexpect>4.3->ipython<8,>=7->apache-beam[interactive]) (0.7.0)\n",
            "Requirement already satisfied: wcwidth in /usr/local/lib/python3.7/dist-packages (from prompt-toolkit!=3.0.0,!=3.0.1,<3.1.0,>=2.0.0->ipython<8,>=7->apache-beam[interactive]) (0.2.5)\n",
            "Collecting protobuf<4,>=3.12.2\n",
            "  Downloading protobuf-3.20.1-cp37-cp37m-manylinux_2_5_x86_64.manylinux1_x86_64.whl (1.0 MB)\n",
            "\u001b[K     |████████████████████████████████| 1.0 MB 14.3 MB/s \n",
            "\u001b[?25hRequirement already satisfied: pyasn1<0.5.0,>=0.4.6 in /usr/local/lib/python3.7/dist-packages (from pyasn1-modules>=0.2.1->google-auth<2.0dev,>=1.25.0->google-api-core[grpc]<3.0.0dev,>=1.28.0->google-cloud-dataproc<3.2.0,>=3.0.0->apache-beam[interactive]) (0.4.8)\n",
            "Requirement already satisfied: urllib3<1.27,>=1.21.1 in /usr/local/lib/python3.7/dist-packages (from requests<3.0.0,>=2.24.0->apache-beam[interactive]) (1.24.3)\n",
            "Requirement already satisfied: certifi>=2017.4.17 in /usr/local/lib/python3.7/dist-packages (from requests<3.0.0,>=2.24.0->apache-beam[interactive]) (2022.6.15)\n",
            "Requirement already satisfied: idna<4,>=2.5 in /usr/local/lib/python3.7/dist-packages (from requests<3.0.0,>=2.24.0->apache-beam[interactive]) (2.10)\n",
            "Requirement already satisfied: charset-normalizer~=2.0.0 in /usr/local/lib/python3.7/dist-packages (from requests<3.0.0,>=2.24.0->apache-beam[interactive]) (2.0.12)\n",
            "Requirement already satisfied: notebook>=4.4.1 in /usr/local/lib/python3.7/dist-packages (from widgetsnbextension~=3.6.0->ipywidgets<8,>=7.6.5->apache-beam[interactive]) (5.3.1)\n",
            "Requirement already satisfied: nbconvert in /usr/local/lib/python3.7/dist-packages (from notebook>=4.4.1->widgetsnbextension~=3.6.0->ipywidgets<8,>=7.6.5->apache-beam[interactive]) (5.6.1)\n",
            "Requirement already satisfied: terminado>=0.8.1 in /usr/local/lib/python3.7/dist-packages (from notebook>=4.4.1->widgetsnbextension~=3.6.0->ipywidgets<8,>=7.6.5->apache-beam[interactive]) (0.13.3)\n",
            "Requirement already satisfied: Send2Trash in /usr/local/lib/python3.7/dist-packages (from notebook>=4.4.1->widgetsnbextension~=3.6.0->ipywidgets<8,>=7.6.5->apache-beam[interactive]) (1.8.0)\n",
            "Requirement already satisfied: jinja2 in /usr/local/lib/python3.7/dist-packages (from notebook>=4.4.1->widgetsnbextension~=3.6.0->ipywidgets<8,>=7.6.5->apache-beam[interactive]) (2.11.3)\n",
            "Requirement already satisfied: MarkupSafe>=0.23 in /usr/local/lib/python3.7/dist-packages (from jinja2->notebook>=4.4.1->widgetsnbextension~=3.6.0->ipywidgets<8,>=7.6.5->apache-beam[interactive]) (2.0.1)\n",
            "Requirement already satisfied: mistune<2,>=0.8.1 in /usr/local/lib/python3.7/dist-packages (from nbconvert->notebook>=4.4.1->widgetsnbextension~=3.6.0->ipywidgets<8,>=7.6.5->apache-beam[interactive]) (0.8.4)\n",
            "Requirement already satisfied: entrypoints>=0.2.2 in /usr/local/lib/python3.7/dist-packages (from nbconvert->notebook>=4.4.1->widgetsnbextension~=3.6.0->ipywidgets<8,>=7.6.5->apache-beam[interactive]) (0.4)\n",
            "Requirement already satisfied: bleach in /usr/local/lib/python3.7/dist-packages (from nbconvert->notebook>=4.4.1->widgetsnbextension~=3.6.0->ipywidgets<8,>=7.6.5->apache-beam[interactive]) (5.0.0)\n",
            "Requirement already satisfied: defusedxml in /usr/local/lib/python3.7/dist-packages (from nbconvert->notebook>=4.4.1->widgetsnbextension~=3.6.0->ipywidgets<8,>=7.6.5->apache-beam[interactive]) (0.7.1)\n",
            "Requirement already satisfied: pandocfilters>=1.4.1 in /usr/local/lib/python3.7/dist-packages (from nbconvert->notebook>=4.4.1->widgetsnbextension~=3.6.0->ipywidgets<8,>=7.6.5->apache-beam[interactive]) (1.5.0)\n",
            "Requirement already satisfied: testpath in /usr/local/lib/python3.7/dist-packages (from nbconvert->notebook>=4.4.1->widgetsnbextension~=3.6.0->ipywidgets<8,>=7.6.5->apache-beam[interactive]) (0.6.0)\n",
            "Requirement already satisfied: webencodings in /usr/local/lib/python3.7/dist-packages (from bleach->nbconvert->notebook>=4.4.1->widgetsnbextension~=3.6.0->ipywidgets<8,>=7.6.5->apache-beam[interactive]) (0.5.1)\n",
            "Building wheels for collected packages: dill, timeloop\n",
            "  Building wheel for dill (setup.py) ... \u001b[?25l\u001b[?25hdone\n",
            "  Created wheel for dill: filename=dill-0.3.1.1-py3-none-any.whl size=78544 sha256=200283785e3bf57668222728fdb9463e9e9e3244b915fc064b1cf21a5c0b7140\n",
            "  Stored in directory: /root/.cache/pip/wheels/a4/61/fd/c57e374e580aa78a45ed78d5859b3a44436af17e22ca53284f\n",
            "  Building wheel for timeloop (setup.py) ... \u001b[?25l\u001b[?25hdone\n",
            "  Created wheel for timeloop: filename=timeloop-1.0.2-py3-none-any.whl size=3720 sha256=ee06a6b28c7b4641cec5fe76703a20f0d89333660aec2ecc89ebb33a29d3f3a5\n",
            "  Stored in directory: /root/.cache/pip/wheels/3a/7e/fc/5e4d6da12b9ab6550604412936723ec6f2faf7391dd6726a01\n",
            "Successfully built dill timeloop\n",
            "Installing collected packages: tornado, prompt-toolkit, protobuf, jupyter-client, ipython, requests, ipykernel, pymongo, proto-plus, orjson, hdfs, fastavro, dill, cloudpickle, timeloop, google-cloud-dataproc, facets-overview, apache-beam\n",
            "  Attempting uninstall: tornado\n",
            "    Found existing installation: tornado 5.1.1\n",
            "    Uninstalling tornado-5.1.1:\n",
            "      Successfully uninstalled tornado-5.1.1\n",
            "  Attempting uninstall: prompt-toolkit\n",
            "    Found existing installation: prompt-toolkit 1.0.18\n",
            "    Uninstalling prompt-toolkit-1.0.18:\n",
            "      Successfully uninstalled prompt-toolkit-1.0.18\n",
            "  Attempting uninstall: protobuf\n",
            "    Found existing installation: protobuf 3.17.3\n",
            "    Uninstalling protobuf-3.17.3:\n",
            "      Successfully uninstalled protobuf-3.17.3\n",
            "  Attempting uninstall: jupyter-client\n",
            "    Found existing installation: jupyter-client 5.3.5\n",
            "    Uninstalling jupyter-client-5.3.5:\n",
            "      Successfully uninstalled jupyter-client-5.3.5\n",
            "  Attempting uninstall: ipython\n",
            "    Found existing installation: ipython 5.5.0\n",
            "    Uninstalling ipython-5.5.0:\n",
            "      Successfully uninstalled ipython-5.5.0\n",
            "  Attempting uninstall: requests\n",
            "    Found existing installation: requests 2.23.0\n",
            "    Uninstalling requests-2.23.0:\n",
            "      Successfully uninstalled requests-2.23.0\n",
            "  Attempting uninstall: ipykernel\n",
            "    Found existing installation: ipykernel 4.10.1\n",
            "    Uninstalling ipykernel-4.10.1:\n",
            "      Successfully uninstalled ipykernel-4.10.1\n",
            "  Attempting uninstall: pymongo\n",
            "    Found existing installation: pymongo 4.1.1\n",
            "    Uninstalling pymongo-4.1.1:\n",
            "      Successfully uninstalled pymongo-4.1.1\n",
            "  Attempting uninstall: dill\n",
            "    Found existing installation: dill 0.3.5.1\n",
            "    Uninstalling dill-0.3.5.1:\n",
            "      Successfully uninstalled dill-0.3.5.1\n",
            "  Attempting uninstall: cloudpickle\n",
            "    Found existing installation: cloudpickle 1.3.0\n",
            "    Uninstalling cloudpickle-1.3.0:\n",
            "      Successfully uninstalled cloudpickle-1.3.0\n",
            "\u001b[31mERROR: pip's dependency resolver does not currently take into account all the packages that are installed. This behaviour is the source of the following dependency conflicts.\n",
            "tensorflow 2.8.2+zzzcolab20220527125636 requires protobuf<3.20,>=3.9.2, but you have protobuf 3.20.1 which is incompatible.\n",
            "nbclient 0.6.4 requires traitlets>=5.2.2, but you have traitlets 5.1.1 which is incompatible.\n",
            "multiprocess 0.70.13 requires dill>=0.3.5.1, but you have dill 0.3.1.1 which is incompatible.\n",
            "jupyter-console 5.2.0 requires prompt-toolkit<2.0.0,>=1.0.0, but you have prompt-toolkit 3.0.29 which is incompatible.\n",
            "gym 0.17.3 requires cloudpickle<1.7.0,>=1.2.0, but you have cloudpickle 2.1.0 which is incompatible.\n",
            "google-colab 1.0.0 requires ipykernel~=4.10, but you have ipykernel 6.15.0 which is incompatible.\n",
            "google-colab 1.0.0 requires ipython~=5.5.0, but you have ipython 7.34.0 which is incompatible.\n",
            "google-colab 1.0.0 requires requests~=2.23.0, but you have requests 2.28.0 which is incompatible.\n",
            "google-colab 1.0.0 requires tornado~=5.1.0; python_version >= \"3.0\", but you have tornado 6.1 which is incompatible.\n",
            "datascience 0.10.6 requires folium==0.2.1, but you have folium 0.8.3 which is incompatible.\u001b[0m\n",
            "Successfully installed apache-beam-2.39.0 cloudpickle-2.1.0 dill-0.3.1.1 facets-overview-1.0.0 fastavro-1.5.1 google-cloud-dataproc-3.1.1 hdfs-2.7.0 ipykernel-6.15.0 ipython-7.34.0 jupyter-client-6.1.12 orjson-3.7.2 prompt-toolkit-3.0.29 proto-plus-1.20.6 protobuf-3.20.1 pymongo-3.12.3 requests-2.28.0 timeloop-1.0.2 tornado-6.1\n"
          ]
        },
        {
          "data": {
            "application/vnd.colab-display-data+json": {
              "pip_warning": {
                "packages": [
                  "IPython",
                  "google",
                  "jupyter_client",
                  "prompt_toolkit",
                  "tornado"
                ]
              }
            }
          },
          "metadata": {},
          "output_type": "display_data"
        }
      ],
      "source": [
        "pip install apache-beam[interactive]"
      ]
    },
    {
      "cell_type": "code",
      "execution_count": null,
      "metadata": {
        "colab": {
          "background_save": true,
          "base_uri": "https://localhost:8080/",
          "height": 1000
        },
        "id": "qwFZZyRgH_Cz",
        "outputId": "00494311-a6ac-451e-e3f8-a50803b68e4c"
      },
      "outputs": [
        {
          "name": "stdout",
          "output_type": "stream",
          "text": [
            "Looking in indexes: https://pypi.org/simple, https://us-python.pkg.dev/colab-wheels/public/simple/\n",
            "Requirement already satisfied: apache-beam[gcp] in /usr/local/lib/python3.7/dist-packages (2.39.0)\n",
            "Requirement already satisfied: pydot<2,>=1.2.0 in /usr/local/lib/python3.7/dist-packages (from apache-beam[gcp]) (1.3.0)\n",
            "Requirement already satisfied: grpcio<2,>=1.29.0 in /usr/local/lib/python3.7/dist-packages (from apache-beam[gcp]) (1.46.3)\n",
            "Requirement already satisfied: pytz>=2018.3 in /usr/local/lib/python3.7/dist-packages (from apache-beam[gcp]) (2022.1)\n",
            "Requirement already satisfied: numpy<1.23.0,>=1.14.3 in /usr/local/lib/python3.7/dist-packages (from apache-beam[gcp]) (1.21.6)\n",
            "Requirement already satisfied: python-dateutil<3,>=2.8.0 in /usr/local/lib/python3.7/dist-packages (from apache-beam[gcp]) (2.8.2)\n",
            "Requirement already satisfied: requests<3.0.0,>=2.24.0 in /usr/local/lib/python3.7/dist-packages (from apache-beam[gcp]) (2.28.0)\n",
            "Requirement already satisfied: httplib2<0.20.0,>=0.8 in /usr/local/lib/python3.7/dist-packages (from apache-beam[gcp]) (0.17.4)\n",
            "Requirement already satisfied: cloudpickle<3,>=2.0.0 in /usr/local/lib/python3.7/dist-packages (from apache-beam[gcp]) (2.1.0)\n",
            "Requirement already satisfied: dill<0.3.2,>=0.3.1.1 in /usr/local/lib/python3.7/dist-packages (from apache-beam[gcp]) (0.3.1.1)\n",
            "Requirement already satisfied: fastavro<2,>=0.23.6 in /usr/local/lib/python3.7/dist-packages (from apache-beam[gcp]) (1.5.1)\n",
            "Requirement already satisfied: protobuf<4,>=3.12.2 in /usr/local/lib/python3.7/dist-packages (from apache-beam[gcp]) (3.20.1)\n",
            "Requirement already satisfied: proto-plus<2,>=1.7.1 in /usr/local/lib/python3.7/dist-packages (from apache-beam[gcp]) (1.20.6)\n",
            "Requirement already satisfied: typing-extensions>=3.7.0 in /usr/local/lib/python3.7/dist-packages (from apache-beam[gcp]) (4.1.1)\n",
            "Requirement already satisfied: pyarrow<8.0.0,>=0.15.1 in /usr/local/lib/python3.7/dist-packages (from apache-beam[gcp]) (6.0.1)\n",
            "Requirement already satisfied: pymongo<4.0.0,>=3.8.0 in /usr/local/lib/python3.7/dist-packages (from apache-beam[gcp]) (3.12.3)\n",
            "Requirement already satisfied: orjson<4.0 in /usr/local/lib/python3.7/dist-packages (from apache-beam[gcp]) (3.7.2)\n",
            "Requirement already satisfied: crcmod<2.0,>=1.7 in /usr/local/lib/python3.7/dist-packages (from apache-beam[gcp]) (1.7)\n",
            "Requirement already satisfied: hdfs<3.0.0,>=2.1.0 in /usr/local/lib/python3.7/dist-packages (from apache-beam[gcp]) (2.7.0)\n",
            "Requirement already satisfied: google-auth<3,>=1.18.0 in /usr/local/lib/python3.7/dist-packages (from apache-beam[gcp]) (1.35.0)\n",
            "Collecting grpcio-gcp<1,>=0.2.2\n",
            "  Downloading grpcio_gcp-0.2.2-py2.py3-none-any.whl (9.4 kB)\n",
            "Collecting google-cloud-videointelligence<2,>=1.8.0\n",
            "  Downloading google_cloud_videointelligence-1.16.3-py2.py3-none-any.whl (183 kB)\n",
            "\u001b[K     |████████████████████████████████| 183 kB 6.8 MB/s \n",
            "\u001b[?25hRequirement already satisfied: google-cloud-bigquery<3,>=1.6.0 in /usr/local/lib/python3.7/dist-packages (from apache-beam[gcp]) (1.21.0)\n",
            "Collecting google-auth-httplib2<0.2.0,>=0.1.0\n",
            "  Downloading google_auth_httplib2-0.1.0-py2.py3-none-any.whl (9.3 kB)\n",
            "Collecting google-cloud-pubsublite<2,>=1.2.0\n",
            "  Downloading google_cloud_pubsublite-1.4.2-py2.py3-none-any.whl (265 kB)\n",
            "\u001b[K     |████████████████████████████████| 265 kB 57.3 MB/s \n",
            "\u001b[?25hCollecting google-cloud-spanner<2,>=1.13.0\n",
            "  Downloading google_cloud_spanner-1.19.3-py2.py3-none-any.whl (255 kB)\n",
            "\u001b[K     |████████████████████████████████| 255 kB 70.1 MB/s \n",
            "\u001b[?25hRequirement already satisfied: cachetools<5,>=3.1.0 in /usr/local/lib/python3.7/dist-packages (from apache-beam[gcp]) (4.2.4)\n",
            "Collecting google-cloud-bigquery-storage>=2.6.3\n",
            "  Downloading google_cloud_bigquery_storage-2.13.2-py2.py3-none-any.whl (180 kB)\n",
            "\u001b[K     |████████████████████████████████| 180 kB 67.8 MB/s \n",
            "\u001b[?25hCollecting google-cloud-recommendations-ai<=0.2.0,>=0.1.0\n",
            "  Downloading google_cloud_recommendations_ai-0.2.0-py2.py3-none-any.whl (180 kB)\n",
            "\u001b[K     |████████████████████████████████| 180 kB 66.3 MB/s \n",
            "\u001b[?25hRequirement already satisfied: google-cloud-core<2,>=0.28.1 in /usr/local/lib/python3.7/dist-packages (from apache-beam[gcp]) (1.0.3)\n",
            "Collecting google-cloud-pubsub<3,>=2.1.0\n",
            "  Downloading google_cloud_pubsub-2.13.0-py2.py3-none-any.whl (234 kB)\n",
            "\u001b[K     |████████████████████████████████| 234 kB 64.9 MB/s \n",
            "\u001b[?25hCollecting google-apitools<0.5.32,>=0.5.31\n",
            "  Downloading google-apitools-0.5.31.tar.gz (173 kB)\n",
            "\u001b[K     |████████████████████████████████| 173 kB 73.5 MB/s \n",
            "\u001b[?25hCollecting google-cloud-vision<2,>=0.38.0\n",
            "  Downloading google_cloud_vision-1.0.2-py2.py3-none-any.whl (435 kB)\n",
            "\u001b[K     |████████████████████████████████| 435 kB 62.7 MB/s \n",
            "\u001b[?25hRequirement already satisfied: google-cloud-datastore<2,>=1.8.0 in /usr/local/lib/python3.7/dist-packages (from apache-beam[gcp]) (1.8.0)\n",
            "Collecting google-cloud-bigtable<2,>=0.31.1\n",
            "  Downloading google_cloud_bigtable-1.7.2-py2.py3-none-any.whl (267 kB)\n",
            "\u001b[K     |████████████████████████████████| 267 kB 70.3 MB/s \n",
            "\u001b[?25hCollecting google-cloud-language<2,>=1.3.0\n",
            "  Downloading google_cloud_language-1.3.2-py2.py3-none-any.whl (83 kB)\n",
            "\u001b[K     |████████████████████████████████| 83 kB 2.0 MB/s \n",
            "\u001b[?25hCollecting google-cloud-dlp<4,>=3.0.0\n",
            "  Downloading google_cloud_dlp-3.7.1-py2.py3-none-any.whl (118 kB)\n",
            "\u001b[K     |████████████████████████████████| 118 kB 68.9 MB/s \n",
            "\u001b[?25hCollecting fasteners>=0.14\n",
            "  Downloading fasteners-0.17.3-py3-none-any.whl (18 kB)\n",
            "Requirement already satisfied: oauth2client>=1.4.12 in /usr/local/lib/python3.7/dist-packages (from google-apitools<0.5.32,>=0.5.31->apache-beam[gcp]) (4.1.3)\n",
            "Requirement already satisfied: six>=1.12.0 in /usr/local/lib/python3.7/dist-packages (from google-apitools<0.5.32,>=0.5.31->apache-beam[gcp]) (1.15.0)\n",
            "Requirement already satisfied: setuptools>=40.3.0 in /usr/local/lib/python3.7/dist-packages (from google-auth<3,>=1.18.0->apache-beam[gcp]) (57.4.0)\n",
            "Requirement already satisfied: pyasn1-modules>=0.2.1 in /usr/local/lib/python3.7/dist-packages (from google-auth<3,>=1.18.0->apache-beam[gcp]) (0.2.8)\n",
            "Requirement already satisfied: rsa<5,>=3.1.4 in /usr/local/lib/python3.7/dist-packages (from google-auth<3,>=1.18.0->apache-beam[gcp]) (4.8)\n",
            "Requirement already satisfied: google-resumable-media!=0.4.0,<0.5.0dev,>=0.3.1 in /usr/local/lib/python3.7/dist-packages (from google-cloud-bigquery<3,>=1.6.0->apache-beam[gcp]) (0.4.1)\n",
            "Requirement already satisfied: google-api-core[grpc]!=2.0.*,!=2.1.*,!=2.2.*,!=2.3.0,<3.0.0dev,>=1.31.5 in /usr/local/lib/python3.7/dist-packages (from google-cloud-bigquery-storage>=2.6.3->apache-beam[gcp]) (1.31.6)\n",
            "Requirement already satisfied: packaging>=14.3 in /usr/local/lib/python3.7/dist-packages (from google-api-core[grpc]!=2.0.*,!=2.1.*,!=2.2.*,!=2.3.0,<3.0.0dev,>=1.31.5->google-cloud-bigquery-storage>=2.6.3->apache-beam[gcp]) (21.3)\n",
            "Requirement already satisfied: googleapis-common-protos<2.0dev,>=1.6.0 in /usr/local/lib/python3.7/dist-packages (from google-api-core[grpc]!=2.0.*,!=2.1.*,!=2.2.*,!=2.3.0,<3.0.0dev,>=1.31.5->google-cloud-bigquery-storage>=2.6.3->apache-beam[gcp]) (1.56.2)\n",
            "Collecting google-cloud-core<2,>=0.28.1\n",
            "  Downloading google_cloud_core-1.7.2-py2.py3-none-any.whl (28 kB)\n",
            "Collecting grpc-google-iam-v1<0.13dev,>=0.12.3\n",
            "  Downloading grpc_google_iam_v1-0.12.4-py2.py3-none-any.whl (26 kB)\n",
            "Collecting grpcio-status>=1.16.0\n",
            "  Downloading grpcio_status-1.46.3-py3-none-any.whl (10.0 kB)\n",
            "Collecting overrides<7.0.0,>=6.0.1\n",
            "  Downloading overrides-6.1.0-py3-none-any.whl (14 kB)\n",
            "Requirement already satisfied: docopt in /usr/local/lib/python3.7/dist-packages (from hdfs<3.0.0,>=2.1.0->apache-beam[gcp]) (0.6.2)\n",
            "Requirement already satisfied: pyasn1>=0.1.7 in /usr/local/lib/python3.7/dist-packages (from oauth2client>=1.4.12->google-apitools<0.5.32,>=0.5.31->apache-beam[gcp]) (0.4.8)\n",
            "Collecting typing-utils>=0.0.3\n",
            "  Downloading typing_utils-0.1.0-py3-none-any.whl (10 kB)\n",
            "Requirement already satisfied: pyparsing!=3.0.5,>=2.0.2 in /usr/local/lib/python3.7/dist-packages (from packaging>=14.3->google-api-core[grpc]!=2.0.*,!=2.1.*,!=2.2.*,!=2.3.0,<3.0.0dev,>=1.31.5->google-cloud-bigquery-storage>=2.6.3->apache-beam[gcp]) (3.0.9)\n",
            "Requirement already satisfied: urllib3<1.27,>=1.21.1 in /usr/local/lib/python3.7/dist-packages (from requests<3.0.0,>=2.24.0->apache-beam[gcp]) (1.24.3)\n",
            "Requirement already satisfied: charset-normalizer~=2.0.0 in /usr/local/lib/python3.7/dist-packages (from requests<3.0.0,>=2.24.0->apache-beam[gcp]) (2.0.12)\n",
            "Requirement already satisfied: idna<4,>=2.5 in /usr/local/lib/python3.7/dist-packages (from requests<3.0.0,>=2.24.0->apache-beam[gcp]) (2.10)\n",
            "Requirement already satisfied: certifi>=2017.4.17 in /usr/local/lib/python3.7/dist-packages (from requests<3.0.0,>=2.24.0->apache-beam[gcp]) (2022.6.15)\n",
            "Building wheels for collected packages: google-apitools\n",
            "  Building wheel for google-apitools (setup.py) ... \u001b[?25l\u001b[?25hdone\n",
            "  Created wheel for google-apitools: filename=google_apitools-0.5.31-py3-none-any.whl size=131039 sha256=5ed97871c6804778af91af1c23a2029f399bbcaa9178cbf016ceaa816ea13ce8\n",
            "  Stored in directory: /root/.cache/pip/wheels/19/b5/2f/1cc3cf2b31e7a9cd1508731212526d9550271274d351c96f16\n",
            "Successfully built google-apitools\n",
            "Installing collected packages: typing-utils, grpcio-status, grpcio-gcp, grpc-google-iam-v1, overrides, google-cloud-pubsub, google-cloud-core, fasteners, google-cloud-vision, google-cloud-videointelligence, google-cloud-spanner, google-cloud-recommendations-ai, google-cloud-pubsublite, google-cloud-language, google-cloud-dlp, google-cloud-bigtable, google-cloud-bigquery-storage, google-auth-httplib2, google-apitools\n",
            "  Attempting uninstall: google-cloud-core\n",
            "    Found existing installation: google-cloud-core 1.0.3\n",
            "    Uninstalling google-cloud-core-1.0.3:\n",
            "      Successfully uninstalled google-cloud-core-1.0.3\n",
            "  Attempting uninstall: google-cloud-language\n",
            "    Found existing installation: google-cloud-language 1.2.0\n",
            "    Uninstalling google-cloud-language-1.2.0:\n",
            "      Successfully uninstalled google-cloud-language-1.2.0\n",
            "  Attempting uninstall: google-cloud-bigquery-storage\n",
            "    Found existing installation: google-cloud-bigquery-storage 1.1.2\n",
            "    Uninstalling google-cloud-bigquery-storage-1.1.2:\n",
            "      Successfully uninstalled google-cloud-bigquery-storage-1.1.2\n",
            "  Attempting uninstall: google-auth-httplib2\n",
            "    Found existing installation: google-auth-httplib2 0.0.4\n",
            "    Uninstalling google-auth-httplib2-0.0.4:\n",
            "      Successfully uninstalled google-auth-httplib2-0.0.4\n",
            "Successfully installed fasteners-0.17.3 google-apitools-0.5.31 google-auth-httplib2-0.1.0 google-cloud-bigquery-storage-2.13.2 google-cloud-bigtable-1.7.2 google-cloud-core-1.7.2 google-cloud-dlp-3.7.1 google-cloud-language-1.3.2 google-cloud-pubsub-2.13.0 google-cloud-pubsublite-1.4.2 google-cloud-recommendations-ai-0.2.0 google-cloud-spanner-1.19.3 google-cloud-videointelligence-1.16.3 google-cloud-vision-1.0.2 grpc-google-iam-v1-0.12.4 grpcio-gcp-0.2.2 grpcio-status-1.46.3 overrides-6.1.0 typing-utils-0.1.0\n"
          ]
        },
        {
          "data": {
            "application/vnd.colab-display-data+json": {
              "pip_warning": {
                "packages": [
                  "google"
                ]
              }
            }
          },
          "metadata": {},
          "output_type": "display_data"
        }
      ],
      "source": [
        "pip install apache-beam[gcp]"
      ]
    },
    {
      "cell_type": "code",
      "execution_count": null,
      "metadata": {
        "colab": {
          "background_save": true,
          "base_uri": "https://localhost:8080/"
        },
        "id": "VvsSm-z4NckD",
        "outputId": "06de788d-c35b-480f-98df-14da7d76224e"
      },
      "outputs": [
        {
          "name": "stderr",
          "output_type": "stream",
          "text": [
            "/usr/local/lib/python3.7/dist-packages/psycopg2/__init__.py:144: UserWarning: The psycopg2 wheel package will be renamed from release 2.8; in order to keep installing from binary please use \"pip install psycopg2-binary\" instead. For details see: <http://initd.org/psycopg/docs/install.html#binary-install-from-pypi>.\n",
            "  \"\"\")\n"
          ]
        }
      ],
      "source": [
        "import psycopg2\n",
        "import requests\n",
        "import pymongo\n",
        "import sqlalchemy\n",
        "import datetime\n",
        "import csv\n",
        "import collections\n",
        "import numpy as np\n",
        "import pandera as pa"
      ]
    },
    {
      "cell_type": "markdown",
      "metadata": {
        "id": "oBjPILc7Ovpn"
      },
      "source": [
        "* Pandas -> análise e manipulação de dados\n",
        "* os -> automação de processos em Python\n",
        "* storage -> armazenamento em nuvem"
      ]
    },
    {
      "cell_type": "code",
      "execution_count": null,
      "metadata": {
        "colab": {
          "background_save": true
        },
        "id": "v_80wtj5UIDT"
      },
      "outputs": [],
      "source": [
        "import pandas as pd\n",
        "import pyspark.sql.functions as F\n",
        "from google.cloud import storage"
      ]
    },
    {
      "cell_type": "code",
      "execution_count": null,
      "metadata": {
        "colab": {
          "background_save": true
        },
        "id": "v-XwN47wX7I0"
      },
      "outputs": [],
      "source": [
        "import os"
      ]
    },
    {
      "cell_type": "code",
      "execution_count": null,
      "metadata": {
        "colab": {
          "background_save": true
        },
        "id": "M6-G1BipULbB"
      },
      "outputs": [],
      "source": [
        "from pyspark.sql import SparkSession\n",
        "from pyspark import SparkConf\n",
        "from pyspark.sql.types import *\n",
        "from pyspark.sql.window import Window\n",
        "from pyspark.sql.functions import isnull, isnan, when, count, col\n",
        "from pyspark.sql.functions import *\n",
        "from pyspark.sql.functions import ceil, col\n",
        "from pyspark.sql import SQLContext\n",
        "from pymongo import MongoClient"
      ]
    },
    {
      "cell_type": "code",
      "execution_count": null,
      "metadata": {
        "colab": {
          "base_uri": "https://localhost:8080/",
          "height": 329
        },
        "id": "gbHAaiwBT7rA",
        "outputId": "cf2a35f9-25ef-457e-979b-97a94ae47113"
      },
      "outputs": [
        {
          "ename": "MessageError",
          "evalue": "ignored",
          "output_type": "error",
          "traceback": [
            "\u001b[0;31m---------------------------------------------------------------------------\u001b[0m",
            "\u001b[0;31mMessageError\u001b[0m                              Traceback (most recent call last)",
            "\u001b[0;32m<ipython-input-13-d5df0069828e>\u001b[0m in \u001b[0;36m<module>\u001b[0;34m()\u001b[0m\n\u001b[1;32m      1\u001b[0m \u001b[0;32mfrom\u001b[0m \u001b[0mgoogle\u001b[0m\u001b[0;34m.\u001b[0m\u001b[0mcolab\u001b[0m \u001b[0;32mimport\u001b[0m \u001b[0mdrive\u001b[0m\u001b[0;34m\u001b[0m\u001b[0;34m\u001b[0m\u001b[0m\n\u001b[0;32m----> 2\u001b[0;31m \u001b[0mdrive\u001b[0m\u001b[0;34m.\u001b[0m\u001b[0mmount\u001b[0m\u001b[0;34m(\u001b[0m\u001b[0;34m'/content/drive'\u001b[0m\u001b[0;34m)\u001b[0m\u001b[0;34m\u001b[0m\u001b[0;34m\u001b[0m\u001b[0m\n\u001b[0m",
            "\u001b[0;32m/usr/local/lib/python3.7/dist-packages/google/colab/drive.py\u001b[0m in \u001b[0;36mmount\u001b[0;34m(mountpoint, force_remount, timeout_ms)\u001b[0m\n\u001b[1;32m    107\u001b[0m       \u001b[0mforce_remount\u001b[0m\u001b[0;34m=\u001b[0m\u001b[0mforce_remount\u001b[0m\u001b[0;34m,\u001b[0m\u001b[0;34m\u001b[0m\u001b[0;34m\u001b[0m\u001b[0m\n\u001b[1;32m    108\u001b[0m       \u001b[0mtimeout_ms\u001b[0m\u001b[0;34m=\u001b[0m\u001b[0mtimeout_ms\u001b[0m\u001b[0;34m,\u001b[0m\u001b[0;34m\u001b[0m\u001b[0;34m\u001b[0m\u001b[0m\n\u001b[0;32m--> 109\u001b[0;31m       ephemeral=True)\n\u001b[0m\u001b[1;32m    110\u001b[0m \u001b[0;34m\u001b[0m\u001b[0m\n\u001b[1;32m    111\u001b[0m \u001b[0;34m\u001b[0m\u001b[0m\n",
            "\u001b[0;32m/usr/local/lib/python3.7/dist-packages/google/colab/drive.py\u001b[0m in \u001b[0;36m_mount\u001b[0;34m(mountpoint, force_remount, timeout_ms, ephemeral)\u001b[0m\n\u001b[1;32m    122\u001b[0m   \u001b[0;32mif\u001b[0m \u001b[0mephemeral\u001b[0m\u001b[0;34m:\u001b[0m\u001b[0;34m\u001b[0m\u001b[0;34m\u001b[0m\u001b[0m\n\u001b[1;32m    123\u001b[0m     _message.blocking_request(\n\u001b[0;32m--> 124\u001b[0;31m         'request_auth', request={'authType': 'dfs_ephemeral'}, timeout_sec=None)\n\u001b[0m\u001b[1;32m    125\u001b[0m \u001b[0;34m\u001b[0m\u001b[0m\n\u001b[1;32m    126\u001b[0m   \u001b[0mmountpoint\u001b[0m \u001b[0;34m=\u001b[0m \u001b[0m_os\u001b[0m\u001b[0;34m.\u001b[0m\u001b[0mpath\u001b[0m\u001b[0;34m.\u001b[0m\u001b[0mexpanduser\u001b[0m\u001b[0;34m(\u001b[0m\u001b[0mmountpoint\u001b[0m\u001b[0;34m)\u001b[0m\u001b[0;34m\u001b[0m\u001b[0;34m\u001b[0m\u001b[0m\n",
            "\u001b[0;32m/usr/local/lib/python3.7/dist-packages/google/colab/_message.py\u001b[0m in \u001b[0;36mblocking_request\u001b[0;34m(request_type, request, timeout_sec, parent)\u001b[0m\n\u001b[1;32m    173\u001b[0m   request_id = send_request(\n\u001b[1;32m    174\u001b[0m       request_type, request, parent=parent, expect_reply=True)\n\u001b[0;32m--> 175\u001b[0;31m   \u001b[0;32mreturn\u001b[0m \u001b[0mread_reply_from_input\u001b[0m\u001b[0;34m(\u001b[0m\u001b[0mrequest_id\u001b[0m\u001b[0;34m,\u001b[0m \u001b[0mtimeout_sec\u001b[0m\u001b[0;34m)\u001b[0m\u001b[0;34m\u001b[0m\u001b[0;34m\u001b[0m\u001b[0m\n\u001b[0m",
            "\u001b[0;32m/usr/local/lib/python3.7/dist-packages/google/colab/_message.py\u001b[0m in \u001b[0;36mread_reply_from_input\u001b[0;34m(message_id, timeout_sec)\u001b[0m\n\u001b[1;32m    104\u001b[0m         reply.get('colab_msg_id') == message_id):\n\u001b[1;32m    105\u001b[0m       \u001b[0;32mif\u001b[0m \u001b[0;34m'error'\u001b[0m \u001b[0;32min\u001b[0m \u001b[0mreply\u001b[0m\u001b[0;34m:\u001b[0m\u001b[0;34m\u001b[0m\u001b[0;34m\u001b[0m\u001b[0m\n\u001b[0;32m--> 106\u001b[0;31m         \u001b[0;32mraise\u001b[0m \u001b[0mMessageError\u001b[0m\u001b[0;34m(\u001b[0m\u001b[0mreply\u001b[0m\u001b[0;34m[\u001b[0m\u001b[0;34m'error'\u001b[0m\u001b[0;34m]\u001b[0m\u001b[0;34m)\u001b[0m\u001b[0;34m\u001b[0m\u001b[0;34m\u001b[0m\u001b[0m\n\u001b[0m\u001b[1;32m    107\u001b[0m       \u001b[0;32mreturn\u001b[0m \u001b[0mreply\u001b[0m\u001b[0;34m.\u001b[0m\u001b[0mget\u001b[0m\u001b[0;34m(\u001b[0m\u001b[0;34m'data'\u001b[0m\u001b[0;34m,\u001b[0m \u001b[0;32mNone\u001b[0m\u001b[0;34m)\u001b[0m\u001b[0;34m\u001b[0m\u001b[0;34m\u001b[0m\u001b[0m\n\u001b[1;32m    108\u001b[0m \u001b[0;34m\u001b[0m\u001b[0m\n",
            "\u001b[0;31mMessageError\u001b[0m: Error: credential propagation was unsuccessful"
          ]
        }
      ],
      "source": [
        "from google.colab import drive\n",
        "drive.mount('/content/drive')"
      ]
    },
    {
      "cell_type": "markdown",
      "metadata": {
        "id": "oi7d3hOhMzS8"
      },
      "source": [
        "##**CONEXÃO GCP**"
      ]
    },
    {
      "cell_type": "markdown",
      "metadata": {
        "id": "93L3oPe4NxR-"
      },
      "source": [
        "INCLUINDO A CHAVE DE SEGURANÇA DO GCP"
      ]
    },
    {
      "cell_type": "code",
      "execution_count": null,
      "metadata": {
        "id": "kyJ8iqUZM2nk"
      },
      "outputs": [],
      "source": [
        "serviceAccount = r'/content/drive/MyDrive/projeto-final-the-last-dance-8b51b88868a6.json'\n",
        "\n",
        "os.environ['GOOGLE_APPLICATION_CREDENTIALS'] = serviceAccount"
      ]
    },
    {
      "cell_type": "markdown",
      "metadata": {
        "id": "6pk0I7RhOd7F"
      },
      "source": [
        "ACESSANDO O BUCKET"
      ]
    },
    {
      "cell_type": "code",
      "execution_count": null,
      "metadata": {
        "id": "rw-w9-PGN30j"
      },
      "outputs": [],
      "source": [
        "acesso = storage.Client()\n",
        "\n",
        "bucket = acesso.get_bucket('projeto-final')"
      ]
    },
    {
      "cell_type": "markdown",
      "metadata": {
        "id": "7bWjv4EMQUFH"
      },
      "source": [
        "CRIANDO O DATAFRAME\n"
      ]
    },
    {
      "cell_type": "code",
      "execution_count": null,
      "metadata": {
        "colab": {
          "base_uri": "https://localhost:8080/"
        },
        "id": "MS-HiwP_QVTa",
        "outputId": "8c53f58e-abf0-4750-d1a5-1aef44e3b2a0"
      },
      "outputs": [
        {
          "data": {
            "text/plain": [
              "<Blob: projeto-final, equipe4.csv, None>"
            ]
          },
          "execution_count": 14,
          "metadata": {},
          "output_type": "execute_result"
        }
      ],
      "source": [
        "bucket.blob('equipe4.csv')"
      ]
    },
    {
      "cell_type": "code",
      "execution_count": null,
      "metadata": {
        "id": "_XKhtAG2QtzK"
      },
      "outputs": [],
      "source": [
        "path = 'gs://projeto-final/arq-original/equipe4.csv'"
      ]
    },
    {
      "cell_type": "markdown",
      "metadata": {
        "id": "ByX_OEVUzi2S"
      },
      "source": [
        "##**CONEXÃO COM O MONGO**"
      ]
    },
    {
      "cell_type": "code",
      "execution_count": null,
      "metadata": {
        "id": "xcSBz8KZzodM"
      },
      "outputs": [],
      "source": [
        "client = MongoClient(\"mongodb+srv://<usuario>:<senha>@cluster1.mquek.mongodb.net/?retryWrites=true&w=majority\")"
      ]
    },
    {
      "cell_type": "code",
      "execution_count": null,
      "metadata": {
        "id": "1NUylYGO0Q9H"
      },
      "outputs": [],
      "source": [
        "#determinando o database\n",
        "db = client['Projeto_Final']"
      ]
    },
    {
      "cell_type": "markdown",
      "metadata": {
        "id": "5poK7DUTMUk-"
      },
      "source": [
        "##**NORMALIZAÇÃO E TRATAMENTO COM PYSPARK**"
      ]
    },
    {
      "cell_type": "markdown",
      "metadata": {
        "id": "-7WSZkWtXncA"
      },
      "source": [
        "CONEXÃO COM A SPARKSESSION"
      ]
    },
    {
      "cell_type": "code",
      "execution_count": null,
      "metadata": {
        "id": "ok2DUce5w1Zi"
      },
      "outputs": [],
      "source": [
        "spark = ( SparkSession.builder\n",
        "                        .master(\"local\")\n",
        "                        .appName(\"projeto-final\")\n",
        "                        .config(\"spark.ui.port\", \"4050\")\n",
        "                        .config(\"spark.jars\", 'https://storage.googleapis.com/hadoop-lib/gcs/gcs-connector-hadoop2-latest.jar')\n",
        "                        .getOrCreate() \n",
        "        )"
      ]
    },
    {
      "cell_type": "code",
      "execution_count": null,
      "metadata": {
        "colab": {
          "base_uri": "https://localhost:8080/"
        },
        "id": "iyVHUyeBTBIN",
        "outputId": "8bedafca-3361-43cc-8032-7d9ea022a828"
      },
      "outputs": [
        {
          "data": {
            "text/html": [
              "\n",
              "            <div>\n",
              "                <p><b>SparkSession - in-memory</b></p>\n",
              "                \n",
              "        <div>\n",
              "            <p><b>SparkContext</b></p>\n",
              "\n",
              "            <p><a href=\"http://1ae795f9a99a:4050\">Spark UI</a></p>\n",
              "\n",
              "            <dl>\n",
              "              <dt>Version</dt>\n",
              "                <dd><code>v3.2.1</code></dd>\n",
              "              <dt>Master</dt>\n",
              "                <dd><code>local</code></dd>\n",
              "              <dt>AppName</dt>\n",
              "                <dd><code>projeto-final</code></dd>\n",
              "            </dl>\n",
              "        </div>\n",
              "        \n",
              "            </div>\n",
              "        "
            ],
            "text/plain": [
              "<pyspark.sql.session.SparkSession at 0x7f3d51f9fd10>"
            ]
          },
          "execution_count": 116,
          "metadata": {},
          "output_type": "execute_result"
        }
      ],
      "source": [
        "spark"
      ]
    },
    {
      "cell_type": "markdown",
      "metadata": {
        "id": "lRFZNojeYWh9"
      },
      "source": [
        "CRIANDO OS DATAFRAMES QUE SERÃO UTILIZADOS NO PROCESSO DE ETL\n",
        "* spark_2020 -> df criado com o dataset solicitado para o projeto final\n",
        "* df_cid1 -> df criado para substituir os numeros do CID informado na declaração de óbito pelo nome\n",
        "* df_uf1 -> df criado para substituir o numero da uf informado no df principal, pelo nome do estado."
      ]
    },
    {
      "cell_type": "code",
      "execution_count": null,
      "metadata": {
        "id": "xQOFqqGJw41q"
      },
      "outputs": [],
      "source": [
        "spark_2020 = ( spark.read.format('csv')\n",
        "                       .option('delimiter', ';')\n",
        "                       .option('header', 'true')\n",
        "                       .option('inferschema', 'true')\n",
        "                       .load('gs://projeto-final/arq-original/equipe4.csv')\n",
        ")"
      ]
    },
    {
      "cell_type": "code",
      "execution_count": null,
      "metadata": {
        "id": "inFNkiEGyRDv"
      },
      "outputs": [],
      "source": [
        "df_cid1 = ( spark.read.format(\"csv\")\n",
        "                  .option(\"header\", \"true\")\n",
        "                  .option(\"inferschema\", \"true\")\n",
        "                  .option(\"delimiter\", \",\")\n",
        "                  .load('gs://projeto-final/arq-original/cid10.csv')\n",
        ")"
      ]
    },
    {
      "cell_type": "code",
      "execution_count": null,
      "metadata": {
        "id": "IwCiNHM0ytcu"
      },
      "outputs": [],
      "source": [
        "df_uf1 = ( spark.read.format(\"csv\")\n",
        "                  .option(\"header\", \"true\")\n",
        "                  .option(\"inferschema\", \"true\")\n",
        "                  .option(\"delimiter\", \",\")\n",
        "                  .load('gs://projeto-final/arq-original/Arquivos auxiliares/UF-Munic.csv')\n",
        ")"
      ]
    },
    {
      "cell_type": "markdown",
      "metadata": {
        "id": "IvzkZ5TQYok_"
      },
      "source": [
        "PRÉ-ANALISE DOS DADOS -> DF SPARK_2020"
      ]
    },
    {
      "cell_type": "code",
      "execution_count": null,
      "metadata": {
        "colab": {
          "base_uri": "https://localhost:8080/"
        },
        "id": "OigBja-XxOxp",
        "outputId": "7443749e-91dd-4973-8793-a35b9e6dfc71"
      },
      "outputs": [
        {
          "data": {
            "text/plain": [
              "1581645"
            ]
          },
          "execution_count": 120,
          "metadata": {},
          "output_type": "execute_result"
        }
      ],
      "source": [
        "spark_2020.count()"
      ]
    },
    {
      "cell_type": "code",
      "execution_count": null,
      "metadata": {
        "colab": {
          "base_uri": "https://localhost:8080/"
        },
        "id": "UxT74IlKzJnc",
        "outputId": "ee49acfe-e6a1-4945-b5d9-1ad7b4196034"
      },
      "outputs": [
        {
          "data": {
            "text/plain": [
              "[('contador', 'int'),\n",
              " ('ORIGEM', 'int'),\n",
              " ('TIPOBITO', 'int'),\n",
              " ('DTOBITO', 'int'),\n",
              " ('HORAOBITO', 'int'),\n",
              " ('NATURAL', 'int'),\n",
              " ('CODMUNNATU', 'int'),\n",
              " ('DTNASC', 'int'),\n",
              " ('IDADE', 'int'),\n",
              " ('SEXO', 'int'),\n",
              " ('RACACOR', 'int'),\n",
              " ('ESTCIV', 'int'),\n",
              " ('ESC', 'int'),\n",
              " ('ESC2010', 'int'),\n",
              " ('SERIESCFAL', 'int'),\n",
              " ('OCUP', 'int'),\n",
              " ('CODMUNRES', 'int'),\n",
              " ('LOCOCOR', 'int'),\n",
              " ('CODESTAB', 'int'),\n",
              " ('CODMUNOCOR', 'int'),\n",
              " ('IDADEMAE', 'int'),\n",
              " ('ESCMAE', 'int'),\n",
              " ('ESCMAE2010', 'int'),\n",
              " ('SERIESCMAE', 'int'),\n",
              " ('OCUPMAE', 'int'),\n",
              " ('QTDFILVIVO', 'int'),\n",
              " ('QTDFILMORT', 'int'),\n",
              " ('GRAVIDEZ', 'int'),\n",
              " ('SEMAGESTAC', 'int'),\n",
              " ('GESTACAO', 'int'),\n",
              " ('PARTO', 'int'),\n",
              " ('OBITOPARTO', 'int'),\n",
              " ('PESO', 'int'),\n",
              " ('TPMORTEOCO', 'int'),\n",
              " ('OBITOGRAV', 'int'),\n",
              " ('OBITOPUERP', 'int'),\n",
              " ('ASSISTMED', 'int'),\n",
              " ('EXAME', 'int'),\n",
              " ('CIRURGIA', 'int'),\n",
              " ('NECROPSIA', 'int'),\n",
              " ('LINHAA', 'string'),\n",
              " ('LINHAB', 'string'),\n",
              " ('LINHAC', 'string'),\n",
              " ('LINHAD', 'string'),\n",
              " ('LINHAII', 'string'),\n",
              " ('CAUSABAS', 'string'),\n",
              " ('CB_PRE', 'string'),\n",
              " ('COMUNSVOIM', 'string'),\n",
              " ('DTATESTADO', 'int'),\n",
              " ('CIRCOBITO', 'int'),\n",
              " ('ACIDTRAB', 'int'),\n",
              " ('FONTE', 'int'),\n",
              " ('NUMEROLOTE', 'int'),\n",
              " ('DTINVESTIG', 'int'),\n",
              " ('DTCADASTRO', 'int'),\n",
              " ('ATESTANTE', 'int'),\n",
              " ('STCODIFICA', 'string'),\n",
              " ('CODIFICADO', 'string'),\n",
              " ('VERSAOSIST', 'string'),\n",
              " ('VERSAOSCB', 'double'),\n",
              " ('FONTEINV', 'int'),\n",
              " ('DTRECEBIM', 'int'),\n",
              " ('ATESTADO', 'string'),\n",
              " ('DTRECORIGA', 'int'),\n",
              " ('OPOR_DO', 'int'),\n",
              " ('CAUSAMAT', 'string'),\n",
              " ('ESCMAEAGR1', 'int'),\n",
              " ('ESCFALAGR1', 'int'),\n",
              " ('STDOEPIDEM', 'int'),\n",
              " ('STDONOVA', 'int'),\n",
              " ('DIFDATA', 'int'),\n",
              " ('NUDIASOBCO', 'int'),\n",
              " ('DTCADINV', 'int'),\n",
              " ('TPOBITOCOR', 'int'),\n",
              " ('DTCONINV', 'int'),\n",
              " ('FONTES', 'string'),\n",
              " ('TPRESGINFO', 'int'),\n",
              " ('TPNIVELINV', 'string'),\n",
              " ('DTCADINF', 'int'),\n",
              " ('MORTEPARTO', 'int'),\n",
              " ('DTCONCASO', 'int'),\n",
              " ('ALTCAUSA', 'int'),\n",
              " ('CAUSABAS_O', 'string'),\n",
              " ('TPPOS', 'string'),\n",
              " ('TP_ALTERA', 'int'),\n",
              " ('CB_ALT', 'string')]"
            ]
          },
          "execution_count": 121,
          "metadata": {},
          "output_type": "execute_result"
        }
      ],
      "source": [
        "spark_2020.dtypes"
      ]
    },
    {
      "cell_type": "code",
      "execution_count": null,
      "metadata": {
        "colab": {
          "base_uri": "https://localhost:8080/"
        },
        "id": "sz2wJ5sMxKSY",
        "outputId": "fcf76334-9eb0-4836-e664-7fbbb64603c6"
      },
      "outputs": [
        {
          "name": "stdout",
          "output_type": "stream",
          "text": [
            "+--------+------+--------+--------+---------+-------+----------+--------+-----+----+-------+------+----+-------+----------+------+---------+-------+--------+----------+--------+------+----------+----------+-------+----------+----------+--------+----------+--------+-----+----------+----+----------+---------+----------+---------+-----+--------+---------+------+------+------+------+----------+--------+------+----------+----------+---------+--------+-----+----------+----------+----------+---------+----------+----------+----------+---------+--------+---------+--------------------+----------+-------+--------+----------+----------+----------+--------+-------+----------+--------+----------+--------+------+----------+----------+--------+----------+---------+--------+----------+-----+---------+------+\n",
            "|contador|ORIGEM|TIPOBITO| DTOBITO|HORAOBITO|NATURAL|CODMUNNATU|  DTNASC|IDADE|SEXO|RACACOR|ESTCIV| ESC|ESC2010|SERIESCFAL|  OCUP|CODMUNRES|LOCOCOR|CODESTAB|CODMUNOCOR|IDADEMAE|ESCMAE|ESCMAE2010|SERIESCMAE|OCUPMAE|QTDFILVIVO|QTDFILMORT|GRAVIDEZ|SEMAGESTAC|GESTACAO|PARTO|OBITOPARTO|PESO|TPMORTEOCO|OBITOGRAV|OBITOPUERP|ASSISTMED|EXAME|CIRURGIA|NECROPSIA|LINHAA|LINHAB|LINHAC|LINHAD|   LINHAII|CAUSABAS|CB_PRE|COMUNSVOIM|DTATESTADO|CIRCOBITO|ACIDTRAB|FONTE|NUMEROLOTE|DTINVESTIG|DTCADASTRO|ATESTANTE|STCODIFICA|CODIFICADO|VERSAOSIST|VERSAOSCB|FONTEINV|DTRECEBIM|            ATESTADO|DTRECORIGA|OPOR_DO|CAUSAMAT|ESCMAEAGR1|ESCFALAGR1|STDOEPIDEM|STDONOVA|DIFDATA|NUDIASOBCO|DTCADINV|TPOBITOCOR|DTCONINV|FONTES|TPRESGINFO|TPNIVELINV|DTCADINF|MORTEPARTO|DTCONCASO|ALTCAUSA|CAUSABAS_O|TPPOS|TP_ALTERA|CB_ALT|\n",
            "+--------+------+--------+--------+---------+-------+----------+--------+-----+----+-------+------+----+-------+----------+------+---------+-------+--------+----------+--------+------+----------+----------+-------+----------+----------+--------+----------+--------+-----+----------+----+----------+---------+----------+---------+-----+--------+---------+------+------+------+------+----------+--------+------+----------+----------+---------+--------+-----+----------+----------+----------+---------+----------+----------+----------+---------+--------+---------+--------------------+----------+-------+--------+----------+----------+----------+--------+-------+----------+--------+----------+--------+------+----------+----------+--------+----------+---------+--------+----------+-----+---------+------+\n",
            "|       1|     1|       2|25012020|      421|    831|    310160|10051951|  468|   1|      1|     4|   2|      1|         3|999993|   316930|      3|    null|    316930|    null|  null|      null|      null|   null|      null|      null|    null|      null|    null| null|      null|null|      null|     null|      null|        2| null|    null|        2| *R99X|  null|  null|  null|      null|     R99|  null|    316930|  25012020|     null|    null| null|  20200003|      null|   3022020|        3|         S|         S|    3.2.02|      3.2|    null| 12022020|                 R99|  12022020|     18|    null|      null|         1|         0|       1|     18|      null|    null|      null|    null|  null|      null|      null|    null|      null|     null|    null|       R99|    N|     null|  null|\n",
            "|       2|     1|       2|25012020|     1910|    831|    316930|16031966|  453|   1|      2|     1|   2|      1|         1|621005|   316930|      3|    null|    316930|    null|  null|      null|      null|   null|      null|      null|    null|      null|    null| null|      null|null|      null|     null|      null|        2| null|    null|        2| *R99X|  null|  null|  null|      null|     R99|  null|    316930|  25012020|     null|    null| null|  20200003|      null|   3022020|        3|         S|         S|    3.2.02|      3.2|    null| 12022020|                 R99|  12022020|     18|    null|      null|         1|         0|       1|     18|      null|    null|      null|    null|  null|      null|      null|    null|      null|     null|    null|       R99|    N|     null|  null|\n",
            "|       3|     1|       2|14012020|     1727|    835|    351360|10071937|  482|   2|      1|     2|   2|      1|         1|999992|   316930|      1| 2760657|    316930|    null|  null|      null|      null|   null|      null|      null|    null|      null|    null| null|      null|null|      null|     null|      null|     null| null|    null|     null| *J960| *R571| *K922|  null|*K579*E46X|    K579|  null|      null|  14012020|     null|    null| null|  20200003|      null|   3022020|        1|         S|         S|    3.2.02|      3.2|    null| 12022020|J960/R571/K922*K5...|  12022020|     29|    null|      null|         1|         0|       1|     29|      null|    null|      null|    null|  null|      null|      null|    null|      null|     null|    null|      K579|    N|     null|  null|\n",
            "|       4|     1|       2|20012020|     1930|    831|    313870| 2111946|  473|   2|      1|     4|   2|      1|         3|999992|   316080|      1| 2760657|    316930|    null|  null|      null|      null|   null|      null|      null|    null|      null|    null| null|      null|null|      null|     null|      null|        1| null|    null|        2| *J960|  null|  null|  null|      null|    J960|  null|    316930|  20012020|     null|    null| null|  20200003|      null|   3022020|        3|         S|         S|    3.2.02|      3.2|    null| 12022020|                J960|  12022020|     23|    null|      null|         1|         0|       1|     23|      null|    null|      null|    null|  null|      null|      null|    null|      null|     null|    null|      J960|    N|     null|  null|\n",
            "|       5|     1|       2|26012020|     2230|    831|    311090|12091959|  460|   1|      1|     1|   5|      5|      null|231205|   311390|      1| 2760657|    316930|    null|  null|      null|      null|   null|      null|      null|    null|      null|    null| null|      null|null|      null|     null|      null|        1| null|    null|        2| *J960| *A419|  null|  null|      null|    A419|  null|    316930|  26012020|     null|    null| null|  20200003|      null|   3022020|        3|         S|         S|    3.2.02|      3.2|    null| 12022020|           J960/A419|  12022020|     17|    null|      null|         8|         0|       1|     17|      null|    null|      null|    null|  null|      null|      null|    null|      null|     null|    null|      A419|    N|     null|  null|\n",
            "|       6|     1|       2|27012020|     1626|    831|    316930| 8051964|  455|   1|      4|     5|   2|      1|         1|783225|   316930|      1| 2760657|    316930|    null|  null|      null|      null|   null|      null|      null|    null|      null|    null| null|      null|null|      null|     null|      null|        1| null|    null|        2| *J960|  null|  null|  null|      null|    J960|  null|    316930|  27012020|     null|    null| null|  20200003|      null|   3022020|        3|         S|         S|    3.2.02|      3.2|    null| 12022020|                J960|  12022020|     16|    null|      null|         1|         0|       1|     16|      null|    null|      null|    null|  null|      null|      null|    null|      null|     null|    null|      J960|    N|     null|  null|\n",
            "|       7|     1|       2|12012020|     1515|    823|    230580|17031973|  446|   2|      4|     2|   3|      1|         4|612005|   230423|      3|    null|    230423|    null|  null|      null|      null|   null|      null|      null|    null|      null|    null| null|      null|null|      null|     null|      null|     null| null|    null|     null| *C259| *C80X|  null|  null|      null|    C259|  null|      null|  12012020|     null|    null| null|  20200004|   9032020|   5022020|     null|         S|         S|    3.2.00|      3.2|       8|  2042020|            C259/C80|  13022020|     32|    null|      null|         2|         0|       1|     81|        57|13032020|         9| 9032020|  null|      null|         M|    null|      null|     null|    null|      C259|    S|     null|  null|\n",
            "|       8|     1|       2|11012020|     1300|    835|    350160|15061974|  445|   1|      1|     2|   5|      5|      null|  null|   510520|      4|    null|    510520|    null|  null|      null|      null|   null|      null|      null|    null|      null|    null| null|      null|null|      null|     null|      null|        2| null|    null|        1| *R99X|  null|  null|  null|      null|     R99|  null|    510760|  11012020|     null|    null| null|  20200004|      null|  31012020|        3|         S|         S|    3.2.00|      3.2|    null| 31012020|                 R99|  31012020|     20|    null|      null|         8|         0|       1|     20|      null|    null|      null|    null|  null|      null|      null|    null|      null|     null|    null|       R99| null|     null|  null|\n",
            "|       9|     1|       2|11012020|     1630|    831|    316930|10051943|  476|   1|      2|     2|   2|      1|         1|999993|   316930|      1| 2760657|    316930|    null|  null|      null|      null|   null|      null|      null|    null|      null|    null| null|      null|null|      null|     null|      null|        1| null|    null|        2| *J960| *R001|  null|  null|      null|    R001|  null|    316930|  11012020|     null|    null| null|  20200003|      null|   3022020|        3|         S|         S|    3.2.02|      3.2|    null| 12022020|           J960/R001|  12022020|     32|    null|      null|         1|         0|       1|     32|      null|    null|      null|    null|  null|      null|      null|    null|      null|     null|    null|      R001|    N|     null|  null|\n",
            "|      10|     1|       2|15012020|     1115|    831|    316930|13012020|  202|   1|      4|  null|null|   null|      null|  null|   316930|      1| 2760657|    316930|      40|     2|         1|      null| 999992|         2|         0|       1|      null|    null|    2|         3|2565|      null|     null|      null|     null| null|    null|     null| *P369| *P399|  null|  null|      null|    P369|  null|      null|  15012020|     null|    null| null|  20200003|      null|   3022020|        2|         S|         S|    3.2.02|      3.2|    null| 12022020|           P369/P399|  12022020|     28|    null|        10|      null|         0|       1|     28|      null|    null|      null|    null|XXSSXX|      null|      null| 5052020|         3| 29042020|       2|      P369|    N|     null|  null|\n",
            "|      11|     1|       2|12012020|      942|    831|    311390| 9091934|  485|   1|      1|     2|   3|      2|         7|999993|   316930|      1| 2760657|    316930|    null|  null|      null|      null|   null|      null|      null|    null|      null|    null| null|      null|null|      null|     null|      null|     null| null|    null|     null| *R570| *I219| *I10X|  null|      null|    I219|  null|      null|  14012020|     null|    null| null|  20200003|      null|   3022020|        5|         S|         S|    3.2.02|      3.2|    null| 12022020|       R570/I219/I10|  12022020|     31|    null|      null|         3|         0|       1|     31|      null|    null|      null|    null|  null|      null|      null|    null|      null|     null|    null|      I219|    N|     null|  null|\n",
            "|      12|     1|       2|10012020|     1217|    831|    316930|24041961|  458|   2|      2|     5|   2|      1|         3|999992|   316930|      1| 2760657|    316930|    null|  null|      null|      null|   null|      null|      null|    null|      null|    null| null|      null|null|         9|        9|         9|        1| null|    null|        2| *R99X|  null|  null|  null|      null|     R99|  null|    316930|  10012020|     null|    null| null|  20200003|      null|   3022020|        3|         S|         S|    3.2.02|      3.2|    null| 12022020|                 R99|  12022020|     33|    null|      null|         1|         0|       1|     33|      null|    null|      null|    null|  null|      null|      null|    null|      null|     null|    null|       R99|    N|     null|  null|\n",
            "|      13|     1|       2|28012020|      639|    831|    316930|28081950|  469|   2|      1|     2|   2|      1|         3|999992|   316930|      1| 2760657|    316930|    null|  null|      null|      null|   null|      null|      null|    null|      null|    null| null|      null|null|      null|     null|      null|     null| null|    null|     null| *R688| *A419| *J189|  null|     *N179|    J189|  null|      null|  28012020|     null|    null| null|  20200003|      null|   3022020|        2|         S|         S|    3.2.02|      3.2|    null| 12022020| R688/A419/J189*N179|  12022020|     15|    null|      null|         1|         0|       1|     15|      null|    null|      null|    null|  null|      null|      null|    null|      null|     null|    null|      J189|    N|     null|  null|\n",
            "|      14|     1|       2|28012020|      800|    831|    316930|10081949|  470|   2|      2|     2|   2|      1|         3|999992|   316930|      1| 2760657|    316930|    null|  null|      null|      null|   null|      null|      null|    null|      null|    null| null|      null|null|      null|     null|      null|        1| null|    null|        2| *R688| *A419|  null| *N390|      null|    N390|  null|      null|  28012020|     null|    null| null|  20200003|      null|   3022020|        5|         S|         S|    3.2.02|      3.2|    null| 12022020|    R688/A419/ /N390|  12022020|     15|    null|      null|         1|         0|       1|     15|      null|    null|      null|    null|  null|      null|      null|    null|      null|     null|    null|      N390|    N|     null|  null|\n",
            "|      15|     1|       2|16012020|      320|    821|    210480|26101946|  473|   2|      4|     2|   1|      0|      null|999993|   210480|      1| 6957501|    210480|    null|  null|      null|      null|   null|      null|      null|    null|      null|    null| null|      null|null|      null|     null|      null|        1| null|    null|        2| *J960| *A419| *J189|  null|      null|    J189|  null|      null|  16012020|     null|    null| null|  20200001|      null|  21012020|        2|         S|         S|    3.2.02|      3.2|    null|  3022020|      J960/A419/J189|   3022020|     18|    null|      null|         0|         0|       1|     18|      null|    null|      null|    null|  null|      null|      null|    null|      null|     null|    null|      J189| null|     null|  null|\n",
            "|      16|     1|       2| 4012020|      430|    822|    220790|19031944|  475|   2|      4|     2|   9|      9|      null|999993|   210480|      3|    null|    210480|    null|  null|      null|      null|   null|      null|      null|    null|      null|    null| null|      null|null|      null|     null|      null|        1| null|    null|        2| *I64X| *I159|  null|  null|      null|     I64|  null|      null|  15012020|     null|    null| null|  20200001|      null|  21012020|        2|         S|         S|    3.2.02|      3.2|    null|  3022020|            I64/I159|   3022020|     30|    null|      null|         9|         0|       1|     30|      null|    null|      null|    null|  null|      null|      null|    null|      null|     null|    null|       I64| null|     null|  null|\n",
            "|      17|     1|       2|14012020|     2118|    823|    231380| 9031924|  495|   1|      1|     3|   1|      0|      null|621005|   210480|      3|    null|    210480|    null|  null|      null|      null|   null|      null|      null|    null|      null|    null| null|      null|null|      null|     null|      null|        1| null|    null|        2|  null|  null| *E114| *R092|      null|    E114|  null|      null|  21012020|     null|    null| null|  20200007|      null|  22012020|        5|         S|         S|    3.2.30|      3.3|    null| 30072020|        / /E114/R092|   3022020|     20|    null|      null|         0|         0|       1|    198|      null|    null|      null|    null|  null|      null|      null|    null|      null|     null|    null|      E114| null|     null|  null|\n",
            "|      18|     1|       2|17012020|     1340|    821|    210060| 1081948|  471|   1|      4|     2|   2|      1|      null|999993|   210480|      1| 6957501|    210480|    null|  null|      null|      null|   null|      null|      null|    null|      null|    null| null|      null|null|      null|     null|      null|        2| null|    null|        2| *R092| *S069| *V224|  null|      null|    V224|  null|      null|  17012020|        1|       2|    3|  20200001|      null|  22012020|        5|         S|         S|    3.2.02|      3.2|    null|  3022020|      R092/S069/V224|   3022020|     17|    null|      null|        10|         0|       1|     17|      null|    null|      null|    null|  null|      null|      null|    null|      null|     null|    null|      V224| null|     null|  null|\n",
            "|      19|     1|       2|22012020|      340|    823|    230200|21101944|  475|   1|      4|     4|   2|      1|         3|999993|   210480|      1| 6957501|    210480|    null|  null|      null|      null|   null|      null|      null|    null|      null|    null| null|      null|null|      null|     null|      null|        1| null|    null|        2| *G309| *J189| *N19X|  null|      null|    G309|  null|      null|  22012020|     null|    null| null|  20200001|      null|  22012020|        5|         S|         S|    3.2.02|      3.2|    null|  3022020|       G309/J189/N19|   3022020|     12|    null|      null|         1|         0|       1|     12|      null|    null|      null|    null|  null|      null|      null|    null|      null|     null|    null|      G309| null|     null|  null|\n",
            "|      20|     1|       2|22012020|      240|    821|    210480|12081981|  438|   1|      4|     1|   1|      0|      null|621005|   210480|      1| 6957501|    210480|    null|  null|      null|      null|   null|      null|      null|    null|      null|    null| null|      null|null|      null|     null|      null|        1| null|    null|        2| *R092| *J969| *E43X|  null|      null|     E43|  null|      null|  22012020|     null|    null| null|  20200008|      null|  22012020|        1|         S|         S|    3.2.30|      3.3|    null| 13082020|       R092/J969/E43|   3022020|     12|    null|      null|         0|         0|       1|    204|      null|    null|      null|    null|  null|      null|      null|    null|      null|     null|    null|       E43| null|     null|  null|\n",
            "+--------+------+--------+--------+---------+-------+----------+--------+-----+----+-------+------+----+-------+----------+------+---------+-------+--------+----------+--------+------+----------+----------+-------+----------+----------+--------+----------+--------+-----+----------+----+----------+---------+----------+---------+-----+--------+---------+------+------+------+------+----------+--------+------+----------+----------+---------+--------+-----+----------+----------+----------+---------+----------+----------+----------+---------+--------+---------+--------------------+----------+-------+--------+----------+----------+----------+--------+-------+----------+--------+----------+--------+------+----------+----------+--------+----------+---------+--------+----------+-----+---------+------+\n",
            "only showing top 20 rows\n",
            "\n"
          ]
        }
      ],
      "source": [
        "spark_2020.show(20)"
      ]
    },
    {
      "cell_type": "code",
      "execution_count": null,
      "metadata": {
        "colab": {
          "base_uri": "https://localhost:8080/"
        },
        "id": "kr0L1C0z4x7f",
        "outputId": "4a03bd2d-1700-4039-81e9-b74dbd00b6b3"
      },
      "outputs": [
        {
          "name": "stdout",
          "output_type": "stream",
          "text": [
            "+--------+------+--------+-------+---------+-------+----------+------+-----+----+-------+------+------+-------+----------+------+---------+-------+--------+----------+--------+-------+----------+----------+-------+----------+----------+--------+----------+--------+-------+----------+-------+----------+---------+----------+---------+-------+--------+---------+------+------+------+-------+-------+--------+-------+----------+----------+---------+--------+-------+----------+----------+----------+---------+----------+----------+----------+---------+--------+---------+--------+----------+-------+--------+----------+----------+----------+--------+-------+----------+--------+----------+--------+-------+----------+----------+--------+----------+---------+--------+----------+------+---------+-------+\n",
            "|contador|ORIGEM|TIPOBITO|DTOBITO|HORAOBITO|NATURAL|CODMUNNATU|DTNASC|IDADE|SEXO|RACACOR|ESTCIV|   ESC|ESC2010|SERIESCFAL|  OCUP|CODMUNRES|LOCOCOR|CODESTAB|CODMUNOCOR|IDADEMAE| ESCMAE|ESCMAE2010|SERIESCMAE|OCUPMAE|QTDFILVIVO|QTDFILMORT|GRAVIDEZ|SEMAGESTAC|GESTACAO|  PARTO|OBITOPARTO|   PESO|TPMORTEOCO|OBITOGRAV|OBITOPUERP|ASSISTMED|  EXAME|CIRURGIA|NECROPSIA|LINHAA|LINHAB|LINHAC| LINHAD|LINHAII|CAUSABAS| CB_PRE|COMUNSVOIM|DTATESTADO|CIRCOBITO|ACIDTRAB|  FONTE|NUMEROLOTE|DTINVESTIG|DTCADASTRO|ATESTANTE|STCODIFICA|CODIFICADO|VERSAOSIST|VERSAOSCB|FONTEINV|DTRECEBIM|ATESTADO|DTRECORIGA|OPOR_DO|CAUSAMAT|ESCMAEAGR1|ESCFALAGR1|STDOEPIDEM|STDONOVA|DIFDATA|NUDIASOBCO|DTCADINV|TPOBITOCOR|DTCONINV| FONTES|TPRESGINFO|TPNIVELINV|DTCADINF|MORTEPARTO|DTCONCASO|ALTCAUSA|CAUSABAS_O| TPPOS|TP_ALTERA| CB_ALT|\n",
            "+--------+------+--------+-------+---------+-------+----------+------+-----+----+-------+------+------+-------+----------+------+---------+-------+--------+----------+--------+-------+----------+----------+-------+----------+----------+--------+----------+--------+-------+----------+-------+----------+---------+----------+---------+-------+--------+---------+------+------+------+-------+-------+--------+-------+----------+----------+---------+--------+-------+----------+----------+----------+---------+----------+----------+----------+---------+--------+---------+--------+----------+-------+--------+----------+----------+----------+--------+-------+----------+--------+----------+--------+-------+----------+----------+--------+----------+---------+--------+----------+------+---------+-------+\n",
            "|       0|     0|       0|      0|    60567|  91322|    113643| 32732|28905|   0|  70020|109930|143239| 147978|   1222394|280813|        0|      0|  424509|         0| 1526553|1527511|   1527701|   1561297|1533677|   1526555|   1528232| 1524359|   1526977| 1526860|1524594|   1525028|1526406|   1488915|  1488691|   1488702|   503931|1579469| 1579522|   485830| 64019|422029|886750|1293284| 934761|       0|1581645|   1347222|     10133|  1437635| 1538786|1469308|       162|   1307894|      2492|   144365|       593|         2|         2|    66178| 1303205|    86736|       0|         0|      0| 1581611|   1527701|    147978|         4|       0|      0|   1523820| 1523439|   1523439| 1523885|1536727|   1578149|   1523373| 1536727|   1536727|  1540149| 1537889|      3895|560413|  1560496|1560250|\n",
            "+--------+------+--------+-------+---------+-------+----------+------+-----+----+-------+------+------+-------+----------+------+---------+-------+--------+----------+--------+-------+----------+----------+-------+----------+----------+--------+----------+--------+-------+----------+-------+----------+---------+----------+---------+-------+--------+---------+------+------+------+-------+-------+--------+-------+----------+----------+---------+--------+-------+----------+----------+----------+---------+----------+----------+----------+---------+--------+---------+--------+----------+-------+--------+----------+----------+----------+--------+-------+----------+--------+----------+--------+-------+----------+----------+--------+----------+---------+--------+----------+------+---------+-------+\n",
            "\n"
          ]
        }
      ],
      "source": [
        "#CONTANDO OS CAMPOS \"NULL\" DE CADA COLUNA DO DF\n",
        "spark_2020.select([count(when(isnull(c), c)).alias(c) for c in spark_2020.columns]).show()"
      ]
    },
    {
      "cell_type": "markdown",
      "metadata": {
        "id": "i_fsMN-4ZY7q"
      },
      "source": [
        "DROPANDO COLUNAS QUE NÃO SERÃO UTILIZADAS\n"
      ]
    },
    {
      "cell_type": "code",
      "execution_count": null,
      "metadata": {
        "id": "lrSCoQaqFZpA"
      },
      "outputs": [],
      "source": [
        "spark_2020 = spark_2020.drop(*('ORIGEM','HORAOBITO','ESTCIV','ESC','ESC2010','SERIESCFAL','CODMUNRES','IDADEMAE','ESCMAE','ESCMAE2010','SERIESCMAE','OCUPMAE','QTDFILMORT','GRAVIDEZ','SEMAGESTAC','GESTACAO','PARTO','OBITOPARTO','PESO','TPMORTEOCO','ASSISTMED','EXAME','CIRURGIA','NECROPSIA','CB_PRE','COMUNSVOIM','DTATESTADO','ACIDTRAB','NUMEROLOTE','DTINVESTIG','DTCADASTRO','ATESTANTE','STCODIFICA','CODIFICADO','VERSAOSIST','VERSAOSCB','FONTEINV','DTRECEBIM','ATESTADO','DTRECORIGA','CAUSAMAT','ESCMAEAGR1','ESCFALAGR1','DTCADINV','DTCONINV','FONTES','TPRESGINFO','TPNIVELINV','DTCADINF','MORTEPARTO','DTCONCASO','ALTCAUSA','TPPOS','TP_ALTERA','CB_ALT','CIRCOBITO','FONTE','NUDIASOBCO','TPOBITOCOR','QTDFILVIVO','OBITOGRAV','OBITOPUERP','LINHAA','LINHAB','LINHAC','LINHAD','LINHAII','IDADE','OPOR_DO','NATURAL','CODMUNNATU','OPOR_DO','DIFDATA'))"
      ]
    },
    {
      "cell_type": "code",
      "execution_count": null,
      "metadata": {
        "colab": {
          "base_uri": "https://localhost:8080/"
        },
        "id": "nirKapUrKD-D",
        "outputId": "e565366b-7df4-4733-d18f-0eda05aa4d47"
      },
      "outputs": [
        {
          "name": "stdout",
          "output_type": "stream",
          "text": [
            "+--------+--------+--------+--------+----+-------+------+-------+--------+----------+--------+----------+--------+----------+\n",
            "|contador|TIPOBITO| DTOBITO|  DTNASC|SEXO|RACACOR|  OCUP|LOCOCOR|CODESTAB|CODMUNOCOR|CAUSABAS|STDOEPIDEM|STDONOVA|CAUSABAS_O|\n",
            "+--------+--------+--------+--------+----+-------+------+-------+--------+----------+--------+----------+--------+----------+\n",
            "|       1|       2|25012020|10051951|   1|      1|999993|      3|    null|    316930|     R99|         0|       1|       R99|\n",
            "|       2|       2|25012020|16031966|   1|      2|621005|      3|    null|    316930|     R99|         0|       1|       R99|\n",
            "|       3|       2|14012020|10071937|   2|      1|999992|      1| 2760657|    316930|    K579|         0|       1|      K579|\n",
            "|       4|       2|20012020| 2111946|   2|      1|999992|      1| 2760657|    316930|    J960|         0|       1|      J960|\n",
            "|       5|       2|26012020|12091959|   1|      1|231205|      1| 2760657|    316930|    A419|         0|       1|      A419|\n",
            "+--------+--------+--------+--------+----+-------+------+-------+--------+----------+--------+----------+--------+----------+\n",
            "only showing top 5 rows\n",
            "\n"
          ]
        }
      ],
      "source": [
        "spark_2020.show(5)"
      ]
    },
    {
      "cell_type": "markdown",
      "metadata": {
        "id": "au15nMCGZ486"
      },
      "source": [
        "COMANDO PARA RENOMEAR COLUNAS"
      ]
    },
    {
      "cell_type": "code",
      "execution_count": null,
      "metadata": {
        "id": "lJNdJLUt4o1I"
      },
      "outputs": [],
      "source": [
        "spark_2020 = spark_2020.withColumnRenamed(\"contador\", \"SEQUENCIA\").withColumnRenamed(\"TIPOBITO\", \"TIPO_OBITO\").withColumnRenamed(\"DTOBITO\", \"DATA_OBITO\").withColumnRenamed(\"CODMUNNATU\", \"CIDADE_NASC\").withColumnRenamed(\"RACACOR\", \"RACA_COR\").withColumnRenamed(\"OCUP\", \"OCUPACAO\").withColumnRenamed(\"LOCOCOR\", \"LOCAL_OCORRENCIA\").withColumnRenamed(\"CODESTAB\", \"COD_ESTABELECIMENTO\").withColumnRenamed(\"CODMUNOCOR\", \"CIDADE_OBITO\").withColumnRenamed(\"CAUSABAS\", \"CAUSA_OBITO\").withColumnRenamed(\"STDOEPIDEM\", \"STATUS_D_OEPIDEM\").withColumnRenamed(\"STDONOVA\", \"STATUS_D_O_NOVA\").withColumnRenamed(\"CAUSABAS_O\", \"CAUSA_OBITO_1\")"
      ]
    },
    {
      "cell_type": "code",
      "execution_count": null,
      "metadata": {
        "id": "A2mTLC5LaqKy"
      },
      "outputs": [],
      "source": [
        "df_cid1 = df_cid1.withColumnRenamed(\"codigo\",\"CAUSA_OBITO\")"
      ]
    },
    {
      "cell_type": "code",
      "execution_count": null,
      "metadata": {
        "colab": {
          "base_uri": "https://localhost:8080/"
        },
        "id": "bouwsCaQ-JaV",
        "outputId": "ab96abc8-0b03-43d9-cfd0-9a3d4bc9fae8"
      },
      "outputs": [
        {
          "name": "stdout",
          "output_type": "stream",
          "text": [
            "+---------+----------+----------+--------+----+--------+--------+----------------+-------------------+------------+-----------+----------------+---------------+-------------+\n",
            "|SEQUENCIA|TIPO_OBITO|DATA_OBITO|  DTNASC|SEXO|RACA_COR|OCUPACAO|LOCAL_OCORRENCIA|COD_ESTABELECIMENTO|CIDADE_OBITO|CAUSA_OBITO|STATUS_D_OEPIDEM|STATUS_D_O_NOVA|CAUSA_OBITO_1|\n",
            "+---------+----------+----------+--------+----+--------+--------+----------------+-------------------+------------+-----------+----------------+---------------+-------------+\n",
            "|        1|         2|  25012020|10051951|   1|       1|  999993|               3|               null|      316930|        R99|               0|              1|          R99|\n",
            "|        2|         2|  25012020|16031966|   1|       2|  621005|               3|               null|      316930|        R99|               0|              1|          R99|\n",
            "|        3|         2|  14012020|10071937|   2|       1|  999992|               1|            2760657|      316930|       K579|               0|              1|         K579|\n",
            "|        4|         2|  20012020| 2111946|   2|       1|  999992|               1|            2760657|      316930|       J960|               0|              1|         J960|\n",
            "|        5|         2|  26012020|12091959|   1|       1|  231205|               1|            2760657|      316930|       A419|               0|              1|         A419|\n",
            "+---------+----------+----------+--------+----+--------+--------+----------------+-------------------+------------+-----------+----------------+---------------+-------------+\n",
            "only showing top 5 rows\n",
            "\n"
          ]
        }
      ],
      "source": [
        "spark_2020.show(5)"
      ]
    },
    {
      "cell_type": "code",
      "execution_count": null,
      "metadata": {
        "colab": {
          "base_uri": "https://localhost:8080/"
        },
        "id": "2w7F6_AyH97U",
        "outputId": "03b1c601-08e0-40d7-8075-588b34aae4e5"
      },
      "outputs": [
        {
          "name": "stdout",
          "output_type": "stream",
          "text": [
            "+---------+----------+----------+------+----+--------+--------+----------------+-------------------+------------+-----------+----------------+---------------+-------------+\n",
            "|SEQUENCIA|TIPO_OBITO|DATA_OBITO|DTNASC|SEXO|RACA_COR|OCUPACAO|LOCAL_OCORRENCIA|COD_ESTABELECIMENTO|CIDADE_OBITO|CAUSA_OBITO|STATUS_D_OEPIDEM|STATUS_D_O_NOVA|CAUSA_OBITO_1|\n",
            "+---------+----------+----------+------+----+--------+--------+----------------+-------------------+------------+-----------+----------------+---------------+-------------+\n",
            "|        0|         0|         0| 32732|   0|   70020|  280813|               0|             424509|           0|          0|               4|              0|         3895|\n",
            "+---------+----------+----------+------+----+--------+--------+----------------+-------------------+------------+-----------+----------------+---------------+-------------+\n",
            "\n"
          ]
        }
      ],
      "source": [
        "#CONTANDO OS CAMPOS \"NULL\" DE CADA COLUNA DO DF\n",
        "spark_2020.select([count(when(isnull(c), c)).alias(c) for c in spark_2020.columns]).show()"
      ]
    },
    {
      "cell_type": "code",
      "execution_count": null,
      "metadata": {
        "id": "n9XyWUNtbAUC"
      },
      "outputs": [],
      "source": [
        "#JOIN DE DATAFRAMES\n",
        "df_inner_2020 = spark_2020.join(df_cid1, on=['CAUSA_OBITO'], how='left')"
      ]
    },
    {
      "cell_type": "code",
      "execution_count": null,
      "metadata": {
        "colab": {
          "base_uri": "https://localhost:8080/"
        },
        "id": "7k7wEvWLbM-J",
        "outputId": "2edb4f9b-19c1-43a3-e071-5540b8fa3722"
      },
      "outputs": [
        {
          "name": "stdout",
          "output_type": "stream",
          "text": [
            "+-----------+---------+----------+----------+--------+----+--------+--------+----------------+-------------------+------------+----------------+---------------+-------------+--------------------+\n",
            "|CAUSA_OBITO|SEQUENCIA|TIPO_OBITO|DATA_OBITO|  DTNASC|SEXO|RACA_COR|OCUPACAO|LOCAL_OCORRENCIA|COD_ESTABELECIMENTO|CIDADE_OBITO|STATUS_D_OEPIDEM|STATUS_D_O_NOVA|CAUSA_OBITO_1|                nome|\n",
            "+-----------+---------+----------+----------+--------+----+--------+--------+----------------+-------------------+------------+----------------+---------------+-------------+--------------------+\n",
            "|        R99|        1|         2|  25012020|10051951|   1|       1|  999993|               3|               null|      316930|               0|              1|          R99|Outras Causas Mal...|\n",
            "|        R99|        2|         2|  25012020|16031966|   1|       2|  621005|               3|               null|      316930|               0|              1|          R99|Outras Causas Mal...|\n",
            "|       K579|        3|         2|  14012020|10071937|   2|       1|  999992|               1|            2760657|      316930|               0|              1|         K579|Doença Diverticul...|\n",
            "|       J960|        4|         2|  20012020| 2111946|   2|       1|  999992|               1|            2760657|      316930|               0|              1|         J960|Insuficiência Res...|\n",
            "|       A419|        5|         2|  26012020|12091959|   1|       1|  231205|               1|            2760657|      316930|               0|              1|         A419|Septicemia Não Es...|\n",
            "+-----------+---------+----------+----------+--------+----+--------+--------+----------------+-------------------+------------+----------------+---------------+-------------+--------------------+\n",
            "only showing top 5 rows\n",
            "\n"
          ]
        }
      ],
      "source": [
        "df_inner_2020.show(5)"
      ]
    },
    {
      "cell_type": "code",
      "execution_count": null,
      "metadata": {
        "id": "LZA1sgTYbURy"
      },
      "outputs": [],
      "source": [
        "#RENOMEANDO COLUNA RECEM CRIADA\n",
        "df_inner_2020 = df_inner_2020.withColumnRenamed(\"nome\",\"DESCRICAO_OBITO\")"
      ]
    },
    {
      "cell_type": "code",
      "execution_count": null,
      "metadata": {
        "colab": {
          "base_uri": "https://localhost:8080/"
        },
        "id": "UCJ0406jbueC",
        "outputId": "45fd5a41-6b4e-49eb-c978-17d4ecfe27b1"
      },
      "outputs": [
        {
          "name": "stdout",
          "output_type": "stream",
          "text": [
            "15\n"
          ]
        }
      ],
      "source": [
        "#VERIFICANDO QUANTAS COLUNAS TEM O DF\n",
        "print(len(df_inner_2020.columns))"
      ]
    },
    {
      "cell_type": "code",
      "execution_count": null,
      "metadata": {
        "id": "FOlCC7ETb6s0"
      },
      "outputs": [],
      "source": [
        "#CRIAÇÃO DE COLUNA PARA CONTAGEM DOS OBITOS\n",
        "df_inner_2020 = df_inner_2020.withColumn('QTD_OBITO',F.lit(1))"
      ]
    },
    {
      "cell_type": "code",
      "execution_count": null,
      "metadata": {
        "id": "Be9-bmojcI_5"
      },
      "outputs": [],
      "source": [
        "#FAZENDO BACKUP DO DF\n",
        "df2020 = df_inner_2020"
      ]
    },
    {
      "cell_type": "code",
      "execution_count": null,
      "metadata": {
        "colab": {
          "base_uri": "https://localhost:8080/"
        },
        "id": "j_59rUN4cTw5",
        "outputId": "06bed2ca-b885-4ac4-de94-e5195528290a"
      },
      "outputs": [
        {
          "name": "stdout",
          "output_type": "stream",
          "text": [
            "+-----------+---------+----------+----------+--------+----+--------+--------+----------------+-------------------+------------+----------------+---------------+-------------+--------------------+---------+\n",
            "|CAUSA_OBITO|SEQUENCIA|TIPO_OBITO|DATA_OBITO|  DTNASC|SEXO|RACA_COR|OCUPACAO|LOCAL_OCORRENCIA|COD_ESTABELECIMENTO|CIDADE_OBITO|STATUS_D_OEPIDEM|STATUS_D_O_NOVA|CAUSA_OBITO_1|     DESCRICAO_OBITO|QTD_OBITO|\n",
            "+-----------+---------+----------+----------+--------+----+--------+--------+----------------+-------------------+------------+----------------+---------------+-------------+--------------------+---------+\n",
            "|        R99|        1|         2|  25012020|10051951|   1|       1|  999993|               3|               null|      316930|               0|              1|          R99|Outras Causas Mal...|        1|\n",
            "|        R99|        2|         2|  25012020|16031966|   1|       2|  621005|               3|               null|      316930|               0|              1|          R99|Outras Causas Mal...|        1|\n",
            "|       K579|        3|         2|  14012020|10071937|   2|       1|  999992|               1|            2760657|      316930|               0|              1|         K579|Doença Diverticul...|        1|\n",
            "|       J960|        4|         2|  20012020| 2111946|   2|       1|  999992|               1|            2760657|      316930|               0|              1|         J960|Insuficiência Res...|        1|\n",
            "|       A419|        5|         2|  26012020|12091959|   1|       1|  231205|               1|            2760657|      316930|               0|              1|         A419|Septicemia Não Es...|        1|\n",
            "+-----------+---------+----------+----------+--------+----+--------+--------+----------------+-------------------+------------+----------------+---------------+-------------+--------------------+---------+\n",
            "only showing top 5 rows\n",
            "\n"
          ]
        }
      ],
      "source": [
        "df2020.show(5)"
      ]
    },
    {
      "cell_type": "markdown",
      "metadata": {
        "id": "75p3eTKpchQU"
      },
      "source": [
        "REALIZANDO O TRATAMENTO DAS DATAS"
      ]
    },
    {
      "cell_type": "code",
      "execution_count": null,
      "metadata": {
        "id": "wS7UGbMCdNJB"
      },
      "outputs": [],
      "source": [
        "df2020 = df2020.withColumn('DATA_OBITO', lpad(df2020.DATA_OBITO,8, '0')).withColumn('DTNASC', lpad(df2020.DTNASC,8, '0'))\n",
        "                    "
      ]
    },
    {
      "cell_type": "code",
      "execution_count": null,
      "metadata": {
        "colab": {
          "base_uri": "https://localhost:8080/"
        },
        "id": "895YhgFqdWZp",
        "outputId": "cc20e34b-469d-43e0-99b4-22f7c82af128"
      },
      "outputs": [
        {
          "name": "stdout",
          "output_type": "stream",
          "text": [
            "+-----------+---------+----------+----------+--------+----+--------+--------+----------------+-------------------+------------+----------------+---------------+-------------+--------------------+---------+\n",
            "|CAUSA_OBITO|SEQUENCIA|TIPO_OBITO|DATA_OBITO|  DTNASC|SEXO|RACA_COR|OCUPACAO|LOCAL_OCORRENCIA|COD_ESTABELECIMENTO|CIDADE_OBITO|STATUS_D_OEPIDEM|STATUS_D_O_NOVA|CAUSA_OBITO_1|     DESCRICAO_OBITO|QTD_OBITO|\n",
            "+-----------+---------+----------+----------+--------+----+--------+--------+----------------+-------------------+------------+----------------+---------------+-------------+--------------------+---------+\n",
            "|        R99|        1|         2|  25012020|10051951|   1|       1|  999993|               3|               null|      316930|               0|              1|          R99|Outras Causas Mal...|        1|\n",
            "|        R99|        2|         2|  25012020|16031966|   1|       2|  621005|               3|               null|      316930|               0|              1|          R99|Outras Causas Mal...|        1|\n",
            "|       K579|        3|         2|  14012020|10071937|   2|       1|  999992|               1|            2760657|      316930|               0|              1|         K579|Doença Diverticul...|        1|\n",
            "|       J960|        4|         2|  20012020|02111946|   2|       1|  999992|               1|            2760657|      316930|               0|              1|         J960|Insuficiência Res...|        1|\n",
            "|       A419|        5|         2|  26012020|12091959|   1|       1|  231205|               1|            2760657|      316930|               0|              1|         A419|Septicemia Não Es...|        1|\n",
            "+-----------+---------+----------+----------+--------+----+--------+--------+----------------+-------------------+------------+----------------+---------------+-------------+--------------------+---------+\n",
            "only showing top 5 rows\n",
            "\n"
          ]
        }
      ],
      "source": [
        "df2020.show(5)"
      ]
    },
    {
      "cell_type": "code",
      "execution_count": null,
      "metadata": {
        "id": "EuckjqBCM3Xa"
      },
      "outputs": [],
      "source": [
        "df2020 = df2020.withColumn(\"DATA_OBITO\", F.to_date(F.col(\"DATA_OBITO\").cast(\"string\"), 'ddMMyyyy')).withColumn(\"DTNASC\", F.to_date(F.col(\"DTNASC\").cast(\"string\"), 'ddMMyyyy'))"
      ]
    },
    {
      "cell_type": "code",
      "execution_count": null,
      "metadata": {
        "colab": {
          "base_uri": "https://localhost:8080/"
        },
        "id": "8p_GwQ8Qe3k6",
        "outputId": "04110176-4147-4ac5-cf8f-8547a424f226"
      },
      "outputs": [
        {
          "name": "stdout",
          "output_type": "stream",
          "text": [
            "+-----------+---------+----------+----------+----------+----+--------+--------+----------------+-------------------+------------+----------------+---------------+-------------+--------------------+---------+\n",
            "|CAUSA_OBITO|SEQUENCIA|TIPO_OBITO|DATA_OBITO|    DTNASC|SEXO|RACA_COR|OCUPACAO|LOCAL_OCORRENCIA|COD_ESTABELECIMENTO|CIDADE_OBITO|STATUS_D_OEPIDEM|STATUS_D_O_NOVA|CAUSA_OBITO_1|     DESCRICAO_OBITO|QTD_OBITO|\n",
            "+-----------+---------+----------+----------+----------+----+--------+--------+----------------+-------------------+------------+----------------+---------------+-------------+--------------------+---------+\n",
            "|        R99|        1|         2|2020-01-25|1951-05-10|   1|       1|  999993|               3|               null|      316930|               0|              1|          R99|Outras Causas Mal...|        1|\n",
            "|        R99|        2|         2|2020-01-25|1966-03-16|   1|       2|  621005|               3|               null|      316930|               0|              1|          R99|Outras Causas Mal...|        1|\n",
            "|       K579|        3|         2|2020-01-14|1937-07-10|   2|       1|  999992|               1|            2760657|      316930|               0|              1|         K579|Doença Diverticul...|        1|\n",
            "|       J960|        4|         2|2020-01-20|1946-11-02|   2|       1|  999992|               1|            2760657|      316930|               0|              1|         J960|Insuficiência Res...|        1|\n",
            "|       A419|        5|         2|2020-01-26|1959-09-12|   1|       1|  231205|               1|            2760657|      316930|               0|              1|         A419|Septicemia Não Es...|        1|\n",
            "+-----------+---------+----------+----------+----------+----+--------+--------+----------------+-------------------+------------+----------------+---------------+-------------+--------------------+---------+\n",
            "only showing top 5 rows\n",
            "\n"
          ]
        }
      ],
      "source": [
        "df2020.show(5)"
      ]
    },
    {
      "cell_type": "markdown",
      "metadata": {
        "id": "uPvVRShZl0DM"
      },
      "source": [
        "CALCULANDO A IDADE EM QUE OCORRERAM OS OBITOS"
      ]
    },
    {
      "cell_type": "code",
      "execution_count": null,
      "metadata": {
        "id": "QtUrwSVejRUy"
      },
      "outputs": [],
      "source": [
        "#MONTHS_BETWEEN() - RETORNA A DIFERENÇA ENTRE DUAS DATAS EM MESES\n",
        "from pyspark.sql.functions import *\n",
        "df2020.select(F.col('DTNASC'), F.col('DATA_OBITO'), F.months_between(F.col('DATA_OBITO'), F.col('DTNASC')).alias('IDADE')).show()"
      ]
    },
    {
      "cell_type": "code",
      "execution_count": null,
      "metadata": {
        "id": "Q4GspZRZqsgU"
      },
      "outputs": [],
      "source": [
        "df2020 = df2020.withColumn('IDADE', F.months_between(F.col('DATA_OBITO'), F.col('DTNASC')))"
      ]
    },
    {
      "cell_type": "code",
      "execution_count": null,
      "metadata": {
        "id": "7Z7LmG2Fk-8l"
      },
      "outputs": [],
      "source": [
        "from pyspark.sql.functions import ceil, col\n",
        "df2020 = df2020.select(\"*\",ceil(\"IDADE\"))"
      ]
    },
    {
      "cell_type": "code",
      "execution_count": null,
      "metadata": {
        "id": "E4xYZ43xks9F"
      },
      "outputs": [],
      "source": [
        "df2020 = df2020.withColumn('IDADE_COMPLETA',((col('CEIL(IDADE)') / 12)))"
      ]
    },
    {
      "cell_type": "code",
      "execution_count": null,
      "metadata": {
        "id": "ZHZJkQrrlWCs"
      },
      "outputs": [],
      "source": [
        "from pyspark.sql.functions import ceil, col\n",
        "df2020 = df2020.select(\"*\",ceil(\"IDADE_COMPLETA\"))"
      ]
    },
    {
      "cell_type": "code",
      "execution_count": null,
      "metadata": {
        "id": "1RQ05LzrmUrs"
      },
      "outputs": [],
      "source": [
        "df2020 = df2020.drop('IDADE')"
      ]
    },
    {
      "cell_type": "code",
      "execution_count": null,
      "metadata": {
        "id": "IQnxEJBbnAx7"
      },
      "outputs": [],
      "source": [
        "df2020 = df2020.drop('CEIL(IDADE)')"
      ]
    },
    {
      "cell_type": "code",
      "execution_count": null,
      "metadata": {
        "id": "BTFz-laVnHVT"
      },
      "outputs": [],
      "source": [
        "df2020 = df2020.drop('IDADE_COMPLETA')"
      ]
    },
    {
      "cell_type": "code",
      "execution_count": null,
      "metadata": {
        "id": "ZSGsBDDznNEL"
      },
      "outputs": [],
      "source": [
        "#COMANDO PARA RENOMEAR COLUNAS\n",
        "df2020 = df2020.withColumnRenamed(\"CEIL(IDADE_COMPLETA)\", \"IDADE_OBITO\")"
      ]
    },
    {
      "cell_type": "code",
      "execution_count": null,
      "metadata": {
        "colab": {
          "base_uri": "https://localhost:8080/"
        },
        "id": "St6LWXlRuC7P",
        "outputId": "25be6097-5fe9-4ed7-8d74-3bc2985677cc"
      },
      "outputs": [
        {
          "name": "stdout",
          "output_type": "stream",
          "text": [
            "+-----------+---------+----------+----------+----------+----+--------+--------+----------------+-------------------+------------+----------------+---------------+-------------+--------------------+---------+-----------+\n",
            "|CAUSA_OBITO|SEQUENCIA|TIPO_OBITO|DATA_OBITO|    DTNASC|SEXO|RACA_COR|OCUPACAO|LOCAL_OCORRENCIA|COD_ESTABELECIMENTO|CIDADE_OBITO|STATUS_D_OEPIDEM|STATUS_D_O_NOVA|CAUSA_OBITO_1|     DESCRICAO_OBITO|QTD_OBITO|IDADE_OBITO|\n",
            "+-----------+---------+----------+----------+----------+----+--------+--------+----------------+-------------------+------------+----------------+---------------+-------------+--------------------+---------+-----------+\n",
            "|        R99|        1|         2|2020-01-25|1951-05-10|   1|       1|  999993|               3|               null|      316930|               0|              1|          R99|Outras Causas Mal...|        1|         69|\n",
            "|        R99|        2|         2|2020-01-25|1966-03-16|   1|       2|  621005|               3|               null|      316930|               0|              1|          R99|Outras Causas Mal...|        1|         54|\n",
            "|       K579|        3|         2|2020-01-14|1937-07-10|   2|       1|  999992|               1|            2760657|      316930|               0|              1|         K579|Doença Diverticul...|        1|         83|\n",
            "|       J960|        4|         2|2020-01-20|1946-11-02|   2|       1|  999992|               1|            2760657|      316930|               0|              1|         J960|Insuficiência Res...|        1|         74|\n",
            "|       A419|        5|         2|2020-01-26|1959-09-12|   1|       1|  231205|               1|            2760657|      316930|               0|              1|         A419|Septicemia Não Es...|        1|         61|\n",
            "+-----------+---------+----------+----------+----------+----+--------+--------+----------------+-------------------+------------+----------------+---------------+-------------+--------------------+---------+-----------+\n",
            "only showing top 5 rows\n",
            "\n"
          ]
        }
      ],
      "source": [
        "df2020.show(5)"
      ]
    },
    {
      "cell_type": "markdown",
      "metadata": {
        "id": "dkV6zr2Kn9E1"
      },
      "source": [
        "INFORMANDO OS ESTADOS EM QUE OCORRERAM OS OBITOS\n",
        "\n",
        "Estas informações foram obtidas no dataset uf1"
      ]
    },
    {
      "cell_type": "code",
      "execution_count": null,
      "metadata": {
        "id": "pK9mtS98nsBy"
      },
      "outputs": [],
      "source": [
        "df2020 = df2020.withColumn('ESTADO_DA_OCORRENCIA', F.when((F.col('CIDADE_OBITO') > 310000) & (F.col('CIDADE_OBITO') < 319999), F.lit('Minas Gerais'))\n",
        "                                                    .when((F.col('CIDADE_OBITO') > 110000) & (F.col('CIDADE_OBITO') < 119999), F.lit('Rondônia'))\n",
        "                                                    .when((F.col('CIDADE_OBITO') > 120000) & (F.col('CIDADE_OBITO') < 129999), F.lit('Acre'))\n",
        "                                                    .when((F.col('CIDADE_OBITO') > 130000) & (F.col('CIDADE_OBITO') < 139999), F.lit('Amazonia'))\n",
        "                                                    .when((F.col('CIDADE_OBITO') > 140000) & (F.col('CIDADE_OBITO') < 149999), F.lit('Roraiama'))\n",
        "                                                    .when((F.col('CIDADE_OBITO') > 150000) & (F.col('CIDADE_OBITO') < 159999), F.lit('Pará'))\n",
        "                                                    .when((F.col('CIDADE_OBITO') > 160000) & (F.col('CIDADE_OBITO') < 169999), F.lit('Amapá'))\n",
        "                                                    .when((F.col('CIDADE_OBITO') > 170000) & (F.col('CIDADE_OBITO') < 179999), F.lit('Tocantins'))\n",
        "                                                    .when((F.col('CIDADE_OBITO') > 210000) & (F.col('CIDADE_OBITO') < 219999), F.lit('Maranhão'))\n",
        "                                                    .when((F.col('CIDADE_OBITO') > 220000) & (F.col('CIDADE_OBITO') < 229999), F.lit('Piauí'))\n",
        "                                                    .when((F.col('CIDADE_OBITO') > 230000) & (F.col('CIDADE_OBITO') < 239999), F.lit('Ceará'))\n",
        "                                                    .when((F.col('CIDADE_OBITO') > 240000) & (F.col('CIDADE_OBITO') < 249999), F.lit('Rio Grande do Norte'))\n",
        "                                                    .when((F.col('CIDADE_OBITO') > 250000) & (F.col('CIDADE_OBITO') < 259999), F.lit('Paraíba'))\n",
        "                                                    .when((F.col('CIDADE_OBITO') > 260000) & (F.col('CIDADE_OBITO') < 269999), F.lit('Pernambuco'))\n",
        "                                                    .when((F.col('CIDADE_OBITO') > 270000) & (F.col('CIDADE_OBITO') < 279999), F.lit('Alagoas'))\n",
        "                                                    .when((F.col('CIDADE_OBITO') > 280000) & (F.col('CIDADE_OBITO') < 289999), F.lit('Sergipe'))\n",
        "                                                    .when((F.col('CIDADE_OBITO') > 290000) & (F.col('CIDADE_OBITO') < 299999), F.lit('Bahia'))\n",
        "                                                    .when((F.col('CIDADE_OBITO') > 320000) & (F.col('CIDADE_OBITO') < 329999), F.lit('Espirito Santo'))\n",
        "                                                    .when((F.col('CIDADE_OBITO') > 330000) & (F.col('CIDADE_OBITO') < 339999), F.lit('Rio de Janeiro'))\n",
        "                                                    .when((F.col('CIDADE_OBITO') > 350000) & (F.col('CIDADE_OBITO') < 359999), F.lit('São Paulo'))\n",
        "                                                    .when((F.col('CIDADE_OBITO') > 410000) & (F.col('CIDADE_OBITO') < 419999), F.lit('Paraná'))\n",
        "                                                    .when((F.col('CIDADE_OBITO') > 420000) & (F.col('CIDADE_OBITO') < 429999), F.lit('Santa Catarina'))\n",
        "                                                    .when((F.col('CIDADE_OBITO') > 430000) & (F.col('CIDADE_OBITO') < 439999), F.lit('Rio Grande do Sul'))\n",
        "                                                    .when((F.col('CIDADE_OBITO') > 500000) & (F.col('CIDADE_OBITO') < 509999), F.lit('Mato Grosso do Sul'))\n",
        "                                                    .when((F.col('CIDADE_OBITO') > 510000) & (F.col('CIDADE_OBITO') < 519999), F.lit('Mato Grosso'))\n",
        "                                                    .when((F.col('CIDADE_OBITO') > 520000) & (F.col('CIDADE_OBITO') < 529999), F.lit('Goiás'))\n",
        "                                                    .when((F.col('CIDADE_OBITO') > 530000) & (F.col('CIDADE_OBITO') < 539999), F.lit('DF'))\n",
        "                                                    .otherwise(F.lit('Não Informado'))) "
      ]
    },
    {
      "cell_type": "code",
      "execution_count": null,
      "metadata": {
        "colab": {
          "base_uri": "https://localhost:8080/"
        },
        "id": "coZ6B_3lojcx",
        "outputId": "10c96bab-f1dd-4a37-e9a2-1d3495911c0e"
      },
      "outputs": [
        {
          "name": "stdout",
          "output_type": "stream",
          "text": [
            "+-----------+---------+----------+----------+----------+----+--------+--------+----------------+-------------------+------------+----------------+---------------+-------------+--------------------+---------+-----------+--------------------+\n",
            "|CAUSA_OBITO|SEQUENCIA|TIPO_OBITO|DATA_OBITO|    DTNASC|SEXO|RACA_COR|OCUPACAO|LOCAL_OCORRENCIA|COD_ESTABELECIMENTO|CIDADE_OBITO|STATUS_D_OEPIDEM|STATUS_D_O_NOVA|CAUSA_OBITO_1|     DESCRICAO_OBITO|QTD_OBITO|IDADE_OBITO|ESTADO_DA_OCORRENCIA|\n",
            "+-----------+---------+----------+----------+----------+----+--------+--------+----------------+-------------------+------------+----------------+---------------+-------------+--------------------+---------+-----------+--------------------+\n",
            "|        R99|        1|         2|2020-01-25|1951-05-10|   1|       1|  999993|               3|               null|      316930|               0|              1|          R99|Outras Causas Mal...|        1|         69|        Minas Gerais|\n",
            "|        R99|        2|         2|2020-01-25|1966-03-16|   1|       2|  621005|               3|               null|      316930|               0|              1|          R99|Outras Causas Mal...|        1|         54|        Minas Gerais|\n",
            "|       K579|        3|         2|2020-01-14|1937-07-10|   2|       1|  999992|               1|            2760657|      316930|               0|              1|         K579|Doença Diverticul...|        1|         83|        Minas Gerais|\n",
            "|       J960|        4|         2|2020-01-20|1946-11-02|   2|       1|  999992|               1|            2760657|      316930|               0|              1|         J960|Insuficiência Res...|        1|         74|        Minas Gerais|\n",
            "|       A419|        5|         2|2020-01-26|1959-09-12|   1|       1|  231205|               1|            2760657|      316930|               0|              1|         A419|Septicemia Não Es...|        1|         61|        Minas Gerais|\n",
            "|       J960|        6|         2|2020-01-27|1964-05-08|   1|       4|  783225|               1|            2760657|      316930|               0|              1|         J960|Insuficiência Res...|        1|         56|        Minas Gerais|\n",
            "|       C259|        7|         2|2020-01-12|1973-03-17|   2|       4|  612005|               3|               null|      230423|               0|              1|         C259|Neoplasia Maligna...|        1|         47|               Ceará|\n",
            "|        R99|        8|         2|2020-01-11|1974-06-15|   1|       1|    null|               4|               null|      510520|               0|              1|          R99|Outras Causas Mal...|        1|         46|         Mato Grosso|\n",
            "|       R001|        9|         2|2020-01-11|1943-05-10|   1|       2|  999993|               1|            2760657|      316930|               0|              1|         R001|Bradicardia Não E...|        1|         77|        Minas Gerais|\n",
            "|       P369|       10|         2|2020-01-15|2020-01-13|   1|       4|    null|               1|            2760657|      316930|               0|              1|         P369|Septicemia Bacter...|        1|          1|        Minas Gerais|\n",
            "|       I219|       11|         2|2020-01-12|1934-09-09|   1|       1|  999993|               1|            2760657|      316930|               0|              1|         I219|Infarto Agudo do ...|        1|         86|        Minas Gerais|\n",
            "|        R99|       12|         2|2020-01-10|1961-04-24|   2|       2|  999992|               1|            2760657|      316930|               0|              1|          R99|Outras Causas Mal...|        1|         59|        Minas Gerais|\n",
            "|       J189|       13|         2|2020-01-28|1950-08-28|   2|       1|  999992|               1|            2760657|      316930|               0|              1|         J189|Pneumonia Não Esp...|        1|         70|        Minas Gerais|\n",
            "|       N390|       14|         2|2020-01-28|1949-08-10|   2|       2|  999992|               1|            2760657|      316930|               0|              1|         N390|Infecção do Trato...|        1|         71|        Minas Gerais|\n",
            "|       J189|       15|         2|2020-01-16|1946-10-26|   2|       4|  999993|               1|            6957501|      210480|               0|              1|         J189|Pneumonia Não Esp...|        1|         74|            Maranhão|\n",
            "|        I64|       16|         2|2020-01-04|1944-03-19|   2|       4|  999993|               3|               null|      210480|               0|              1|          I64|Acidente Vascular...|        1|         76|            Maranhão|\n",
            "|       E114|       17|         2|2020-01-14|1924-03-09|   1|       1|  621005|               3|               null|      210480|               0|              1|         E114|Diabetes Mellitus...|        1|         96|            Maranhão|\n",
            "|       V224|       18|         2|2020-01-17|1948-08-01|   1|       4|  999993|               1|            6957501|      210480|               0|              1|         V224|Motociclista Trau...|        1|         72|            Maranhão|\n",
            "|       G309|       19|         2|2020-01-22|1944-10-21|   1|       4|  999993|               1|            6957501|      210480|               0|              1|         G309|Doença de Alzheim...|        1|         76|            Maranhão|\n",
            "|        E43|       20|         2|2020-01-22|1981-08-12|   1|       4|  621005|               1|            6957501|      210480|               0|              1|          E43|Desnutrição Proté...|        1|         39|            Maranhão|\n",
            "+-----------+---------+----------+----------+----------+----+--------+--------+----------------+-------------------+------------+----------------+---------------+-------------+--------------------+---------+-----------+--------------------+\n",
            "only showing top 20 rows\n",
            "\n"
          ]
        }
      ],
      "source": [
        "df2020.show(20)"
      ]
    },
    {
      "cell_type": "markdown",
      "metadata": {
        "id": "KksRefmypM56"
      },
      "source": [
        "RENOMEANDO INFORMAÇÕES DAS COLUNAS RACA_COR, LOCAL_OCORRENCIA E SEXO"
      ]
    },
    {
      "cell_type": "code",
      "execution_count": null,
      "metadata": {
        "id": "K0TE0tFnqcNq"
      },
      "outputs": [],
      "source": [
        "df2020 = df2020.withColumn('RACA_COR', F.regexp_replace('RACA_COR','1','Branca'))\\\n",
        "               .withColumn('RACA_COR', F.regexp_replace('RACA_COR','2','Preta'))\\\n",
        "               .withColumn('RACA_COR', F.regexp_replace('RACA_COR','3','Amarela'))\\\n",
        "               .withColumn('RACA_COR', F.regexp_replace('RACA_COR','4','Parda'))\\\n",
        "               .withColumn('RACA_COR', F.regexp_replace('RACA_COR','5','Indigena'))"
      ]
    },
    {
      "cell_type": "code",
      "execution_count": null,
      "metadata": {
        "id": "tyK6JBM0qvfK"
      },
      "outputs": [],
      "source": [
        "df2020 = df2020.withColumn('LOCAL_OCORRENCIA', F.regexp_replace('LOCAL_OCORRENCIA','1','Hospital'))\\\n",
        "               .withColumn('LOCAL_OCORRENCIA', F.regexp_replace('LOCAL_OCORRENCIA','2','Outros estabelecimentos de saúde'))\\\n",
        "               .withColumn('LOCAL_OCORRENCIA', F.regexp_replace('LOCAL_OCORRENCIA','3','Domicílio'))\\\n",
        "               .withColumn('LOCAL_OCORRENCIA', F.regexp_replace('LOCAL_OCORRENCIA','4','Via pública'))\\\n",
        "               .withColumn('LOCAL_OCORRENCIA', F.regexp_replace('LOCAL_OCORRENCIA','5','Outros'))\\\n",
        "               .withColumn('LOCAL_OCORRENCIA', F.regexp_replace('LOCAL_OCORRENCIA','6','Aldeia indígena'))\\\n",
        "               .withColumn('LOCAL_OCORRENCIA', F.regexp_replace('LOCAL_OCORRENCIA','9','Ignorado'))"
      ]
    },
    {
      "cell_type": "code",
      "execution_count": null,
      "metadata": {
        "id": "tH2k4IxArSQp"
      },
      "outputs": [],
      "source": [
        "df2020 = df2020.withColumn('SEXO', F.regexp_replace('SEXO','0','N/I'))\\\n",
        "               .withColumn('SEXO', F.regexp_replace('SEXO','1','Masc'))\\\n",
        "               .withColumn('SEXO', F.regexp_replace('SEXO','2','Fem'))"
      ]
    },
    {
      "cell_type": "code",
      "execution_count": null,
      "metadata": {
        "id": "wIL4-9ibYjVa"
      },
      "outputs": [],
      "source": [
        "df2020 = df2020.drop('SEQUENCIA','CAUSA_OBITO_1')"
      ]
    },
    {
      "cell_type": "code",
      "execution_count": null,
      "metadata": {
        "colab": {
          "base_uri": "https://localhost:8080/"
        },
        "id": "aO-Etnheq_iL",
        "outputId": "ab422ab5-0de2-45ad-b6b1-d1b2f4e799df"
      },
      "outputs": [
        {
          "name": "stdout",
          "output_type": "stream",
          "text": [
            "+-----------+----------+----------+----------+----+--------+--------+----------------+-------------------+------------+----------------+---------------+--------------------+---------+-----------+--------------------+\n",
            "|CAUSA_OBITO|TIPO_OBITO|DATA_OBITO|    DTNASC|SEXO|RACA_COR|OCUPACAO|LOCAL_OCORRENCIA|COD_ESTABELECIMENTO|CIDADE_OBITO|STATUS_D_OEPIDEM|STATUS_D_O_NOVA|     DESCRICAO_OBITO|QTD_OBITO|IDADE_OBITO|ESTADO_DA_OCORRENCIA|\n",
            "+-----------+----------+----------+----------+----+--------+--------+----------------+-------------------+------------+----------------+---------------+--------------------+---------+-----------+--------------------+\n",
            "|        R99|         2|2020-01-25|1951-05-10|Masc|  Branca|  999993|       Domicílio|               null|      316930|               0|              1|Outras Causas Mal...|        1|         69|        Minas Gerais|\n",
            "|        R99|         2|2020-01-25|1966-03-16|Masc|   Preta|  621005|       Domicílio|               null|      316930|               0|              1|Outras Causas Mal...|        1|         54|        Minas Gerais|\n",
            "|       K579|         2|2020-01-14|1937-07-10| Fem|  Branca|  999992|        Hospital|            2760657|      316930|               0|              1|Doença Diverticul...|        1|         83|        Minas Gerais|\n",
            "|       J960|         2|2020-01-20|1946-11-02| Fem|  Branca|  999992|        Hospital|            2760657|      316930|               0|              1|Insuficiência Res...|        1|         74|        Minas Gerais|\n",
            "|       A419|         2|2020-01-26|1959-09-12|Masc|  Branca|  231205|        Hospital|            2760657|      316930|               0|              1|Septicemia Não Es...|        1|         61|        Minas Gerais|\n",
            "+-----------+----------+----------+----------+----+--------+--------+----------------+-------------------+------------+----------------+---------------+--------------------+---------+-----------+--------------------+\n",
            "only showing top 5 rows\n",
            "\n"
          ]
        }
      ],
      "source": [
        "df2020.show(5)"
      ]
    },
    {
      "cell_type": "code",
      "execution_count": null,
      "metadata": {
        "colab": {
          "base_uri": "https://localhost:8080/"
        },
        "id": "wHdei_eTriN5",
        "outputId": "cf7240e7-7788-484d-d3cc-d971f68b94ba"
      },
      "outputs": [
        {
          "data": {
            "text/plain": [
              "[Row(SEXO='Fem'), Row(SEXO='N/I'), Row(SEXO='Masc')]"
            ]
          },
          "execution_count": 158,
          "metadata": {},
          "output_type": "execute_result"
        }
      ],
      "source": [
        "df2020.select('SEXO').distinct().collect()"
      ]
    },
    {
      "cell_type": "code",
      "execution_count": null,
      "metadata": {
        "colab": {
          "base_uri": "https://localhost:8080/"
        },
        "id": "bUlHCK8-vYlw",
        "outputId": "9928c92e-007b-4e3f-ff32-a2697691f1d9"
      },
      "outputs": [
        {
          "name": "stdout",
          "output_type": "stream",
          "text": [
            "16\n"
          ]
        }
      ],
      "source": [
        "print(len(df2020.columns))"
      ]
    },
    {
      "cell_type": "markdown",
      "metadata": {
        "id": "PLKFp4LevgVh"
      },
      "source": [
        "Inclusão de coluna por:\n",
        "* Jovens - Indivíduos de até 19 anos;\n",
        "* Adultos - Indivíduos com idade entre 20 até 59 anos;\n",
        "* Idosos - Indivíduos de 60 anos em diante."
      ]
    },
    {
      "cell_type": "code",
      "execution_count": null,
      "metadata": {
        "id": "4P0Vwlb_vhSC"
      },
      "outputs": [],
      "source": [
        "df2020 = (df2020.withColumn('IDADE', F.when((F.col('IDADE_OBITO') <= 19), F.lit('Jovem'))\n",
        "                                      .when((F.col('IDADE_OBITO') > 19) & (F.col('IDADE_OBITO') <= 59), F.lit('Adulto'))\n",
        "                                      .when((F.col('IDADE_OBITO') > 59), F.lit('Idoso')))\n",
        "          )"
      ]
    },
    {
      "cell_type": "markdown",
      "metadata": {
        "id": "2edoPE2WXYGW"
      },
      "source": [
        "CONSULTAS VIA SPARKSQL"
      ]
    },
    {
      "cell_type": "code",
      "execution_count": null,
      "metadata": {
        "colab": {
          "base_uri": "https://localhost:8080/"
        },
        "id": "HPNxWC2KXd9M",
        "outputId": "53f258ce-1092-4619-f072-f04b1a1e3871"
      },
      "outputs": [
        {
          "name": "stdout",
          "output_type": "stream",
          "text": [
            "+----------------+--------+------+----+\n",
            "|LOCAL_OCORRENCIA|RACA_COR| IDADE|SEXO|\n",
            "+----------------+--------+------+----+\n",
            "|       Domicílio|  Branca| Idoso|Masc|\n",
            "|       Domicílio|   Preta|Adulto|Masc|\n",
            "|        Hospital|  Branca| Idoso| Fem|\n",
            "|        Hospital|  Branca| Idoso| Fem|\n",
            "|        Hospital|  Branca| Idoso|Masc|\n",
            "|        Hospital|   Parda|Adulto|Masc|\n",
            "|       Domicílio|   Parda|Adulto| Fem|\n",
            "|     Via pública|  Branca|Adulto|Masc|\n",
            "|        Hospital|   Preta| Idoso|Masc|\n",
            "|        Hospital|   Parda| Jovem|Masc|\n",
            "|        Hospital|  Branca| Idoso|Masc|\n",
            "|        Hospital|   Preta|Adulto| Fem|\n",
            "|        Hospital|  Branca| Idoso| Fem|\n",
            "|        Hospital|   Preta| Idoso| Fem|\n",
            "|        Hospital|   Parda| Idoso| Fem|\n",
            "|       Domicílio|   Parda| Idoso| Fem|\n",
            "|       Domicílio|  Branca| Idoso|Masc|\n",
            "|        Hospital|   Parda| Idoso|Masc|\n",
            "|        Hospital|   Parda| Idoso|Masc|\n",
            "|        Hospital|   Parda|Adulto|Masc|\n",
            "+----------------+--------+------+----+\n",
            "only showing top 20 rows\n",
            "\n"
          ]
        }
      ],
      "source": [
        "df2020.select(\"LOCAL_OCORRENCIA\",\"RACA_COR\",\"IDADE\",\"SEXO\").show()"
      ]
    },
    {
      "cell_type": "code",
      "execution_count": null,
      "metadata": {
        "colab": {
          "base_uri": "https://localhost:8080/"
        },
        "id": "pWEJjJaCXw7w",
        "outputId": "1dadef7c-1f23-4f6a-ea04-e59541274c52"
      },
      "outputs": [
        {
          "name": "stdout",
          "output_type": "stream",
          "text": [
            "+----+------+----------------+--------------------+\n",
            "|SEXO| IDADE|LOCAL_OCORRENCIA|     DESCRICAO_OBITO|\n",
            "+----+------+----------------+--------------------+\n",
            "|Masc| Idoso|       Domicílio|Outras Causas Mal...|\n",
            "|Masc|Adulto|       Domicílio|Outras Causas Mal...|\n",
            "| Fem| Idoso|        Hospital|Doença Diverticul...|\n",
            "| Fem| Idoso|        Hospital|Insuficiência Res...|\n",
            "|Masc| Idoso|        Hospital|Septicemia Não Es...|\n",
            "|Masc|Adulto|        Hospital|Insuficiência Res...|\n",
            "| Fem|Adulto|       Domicílio|Neoplasia Maligna...|\n",
            "|Masc|Adulto|     Via pública|Outras Causas Mal...|\n",
            "|Masc| Idoso|        Hospital|Bradicardia Não E...|\n",
            "|Masc| Jovem|        Hospital|Septicemia Bacter...|\n",
            "+----+------+----------------+--------------------+\n",
            "only showing top 10 rows\n",
            "\n"
          ]
        }
      ],
      "source": [
        "df2020.select(F.col(\"SEXO\"),F.col(\"IDADE\"),F.col(\"LOCAL_OCORRENCIA\"),F.col(\"DESCRICAO_OBITO\")).show(10)"
      ]
    },
    {
      "cell_type": "code",
      "execution_count": null,
      "metadata": {
        "colab": {
          "base_uri": "https://localhost:8080/"
        },
        "id": "3UPXEaSzYIsR",
        "outputId": "ca5c712d-0fe8-4f0d-c95d-329f0ead7ad0"
      },
      "outputs": [
        {
          "name": "stdout",
          "output_type": "stream",
          "text": [
            "+-----+--------------------+----------------+\n",
            "|IDADE|ESTADO_DA_OCORRENCIA|LOCAL_OCORRENCIA|\n",
            "+-----+--------------------+----------------+\n",
            "|Idoso|        Minas Gerais|       Domicílio|\n",
            "|Idoso|        Minas Gerais|        Hospital|\n",
            "|Idoso|        Minas Gerais|        Hospital|\n",
            "|Idoso|        Minas Gerais|        Hospital|\n",
            "|Idoso|        Minas Gerais|        Hospital|\n",
            "|Idoso|        Minas Gerais|        Hospital|\n",
            "|Idoso|        Minas Gerais|        Hospital|\n",
            "|Idoso|        Minas Gerais|        Hospital|\n",
            "|Idoso|            Maranhão|        Hospital|\n",
            "|Idoso|            Maranhão|       Domicílio|\n",
            "|Idoso|            Maranhão|       Domicílio|\n",
            "|Idoso|            Maranhão|        Hospital|\n",
            "|Idoso|            Maranhão|        Hospital|\n",
            "|Idoso|            Maranhão|        Hospital|\n",
            "|Idoso|            Maranhão|        Hospital|\n",
            "|Idoso|            Maranhão|     Via pública|\n",
            "|Idoso|            Maranhão|        Hospital|\n",
            "|Idoso|           São Paulo|        Hospital|\n",
            "|Idoso|           São Paulo|        Hospital|\n",
            "|Idoso|           São Paulo|       Domicílio|\n",
            "+-----+--------------------+----------------+\n",
            "only showing top 20 rows\n",
            "\n"
          ]
        }
      ],
      "source": [
        "df2020.select(F.col(\"IDADE\"),F.col(\"ESTADO_DA_OCORRENCIA\"),F.col(\"LOCAL_OCORRENCIA\")).filter(F.col(\"IDADE\") == \"Idoso\").show()"
      ]
    },
    {
      "cell_type": "code",
      "execution_count": null,
      "metadata": {
        "colab": {
          "base_uri": "https://localhost:8080/"
        },
        "id": "OJqN2UqBYnf3",
        "outputId": "340b50f6-e1cc-4d7c-91f5-205b851b3698"
      },
      "outputs": [
        {
          "name": "stdout",
          "output_type": "stream",
          "text": [
            "+--------+----+--------------------+\n",
            "|RACA_COR|SEXO|     DESCRICAO_OBITO|\n",
            "+--------+----+--------------------+\n",
            "|   Parda| Fem|Septicemia Bacter...|\n",
            "|    null|Masc|Morte Fetal de Ca...|\n",
            "|   Preta| Fem|Outras Causas Mal...|\n",
            "|    null| Fem|Hipóxia Intra-ute...|\n",
            "|    null|Masc|Feto e Recém-nasc...|\n",
            "|    null|Masc|Hipóxia Intra-ute...|\n",
            "|  Branca|Masc|Outras Causas Mal...|\n",
            "|  Branca|Masc|Neoplasia Maligna...|\n",
            "|   Preta|Masc|Insuficiência Car...|\n",
            "|   Parda|Masc|Outras Causas Mal...|\n",
            "|  Branca|Masc|Outras Septicemia...|\n",
            "|   Parda|Masc|Doença de Hodgkin...|\n",
            "|   Parda|Masc|Neoplasia Maligna...|\n",
            "|   Parda|Masc|Acidente Vascular...|\n",
            "|  Branca|Masc|Leucemia Não Espe...|\n",
            "|  Branca|Masc|Neoplasia Maligna...|\n",
            "|  Branca| Fem|Broncopneumonia N...|\n",
            "|  Branca| Fem|Acidente Vascular...|\n",
            "|  Branca| Fem|Doença de Alzheim...|\n",
            "|  Branca| Fem|Doença de Alzheim...|\n",
            "+--------+----+--------------------+\n",
            "only showing top 20 rows\n",
            "\n"
          ]
        }
      ],
      "source": [
        "#CRIANDO FILTRO PARA O ESTADO DE SÃO PAULO\n",
        "filtro = F.col(\"ESTADO_DA_OCORRENCIA\") == \"São Paulo\"\n",
        "df2020.select(F.col(\"RACA_COR\"), F.col(\"SEXO\"), F.col(\"DESCRICAO_OBITO\")).filter(filtro).show()"
      ]
    },
    {
      "cell_type": "code",
      "execution_count": null,
      "metadata": {
        "colab": {
          "base_uri": "https://localhost:8080/"
        },
        "id": "hatpJOMkZFJE",
        "outputId": "7348e5d1-a1d8-4dd2-ce05-bbca9f803914"
      },
      "outputs": [
        {
          "name": "stdout",
          "output_type": "stream",
          "text": [
            "+-----------+----------+----------+----------+----+--------+--------+----------------+-------------------+------------+----------------+---------------+--------------------+---------+-----------+--------------------+------+\n",
            "|CAUSA_OBITO|TIPO_OBITO|DATA_OBITO|    DTNASC|SEXO|RACA_COR|OCUPACAO|LOCAL_OCORRENCIA|COD_ESTABELECIMENTO|CIDADE_OBITO|STATUS_D_OEPIDEM|STATUS_D_O_NOVA|     DESCRICAO_OBITO|QTD_OBITO|IDADE_OBITO|ESTADO_DA_OCORRENCIA| IDADE|\n",
            "+-----------+----------+----------+----------+----+--------+--------+----------------+-------------------+------------+----------------+---------------+--------------------+---------+-----------+--------------------+------+\n",
            "|       K579|         2|2020-01-14|1937-07-10| Fem|  Branca|  999992|        Hospital|            2760657|      316930|               0|              1|Doença Diverticul...|        1|         83|        Minas Gerais| Idoso|\n",
            "|       J960|         2|2020-01-20|1946-11-02| Fem|  Branca|  999992|        Hospital|            2760657|      316930|               0|              1|Insuficiência Res...|        1|         74|        Minas Gerais| Idoso|\n",
            "|       A419|         2|2020-01-26|1959-09-12|Masc|  Branca|  231205|        Hospital|            2760657|      316930|               0|              1|Septicemia Não Es...|        1|         61|        Minas Gerais| Idoso|\n",
            "|       J960|         2|2020-01-27|1964-05-08|Masc|   Parda|  783225|        Hospital|            2760657|      316930|               0|              1|Insuficiência Res...|        1|         56|        Minas Gerais|Adulto|\n",
            "|       R001|         2|2020-01-11|1943-05-10|Masc|   Preta|  999993|        Hospital|            2760657|      316930|               0|              1|Bradicardia Não E...|        1|         77|        Minas Gerais| Idoso|\n",
            "|       P369|         2|2020-01-15|2020-01-13|Masc|   Parda|    null|        Hospital|            2760657|      316930|               0|              1|Septicemia Bacter...|        1|          1|        Minas Gerais| Jovem|\n",
            "|       I219|         2|2020-01-12|1934-09-09|Masc|  Branca|  999993|        Hospital|            2760657|      316930|               0|              1|Infarto Agudo do ...|        1|         86|        Minas Gerais| Idoso|\n",
            "|        R99|         2|2020-01-10|1961-04-24| Fem|   Preta|  999992|        Hospital|            2760657|      316930|               0|              1|Outras Causas Mal...|        1|         59|        Minas Gerais|Adulto|\n",
            "|       J189|         2|2020-01-28|1950-08-28| Fem|  Branca|  999992|        Hospital|            2760657|      316930|               0|              1|Pneumonia Não Esp...|        1|         70|        Minas Gerais| Idoso|\n",
            "|       N390|         2|2020-01-28|1949-08-10| Fem|   Preta|  999992|        Hospital|            2760657|      316930|               0|              1|Infecção do Trato...|        1|         71|        Minas Gerais| Idoso|\n",
            "|       J189|         2|2020-01-16|1946-10-26| Fem|   Parda|  999993|        Hospital|            6957501|      210480|               0|              1|Pneumonia Não Esp...|        1|         74|            Maranhão| Idoso|\n",
            "|       V224|         2|2020-01-17|1948-08-01|Masc|   Parda|  999993|        Hospital|            6957501|      210480|               0|              1|Motociclista Trau...|        1|         72|            Maranhão| Idoso|\n",
            "|       G309|         2|2020-01-22|1944-10-21|Masc|   Parda|  999993|        Hospital|            6957501|      210480|               0|              1|Doença de Alzheim...|        1|         76|            Maranhão| Idoso|\n",
            "|        E43|         2|2020-01-22|1981-08-12|Masc|   Parda|  621005|        Hospital|            6957501|      210480|               0|              1|Desnutrição Proté...|        1|         39|            Maranhão|Adulto|\n",
            "|       I219|         2|2020-01-21|1949-04-15|Masc|  Branca|  999993|        Hospital|            6957501|      210480|               0|              1|Infarto Agudo do ...|        1|         71|            Maranhão| Idoso|\n",
            "|       K746|         2|2020-01-22|1958-02-08|Masc|   Parda|  621005|        Hospital|            6957501|      210480|               0|              1|Outras Formas de ...|        1|         62|            Maranhão| Idoso|\n",
            "|       I251|         2|2020-01-21|1943-02-12| Fem|   Parda|  999993|        Hospital|            6957501|      210480|               0|              1|Doença Ateroscler...|        1|         77|            Maranhão| Idoso|\n",
            "|       K550|         2|2020-01-14|1963-11-15| Fem|   Parda|  999993|        Hospital|            6957501|      210480|               0|              1|Transtornos Vascu...|        1|         57|            Maranhão|Adulto|\n",
            "|       P369|         2|2020-01-15|2020-01-07| Fem|   Parda|    null|        Hospital|            2082225|      355030|               0|              1|Septicemia Bacter...|        1|          1|           São Paulo| Jovem|\n",
            "|        P95|         1|2020-01-11|      null|Masc|    null|    null|        Hospital|            2082225|      355030|               0|              1|Morte Fetal de Ca...|        1|       null|           São Paulo|  null|\n",
            "+-----------+----------+----------+----------+----+--------+--------+----------------+-------------------+------------+----------------+---------------+--------------------+---------+-----------+--------------------+------+\n",
            "only showing top 20 rows\n",
            "\n"
          ]
        }
      ],
      "source": [
        "#CRIANDO CONSULTA PARA HOSPITAL\n",
        "df2020.where(F.col('LOCAL_OCORRENCIA') == 'Hospital').show()"
      ]
    },
    {
      "cell_type": "code",
      "execution_count": null,
      "metadata": {
        "id": "nbHMni2XoOjF"
      },
      "outputs": [],
      "source": [
        "df2020.createOrReplaceTempView(\"SIM2020\");"
      ]
    },
    {
      "cell_type": "code",
      "execution_count": null,
      "metadata": {
        "id": "0dN5Y0JvoUwD"
      },
      "outputs": [],
      "source": [
        "sim2020all = spark.sql(\"select * from SIM2020\");"
      ]
    },
    {
      "cell_type": "code",
      "execution_count": null,
      "metadata": {
        "id": "OzIB3HfYpfRn"
      },
      "outputs": [],
      "source": [
        "sim2020raca_sexo = spark.sql(\"select RACA_COR, SEXO from SIM2020 where RACA_COR == 'Parda'\");"
      ]
    },
    {
      "cell_type": "code",
      "execution_count": null,
      "metadata": {
        "id": "TF0tMCEFoq2b"
      },
      "outputs": [],
      "source": [
        "sim2020idade_jovem = spark.sql(\"select IDADE, count(*) QTD_OBITO from SIM2020 group by IDADE having (IDADE = 'Jovem') \");"
      ]
    },
    {
      "cell_type": "code",
      "execution_count": null,
      "metadata": {
        "id": "JyPqgdjzraMM"
      },
      "outputs": [],
      "source": [
        "sim2020idade_adulto = spark.sql(\"select IDADE, count(*) QTD_OBITO from SIM2020 group by IDADE having (IDADE = 'Adulto') \");"
      ]
    },
    {
      "cell_type": "code",
      "execution_count": null,
      "metadata": {
        "id": "GAGIn1p1rcoF"
      },
      "outputs": [],
      "source": [
        "sim2020idade_idoso = spark.sql(\"select IDADE, count(*) QTD_OBITO from SIM2020 group by IDADE having (IDADE = 'Idoso') \");"
      ]
    },
    {
      "cell_type": "code",
      "execution_count": null,
      "metadata": {
        "colab": {
          "base_uri": "https://localhost:8080/"
        },
        "id": "0fgDOVKCrELi",
        "outputId": "e702fb43-262a-4056-af78-f41d558f33c1"
      },
      "outputs": [
        {
          "name": "stdout",
          "output_type": "stream",
          "text": [
            "+------+---------+\n",
            "| IDADE|QTD_OBITO|\n",
            "+------+---------+\n",
            "|Adulto|   392101|\n",
            "+------+---------+\n",
            "\n"
          ]
        }
      ],
      "source": [
        "sim2020idade_adulto.show()"
      ]
    },
    {
      "cell_type": "markdown",
      "metadata": {
        "id": "e3f3YRlavrT-"
      },
      "source": [
        "##**NORMALIZAÇÃO E TRATAMENTO COM PANDAS**"
      ]
    },
    {
      "cell_type": "markdown",
      "metadata": {
        "id": "LdQrEB7awbBu"
      },
      "source": [
        "Convertendo df spark para pandas"
      ]
    },
    {
      "cell_type": "code",
      "execution_count": null,
      "metadata": {
        "id": "FT5Jb-06vqMW"
      },
      "outputs": [],
      "source": [
        "df_pandas = df2020.toPandas()"
      ]
    },
    {
      "cell_type": "code",
      "execution_count": null,
      "metadata": {
        "colab": {
          "base_uri": "https://localhost:8080/",
          "height": 180
        },
        "id": "LYZo-lP4v4jO",
        "outputId": "e6acae11-097d-4c2b-fcab-86f57a126f91"
      },
      "outputs": [
        {
          "data": {
            "text/html": [
              "\n",
              "  <div id=\"df-5e074dbb-67c4-478d-8ecf-3d7163b08b0d\">\n",
              "    <div class=\"colab-df-container\">\n",
              "      <div>\n",
              "<style scoped>\n",
              "    .dataframe tbody tr th:only-of-type {\n",
              "        vertical-align: middle;\n",
              "    }\n",
              "\n",
              "    .dataframe tbody tr th {\n",
              "        vertical-align: top;\n",
              "    }\n",
              "\n",
              "    .dataframe thead th {\n",
              "        text-align: right;\n",
              "    }\n",
              "</style>\n",
              "<table border=\"1\" class=\"dataframe\">\n",
              "  <thead>\n",
              "    <tr style=\"text-align: right;\">\n",
              "      <th></th>\n",
              "      <th>CAUSA_OBITO</th>\n",
              "      <th>TIPO_OBITO</th>\n",
              "      <th>DATA_OBITO</th>\n",
              "      <th>DTNASC</th>\n",
              "      <th>SEXO</th>\n",
              "      <th>RACA_COR</th>\n",
              "      <th>OCUPACAO</th>\n",
              "      <th>LOCAL_OCORRENCIA</th>\n",
              "      <th>COD_ESTABELECIMENTO</th>\n",
              "      <th>CIDADE_OBITO</th>\n",
              "      <th>STATUS_D_OEPIDEM</th>\n",
              "      <th>STATUS_D_O_NOVA</th>\n",
              "      <th>DESCRICAO_OBITO</th>\n",
              "      <th>QTD_OBITO</th>\n",
              "      <th>IDADE_OBITO</th>\n",
              "      <th>ESTADO_DA_OCORRENCIA</th>\n",
              "      <th>IDADE</th>\n",
              "    </tr>\n",
              "  </thead>\n",
              "  <tbody>\n",
              "    <tr>\n",
              "      <th>0</th>\n",
              "      <td>R99</td>\n",
              "      <td>2</td>\n",
              "      <td>2020-01-25</td>\n",
              "      <td>1951-05-10</td>\n",
              "      <td>Masc</td>\n",
              "      <td>Branca</td>\n",
              "      <td>999993.0</td>\n",
              "      <td>Domicílio</td>\n",
              "      <td>NaN</td>\n",
              "      <td>316930</td>\n",
              "      <td>0.0</td>\n",
              "      <td>1</td>\n",
              "      <td>Outras Causas Mal Definidas e as Não Especific...</td>\n",
              "      <td>1</td>\n",
              "      <td>69.0</td>\n",
              "      <td>Minas Gerais</td>\n",
              "      <td>Idoso</td>\n",
              "    </tr>\n",
              "  </tbody>\n",
              "</table>\n",
              "</div>\n",
              "      <button class=\"colab-df-convert\" onclick=\"convertToInteractive('df-5e074dbb-67c4-478d-8ecf-3d7163b08b0d')\"\n",
              "              title=\"Convert this dataframe to an interactive table.\"\n",
              "              style=\"display:none;\">\n",
              "        \n",
              "  <svg xmlns=\"http://www.w3.org/2000/svg\" height=\"24px\"viewBox=\"0 0 24 24\"\n",
              "       width=\"24px\">\n",
              "    <path d=\"M0 0h24v24H0V0z\" fill=\"none\"/>\n",
              "    <path d=\"M18.56 5.44l.94 2.06.94-2.06 2.06-.94-2.06-.94-.94-2.06-.94 2.06-2.06.94zm-11 1L8.5 8.5l.94-2.06 2.06-.94-2.06-.94L8.5 2.5l-.94 2.06-2.06.94zm10 10l.94 2.06.94-2.06 2.06-.94-2.06-.94-.94-2.06-.94 2.06-2.06.94z\"/><path d=\"M17.41 7.96l-1.37-1.37c-.4-.4-.92-.59-1.43-.59-.52 0-1.04.2-1.43.59L10.3 9.45l-7.72 7.72c-.78.78-.78 2.05 0 2.83L4 21.41c.39.39.9.59 1.41.59.51 0 1.02-.2 1.41-.59l7.78-7.78 2.81-2.81c.8-.78.8-2.07 0-2.86zM5.41 20L4 18.59l7.72-7.72 1.47 1.35L5.41 20z\"/>\n",
              "  </svg>\n",
              "      </button>\n",
              "      \n",
              "  <style>\n",
              "    .colab-df-container {\n",
              "      display:flex;\n",
              "      flex-wrap:wrap;\n",
              "      gap: 12px;\n",
              "    }\n",
              "\n",
              "    .colab-df-convert {\n",
              "      background-color: #E8F0FE;\n",
              "      border: none;\n",
              "      border-radius: 50%;\n",
              "      cursor: pointer;\n",
              "      display: none;\n",
              "      fill: #1967D2;\n",
              "      height: 32px;\n",
              "      padding: 0 0 0 0;\n",
              "      width: 32px;\n",
              "    }\n",
              "\n",
              "    .colab-df-convert:hover {\n",
              "      background-color: #E2EBFA;\n",
              "      box-shadow: 0px 1px 2px rgba(60, 64, 67, 0.3), 0px 1px 3px 1px rgba(60, 64, 67, 0.15);\n",
              "      fill: #174EA6;\n",
              "    }\n",
              "\n",
              "    [theme=dark] .colab-df-convert {\n",
              "      background-color: #3B4455;\n",
              "      fill: #D2E3FC;\n",
              "    }\n",
              "\n",
              "    [theme=dark] .colab-df-convert:hover {\n",
              "      background-color: #434B5C;\n",
              "      box-shadow: 0px 1px 3px 1px rgba(0, 0, 0, 0.15);\n",
              "      filter: drop-shadow(0px 1px 2px rgba(0, 0, 0, 0.3));\n",
              "      fill: #FFFFFF;\n",
              "    }\n",
              "  </style>\n",
              "\n",
              "      <script>\n",
              "        const buttonEl =\n",
              "          document.querySelector('#df-5e074dbb-67c4-478d-8ecf-3d7163b08b0d button.colab-df-convert');\n",
              "        buttonEl.style.display =\n",
              "          google.colab.kernel.accessAllowed ? 'block' : 'none';\n",
              "\n",
              "        async function convertToInteractive(key) {\n",
              "          const element = document.querySelector('#df-5e074dbb-67c4-478d-8ecf-3d7163b08b0d');\n",
              "          const dataTable =\n",
              "            await google.colab.kernel.invokeFunction('convertToInteractive',\n",
              "                                                     [key], {});\n",
              "          if (!dataTable) return;\n",
              "\n",
              "          const docLinkHtml = 'Like what you see? Visit the ' +\n",
              "            '<a target=\"_blank\" href=https://colab.research.google.com/notebooks/data_table.ipynb>data table notebook</a>'\n",
              "            + ' to learn more about interactive tables.';\n",
              "          element.innerHTML = '';\n",
              "          dataTable['output_type'] = 'display_data';\n",
              "          await google.colab.output.renderOutput(dataTable, element);\n",
              "          const docLink = document.createElement('div');\n",
              "          docLink.innerHTML = docLinkHtml;\n",
              "          element.appendChild(docLink);\n",
              "        }\n",
              "      </script>\n",
              "    </div>\n",
              "  </div>\n",
              "  "
            ],
            "text/plain": [
              "  CAUSA_OBITO  TIPO_OBITO  DATA_OBITO      DTNASC  SEXO RACA_COR  OCUPACAO  \\\n",
              "0         R99           2  2020-01-25  1951-05-10  Masc   Branca  999993.0   \n",
              "\n",
              "  LOCAL_OCORRENCIA  COD_ESTABELECIMENTO  CIDADE_OBITO  STATUS_D_OEPIDEM  \\\n",
              "0        Domicílio                  NaN        316930               0.0   \n",
              "\n",
              "   STATUS_D_O_NOVA                                    DESCRICAO_OBITO  \\\n",
              "0                1  Outras Causas Mal Definidas e as Não Especific...   \n",
              "\n",
              "   QTD_OBITO  IDADE_OBITO ESTADO_DA_OCORRENCIA  IDADE  \n",
              "0          1         69.0         Minas Gerais  Idoso  "
            ]
          },
          "execution_count": 77,
          "metadata": {},
          "output_type": "execute_result"
        }
      ],
      "source": [
        "df_pandas.head(1)"
      ]
    },
    {
      "cell_type": "code",
      "execution_count": null,
      "metadata": {
        "colab": {
          "base_uri": "https://localhost:8080/"
        },
        "id": "_vI7o-ctwXMP",
        "outputId": "9da26a8a-b13c-4044-81ea-eb69caf50c25"
      },
      "outputs": [
        {
          "data": {
            "text/plain": [
              "CAUSA_OBITO                  0\n",
              "TIPO_OBITO                   0\n",
              "DATA_OBITO                   0\n",
              "DTNASC                   32732\n",
              "SEXO                         0\n",
              "RACA_COR                 70020\n",
              "OCUPACAO                280813\n",
              "LOCAL_OCORRENCIA             0\n",
              "COD_ESTABELECIMENTO     424509\n",
              "CIDADE_OBITO                 0\n",
              "STATUS_D_OEPIDEM             4\n",
              "STATUS_D_O_NOVA              0\n",
              "DESCRICAO_OBITO             84\n",
              "QTD_OBITO                    0\n",
              "IDADE_OBITO              32732\n",
              "ESTADO_DA_OCORRENCIA         0\n",
              "IDADE                    32732\n",
              "dtype: int64"
            ]
          },
          "execution_count": 78,
          "metadata": {},
          "output_type": "execute_result"
        }
      ],
      "source": [
        "df_pandas.isnull().sum()"
      ]
    },
    {
      "cell_type": "markdown",
      "metadata": {
        "id": "i1LZeePZz8jc"
      },
      "source": [
        "SUBSTITUINDO OS CAMPOS NULL"
      ]
    },
    {
      "cell_type": "code",
      "execution_count": null,
      "metadata": {
        "id": "LMyTpxG6wudu"
      },
      "outputs": [],
      "source": [
        "df_pandas['DTNASC'].fillna(0, inplace=True)\n",
        "df_pandas['RACA_COR'].fillna('Não Informado', inplace=True)\n",
        "df_pandas['OCUPACAO'].fillna(0, inplace=True)\n",
        "df_pandas['COD_ESTABELECIMENTO'].fillna(0, inplace=True)\n",
        "df_pandas['STATUS_D_OEPIDEM'].fillna('Não Informado', inplace=True)\n",
        "df_pandas['DESCRICAO_OBITO'].fillna('Não Informado', inplace=True)\n",
        "df_pandas['IDADE_OBITO'].fillna(0, inplace=True)"
      ]
    },
    {
      "cell_type": "code",
      "execution_count": null,
      "metadata": {
        "colab": {
          "base_uri": "https://localhost:8080/"
        },
        "id": "Q5O2SNULwAam",
        "outputId": "ef781cc9-900f-4a4f-c470-802c517c77d5"
      },
      "outputs": [
        {
          "data": {
            "text/plain": [
              "CAUSA_OBITO              object\n",
              "TIPO_OBITO                int32\n",
              "DATA_OBITO               object\n",
              "DTNASC                   object\n",
              "SEXO                     object\n",
              "RACA_COR                 object\n",
              "OCUPACAO                float64\n",
              "LOCAL_OCORRENCIA         object\n",
              "COD_ESTABELECIMENTO     float64\n",
              "CIDADE_OBITO              int32\n",
              "STATUS_D_OEPIDEM         object\n",
              "STATUS_D_O_NOVA           int32\n",
              "DESCRICAO_OBITO          object\n",
              "QTD_OBITO                 int32\n",
              "IDADE_OBITO             float64\n",
              "ESTADO_DA_OCORRENCIA     object\n",
              "IDADE                    object\n",
              "dtype: object"
            ]
          },
          "execution_count": 80,
          "metadata": {},
          "output_type": "execute_result"
        }
      ],
      "source": [
        "df_pandas.dtypes"
      ]
    },
    {
      "cell_type": "code",
      "execution_count": null,
      "metadata": {
        "colab": {
          "base_uri": "https://localhost:8080/",
          "height": 180
        },
        "id": "id0GqLKazMiP",
        "outputId": "b7c01622-639f-4c9a-d79c-4546176ebd98"
      },
      "outputs": [
        {
          "data": {
            "text/html": [
              "\n",
              "  <div id=\"df-72b60aa3-d933-4059-84b7-9a49a455ae73\">\n",
              "    <div class=\"colab-df-container\">\n",
              "      <div>\n",
              "<style scoped>\n",
              "    .dataframe tbody tr th:only-of-type {\n",
              "        vertical-align: middle;\n",
              "    }\n",
              "\n",
              "    .dataframe tbody tr th {\n",
              "        vertical-align: top;\n",
              "    }\n",
              "\n",
              "    .dataframe thead th {\n",
              "        text-align: right;\n",
              "    }\n",
              "</style>\n",
              "<table border=\"1\" class=\"dataframe\">\n",
              "  <thead>\n",
              "    <tr style=\"text-align: right;\">\n",
              "      <th></th>\n",
              "      <th>CAUSA_OBITO</th>\n",
              "      <th>TIPO_OBITO</th>\n",
              "      <th>DATA_OBITO</th>\n",
              "      <th>DTNASC</th>\n",
              "      <th>SEXO</th>\n",
              "      <th>RACA_COR</th>\n",
              "      <th>OCUPACAO</th>\n",
              "      <th>LOCAL_OCORRENCIA</th>\n",
              "      <th>COD_ESTABELECIMENTO</th>\n",
              "      <th>CIDADE_OBITO</th>\n",
              "      <th>STATUS_D_OEPIDEM</th>\n",
              "      <th>STATUS_D_O_NOVA</th>\n",
              "      <th>DESCRICAO_OBITO</th>\n",
              "      <th>QTD_OBITO</th>\n",
              "      <th>IDADE_OBITO</th>\n",
              "      <th>ESTADO_DA_OCORRENCIA</th>\n",
              "      <th>IDADE</th>\n",
              "    </tr>\n",
              "  </thead>\n",
              "  <tbody>\n",
              "    <tr>\n",
              "      <th>0</th>\n",
              "      <td>R99</td>\n",
              "      <td>2</td>\n",
              "      <td>2020-01-25</td>\n",
              "      <td>1951-05-10</td>\n",
              "      <td>Masc</td>\n",
              "      <td>Branca</td>\n",
              "      <td>999993.0</td>\n",
              "      <td>Domicílio</td>\n",
              "      <td>0.0</td>\n",
              "      <td>316930</td>\n",
              "      <td>0.0</td>\n",
              "      <td>1</td>\n",
              "      <td>Outras Causas Mal Definidas e as Não Especific...</td>\n",
              "      <td>1</td>\n",
              "      <td>69.0</td>\n",
              "      <td>Minas Gerais</td>\n",
              "      <td>Idoso</td>\n",
              "    </tr>\n",
              "  </tbody>\n",
              "</table>\n",
              "</div>\n",
              "      <button class=\"colab-df-convert\" onclick=\"convertToInteractive('df-72b60aa3-d933-4059-84b7-9a49a455ae73')\"\n",
              "              title=\"Convert this dataframe to an interactive table.\"\n",
              "              style=\"display:none;\">\n",
              "        \n",
              "  <svg xmlns=\"http://www.w3.org/2000/svg\" height=\"24px\"viewBox=\"0 0 24 24\"\n",
              "       width=\"24px\">\n",
              "    <path d=\"M0 0h24v24H0V0z\" fill=\"none\"/>\n",
              "    <path d=\"M18.56 5.44l.94 2.06.94-2.06 2.06-.94-2.06-.94-.94-2.06-.94 2.06-2.06.94zm-11 1L8.5 8.5l.94-2.06 2.06-.94-2.06-.94L8.5 2.5l-.94 2.06-2.06.94zm10 10l.94 2.06.94-2.06 2.06-.94-2.06-.94-.94-2.06-.94 2.06-2.06.94z\"/><path d=\"M17.41 7.96l-1.37-1.37c-.4-.4-.92-.59-1.43-.59-.52 0-1.04.2-1.43.59L10.3 9.45l-7.72 7.72c-.78.78-.78 2.05 0 2.83L4 21.41c.39.39.9.59 1.41.59.51 0 1.02-.2 1.41-.59l7.78-7.78 2.81-2.81c.8-.78.8-2.07 0-2.86zM5.41 20L4 18.59l7.72-7.72 1.47 1.35L5.41 20z\"/>\n",
              "  </svg>\n",
              "      </button>\n",
              "      \n",
              "  <style>\n",
              "    .colab-df-container {\n",
              "      display:flex;\n",
              "      flex-wrap:wrap;\n",
              "      gap: 12px;\n",
              "    }\n",
              "\n",
              "    .colab-df-convert {\n",
              "      background-color: #E8F0FE;\n",
              "      border: none;\n",
              "      border-radius: 50%;\n",
              "      cursor: pointer;\n",
              "      display: none;\n",
              "      fill: #1967D2;\n",
              "      height: 32px;\n",
              "      padding: 0 0 0 0;\n",
              "      width: 32px;\n",
              "    }\n",
              "\n",
              "    .colab-df-convert:hover {\n",
              "      background-color: #E2EBFA;\n",
              "      box-shadow: 0px 1px 2px rgba(60, 64, 67, 0.3), 0px 1px 3px 1px rgba(60, 64, 67, 0.15);\n",
              "      fill: #174EA6;\n",
              "    }\n",
              "\n",
              "    [theme=dark] .colab-df-convert {\n",
              "      background-color: #3B4455;\n",
              "      fill: #D2E3FC;\n",
              "    }\n",
              "\n",
              "    [theme=dark] .colab-df-convert:hover {\n",
              "      background-color: #434B5C;\n",
              "      box-shadow: 0px 1px 3px 1px rgba(0, 0, 0, 0.15);\n",
              "      filter: drop-shadow(0px 1px 2px rgba(0, 0, 0, 0.3));\n",
              "      fill: #FFFFFF;\n",
              "    }\n",
              "  </style>\n",
              "\n",
              "      <script>\n",
              "        const buttonEl =\n",
              "          document.querySelector('#df-72b60aa3-d933-4059-84b7-9a49a455ae73 button.colab-df-convert');\n",
              "        buttonEl.style.display =\n",
              "          google.colab.kernel.accessAllowed ? 'block' : 'none';\n",
              "\n",
              "        async function convertToInteractive(key) {\n",
              "          const element = document.querySelector('#df-72b60aa3-d933-4059-84b7-9a49a455ae73');\n",
              "          const dataTable =\n",
              "            await google.colab.kernel.invokeFunction('convertToInteractive',\n",
              "                                                     [key], {});\n",
              "          if (!dataTable) return;\n",
              "\n",
              "          const docLinkHtml = 'Like what you see? Visit the ' +\n",
              "            '<a target=\"_blank\" href=https://colab.research.google.com/notebooks/data_table.ipynb>data table notebook</a>'\n",
              "            + ' to learn more about interactive tables.';\n",
              "          element.innerHTML = '';\n",
              "          dataTable['output_type'] = 'display_data';\n",
              "          await google.colab.output.renderOutput(dataTable, element);\n",
              "          const docLink = document.createElement('div');\n",
              "          docLink.innerHTML = docLinkHtml;\n",
              "          element.appendChild(docLink);\n",
              "        }\n",
              "      </script>\n",
              "    </div>\n",
              "  </div>\n",
              "  "
            ],
            "text/plain": [
              "  CAUSA_OBITO  TIPO_OBITO  DATA_OBITO      DTNASC  SEXO RACA_COR  OCUPACAO  \\\n",
              "0         R99           2  2020-01-25  1951-05-10  Masc   Branca  999993.0   \n",
              "\n",
              "  LOCAL_OCORRENCIA  COD_ESTABELECIMENTO  CIDADE_OBITO STATUS_D_OEPIDEM  \\\n",
              "0        Domicílio                  0.0        316930              0.0   \n",
              "\n",
              "   STATUS_D_O_NOVA                                    DESCRICAO_OBITO  \\\n",
              "0                1  Outras Causas Mal Definidas e as Não Especific...   \n",
              "\n",
              "   QTD_OBITO  IDADE_OBITO ESTADO_DA_OCORRENCIA  IDADE  \n",
              "0          1         69.0         Minas Gerais  Idoso  "
            ]
          },
          "execution_count": 81,
          "metadata": {},
          "output_type": "execute_result"
        }
      ],
      "source": [
        "df_pandas.head(1)"
      ]
    },
    {
      "cell_type": "markdown",
      "metadata": {
        "id": "urAFoqRn0h9s"
      },
      "source": [
        "CONSTRUÇÃO DO SCHEMA"
      ]
    },
    {
      "cell_type": "code",
      "execution_count": null,
      "metadata": {
        "id": "JePou0xK0fIs"
      },
      "outputs": [],
      "source": [
        "schema = pa.DataFrameSchema(\n",
        "    columns = {\n",
        "        \"CAUSA_OBITO\":pa.Column(pa.String),\n",
        "        \"TIPO_OBITO\":pa.Column(pa.Int32),\n",
        "        \"DATA_OBITO\":pa.Column(pa.String),\n",
        "        \"DTNASC\":pa.Column(pa.String),\n",
        "        \"SEXO\":pa.Column(pa.String),\n",
        "        \"RACA_COR\":pa.Column(pa.String),\n",
        "        \"OCUPACAO\":pa.Column(pa.Float64),\n",
        "        \"LOCAL_OCORRENCIA\":pa.Column(pa.String),\n",
        "        \"COD_ESTABELECIMENTO\":pa.Column(pa.Float64),\n",
        "        \"CIDADE_OBITO\":pa.Column(pa.Int32),\n",
        "        \"STATUS_D_OEPIDEM\":pa.Column(pa.String),\n",
        "        \"STATUS_D_O_NOVA\":pa.Column(pa.Int32),\n",
        "        \"DESCRICAO_OBITO\":pa.Column(pa.String),\n",
        "        \"QTD_OBITO\":pa.Column(pa.Int32),\n",
        "        \"IDADE_OBITO\":pa.Column(pa.Float64),\n",
        "        \"ESTADO_DA_OCORRENCIA\":pa.Column(pa.String)\n",
        "            \n",
        "          }\n",
        "    \n",
        ")"
      ]
    },
    {
      "cell_type": "markdown",
      "metadata": {
        "id": "j5PWyEVYTCpd"
      },
      "source": [
        "CONSTRUÇÃO DOS INSIGHTS PANDAS"
      ]
    },
    {
      "cell_type": "code",
      "execution_count": null,
      "metadata": {
        "colab": {
          "base_uri": "https://localhost:8080/"
        },
        "id": "1tfU-kbYEWzN",
        "outputId": "65b353be-31d3-4c1f-dcd5-2704a761461a"
      },
      "outputs": [
        {
          "data": {
            "text/plain": [
              "CAUSA_OBITO              object\n",
              "TIPO_OBITO                int32\n",
              "DATA_OBITO               object\n",
              "DTNASC                   object\n",
              "SEXO                     object\n",
              "RACA_COR                 object\n",
              "OCUPACAO                float64\n",
              "LOCAL_OCORRENCIA         object\n",
              "COD_ESTABELECIMENTO     float64\n",
              "CIDADE_OBITO              int32\n",
              "STATUS_D_OEPIDEM         object\n",
              "STATUS_D_O_NOVA           int32\n",
              "DESCRICAO_OBITO          object\n",
              "QTD_OBITO                 int32\n",
              "IDADE_OBITO             float64\n",
              "ESTADO_DA_OCORRENCIA     object\n",
              "IDADE                    object\n",
              "dtype: object"
            ]
          },
          "execution_count": 83,
          "metadata": {},
          "output_type": "execute_result"
        }
      ],
      "source": [
        "df_pandas.dtypes"
      ]
    },
    {
      "cell_type": "code",
      "execution_count": null,
      "metadata": {
        "id": "jIy9IKY7IDea"
      },
      "outputs": [],
      "source": [
        "schema.validate(df_pandas)"
      ]
    },
    {
      "cell_type": "code",
      "execution_count": null,
      "metadata": {
        "colab": {
          "base_uri": "https://localhost:8080/",
          "height": 180
        },
        "id": "TmrX2moNwT4y",
        "outputId": "8e116d7c-1d0c-4106-c24d-19c98bd0aaca"
      },
      "outputs": [
        {
          "data": {
            "text/html": [
              "\n",
              "  <div id=\"df-1b28abc4-d2c2-4cf7-bb53-307c5e0ababd\">\n",
              "    <div class=\"colab-df-container\">\n",
              "      <div>\n",
              "<style scoped>\n",
              "    .dataframe tbody tr th:only-of-type {\n",
              "        vertical-align: middle;\n",
              "    }\n",
              "\n",
              "    .dataframe tbody tr th {\n",
              "        vertical-align: top;\n",
              "    }\n",
              "\n",
              "    .dataframe thead th {\n",
              "        text-align: right;\n",
              "    }\n",
              "</style>\n",
              "<table border=\"1\" class=\"dataframe\">\n",
              "  <thead>\n",
              "    <tr style=\"text-align: right;\">\n",
              "      <th></th>\n",
              "      <th>CAUSA_OBITO</th>\n",
              "      <th>TIPO_OBITO</th>\n",
              "      <th>DATA_OBITO</th>\n",
              "      <th>DTNASC</th>\n",
              "      <th>SEXO</th>\n",
              "      <th>RACA_COR</th>\n",
              "      <th>OCUPACAO</th>\n",
              "      <th>LOCAL_OCORRENCIA</th>\n",
              "      <th>COD_ESTABELECIMENTO</th>\n",
              "      <th>CIDADE_OBITO</th>\n",
              "      <th>STATUS_D_OEPIDEM</th>\n",
              "      <th>STATUS_D_O_NOVA</th>\n",
              "      <th>DESCRICAO_OBITO</th>\n",
              "      <th>QTD_OBITO</th>\n",
              "      <th>IDADE_OBITO</th>\n",
              "      <th>ESTADO_DA_OCORRENCIA</th>\n",
              "      <th>IDADE</th>\n",
              "    </tr>\n",
              "  </thead>\n",
              "  <tbody>\n",
              "    <tr>\n",
              "      <th>0</th>\n",
              "      <td>R99</td>\n",
              "      <td>2</td>\n",
              "      <td>2020-01-25</td>\n",
              "      <td>1951-05-10</td>\n",
              "      <td>Masc</td>\n",
              "      <td>Branca</td>\n",
              "      <td>999993.0</td>\n",
              "      <td>Domicílio</td>\n",
              "      <td>0.0</td>\n",
              "      <td>316930</td>\n",
              "      <td>0.0</td>\n",
              "      <td>1</td>\n",
              "      <td>Outras Causas Mal Definidas e as Não Especific...</td>\n",
              "      <td>1</td>\n",
              "      <td>69.0</td>\n",
              "      <td>Minas Gerais</td>\n",
              "      <td>Idoso</td>\n",
              "    </tr>\n",
              "  </tbody>\n",
              "</table>\n",
              "</div>\n",
              "      <button class=\"colab-df-convert\" onclick=\"convertToInteractive('df-1b28abc4-d2c2-4cf7-bb53-307c5e0ababd')\"\n",
              "              title=\"Convert this dataframe to an interactive table.\"\n",
              "              style=\"display:none;\">\n",
              "        \n",
              "  <svg xmlns=\"http://www.w3.org/2000/svg\" height=\"24px\"viewBox=\"0 0 24 24\"\n",
              "       width=\"24px\">\n",
              "    <path d=\"M0 0h24v24H0V0z\" fill=\"none\"/>\n",
              "    <path d=\"M18.56 5.44l.94 2.06.94-2.06 2.06-.94-2.06-.94-.94-2.06-.94 2.06-2.06.94zm-11 1L8.5 8.5l.94-2.06 2.06-.94-2.06-.94L8.5 2.5l-.94 2.06-2.06.94zm10 10l.94 2.06.94-2.06 2.06-.94-2.06-.94-.94-2.06-.94 2.06-2.06.94z\"/><path d=\"M17.41 7.96l-1.37-1.37c-.4-.4-.92-.59-1.43-.59-.52 0-1.04.2-1.43.59L10.3 9.45l-7.72 7.72c-.78.78-.78 2.05 0 2.83L4 21.41c.39.39.9.59 1.41.59.51 0 1.02-.2 1.41-.59l7.78-7.78 2.81-2.81c.8-.78.8-2.07 0-2.86zM5.41 20L4 18.59l7.72-7.72 1.47 1.35L5.41 20z\"/>\n",
              "  </svg>\n",
              "      </button>\n",
              "      \n",
              "  <style>\n",
              "    .colab-df-container {\n",
              "      display:flex;\n",
              "      flex-wrap:wrap;\n",
              "      gap: 12px;\n",
              "    }\n",
              "\n",
              "    .colab-df-convert {\n",
              "      background-color: #E8F0FE;\n",
              "      border: none;\n",
              "      border-radius: 50%;\n",
              "      cursor: pointer;\n",
              "      display: none;\n",
              "      fill: #1967D2;\n",
              "      height: 32px;\n",
              "      padding: 0 0 0 0;\n",
              "      width: 32px;\n",
              "    }\n",
              "\n",
              "    .colab-df-convert:hover {\n",
              "      background-color: #E2EBFA;\n",
              "      box-shadow: 0px 1px 2px rgba(60, 64, 67, 0.3), 0px 1px 3px 1px rgba(60, 64, 67, 0.15);\n",
              "      fill: #174EA6;\n",
              "    }\n",
              "\n",
              "    [theme=dark] .colab-df-convert {\n",
              "      background-color: #3B4455;\n",
              "      fill: #D2E3FC;\n",
              "    }\n",
              "\n",
              "    [theme=dark] .colab-df-convert:hover {\n",
              "      background-color: #434B5C;\n",
              "      box-shadow: 0px 1px 3px 1px rgba(0, 0, 0, 0.15);\n",
              "      filter: drop-shadow(0px 1px 2px rgba(0, 0, 0, 0.3));\n",
              "      fill: #FFFFFF;\n",
              "    }\n",
              "  </style>\n",
              "\n",
              "      <script>\n",
              "        const buttonEl =\n",
              "          document.querySelector('#df-1b28abc4-d2c2-4cf7-bb53-307c5e0ababd button.colab-df-convert');\n",
              "        buttonEl.style.display =\n",
              "          google.colab.kernel.accessAllowed ? 'block' : 'none';\n",
              "\n",
              "        async function convertToInteractive(key) {\n",
              "          const element = document.querySelector('#df-1b28abc4-d2c2-4cf7-bb53-307c5e0ababd');\n",
              "          const dataTable =\n",
              "            await google.colab.kernel.invokeFunction('convertToInteractive',\n",
              "                                                     [key], {});\n",
              "          if (!dataTable) return;\n",
              "\n",
              "          const docLinkHtml = 'Like what you see? Visit the ' +\n",
              "            '<a target=\"_blank\" href=https://colab.research.google.com/notebooks/data_table.ipynb>data table notebook</a>'\n",
              "            + ' to learn more about interactive tables.';\n",
              "          element.innerHTML = '';\n",
              "          dataTable['output_type'] = 'display_data';\n",
              "          await google.colab.output.renderOutput(dataTable, element);\n",
              "          const docLink = document.createElement('div');\n",
              "          docLink.innerHTML = docLinkHtml;\n",
              "          element.appendChild(docLink);\n",
              "        }\n",
              "      </script>\n",
              "    </div>\n",
              "  </div>\n",
              "  "
            ],
            "text/plain": [
              "  CAUSA_OBITO  TIPO_OBITO  DATA_OBITO      DTNASC  SEXO RACA_COR  OCUPACAO  \\\n",
              "0         R99           2  2020-01-25  1951-05-10  Masc   Branca  999993.0   \n",
              "\n",
              "  LOCAL_OCORRENCIA  COD_ESTABELECIMENTO  CIDADE_OBITO STATUS_D_OEPIDEM  \\\n",
              "0        Domicílio                  0.0        316930              0.0   \n",
              "\n",
              "   STATUS_D_O_NOVA                                    DESCRICAO_OBITO  \\\n",
              "0                1  Outras Causas Mal Definidas e as Não Especific...   \n",
              "\n",
              "   QTD_OBITO  IDADE_OBITO ESTADO_DA_OCORRENCIA  IDADE  \n",
              "0          1         69.0         Minas Gerais  Idoso  "
            ]
          },
          "execution_count": 85,
          "metadata": {},
          "output_type": "execute_result"
        }
      ],
      "source": [
        "df_pandas.head(1)"
      ]
    },
    {
      "cell_type": "code",
      "execution_count": null,
      "metadata": {
        "colab": {
          "base_uri": "https://localhost:8080/"
        },
        "id": "5G_tuPtpwUHr",
        "outputId": "10b7c518-cab7-41af-da5d-ba1ed59b8da4"
      },
      "outputs": [
        {
          "data": {
            "text/plain": [
              "RACA_COR\n",
              "Branca           762577\n",
              "Parda            602642\n",
              "Preta            131638\n",
              "Não Informado     70020\n",
              "Amarela            9450\n",
              "Indigena           5318\n",
              "dtype: int64"
            ]
          },
          "execution_count": 86,
          "metadata": {},
          "output_type": "execute_result"
        }
      ],
      "source": [
        "df_pandas.groupby(['RACA_COR']).size().sort_values(ascending=False)"
      ]
    },
    {
      "cell_type": "code",
      "execution_count": null,
      "metadata": {
        "colab": {
          "base_uri": "https://localhost:8080/"
        },
        "id": "5nTb14uAwUOA",
        "outputId": "2a36651d-d3e1-4bce-aa61-1d3f20dfe257"
      },
      "outputs": [
        {
          "data": {
            "text/plain": [
              "SEXO\n",
              "Masc    886723\n",
              "Fem     693401\n",
              "N/I       1521\n",
              "dtype: int64"
            ]
          },
          "execution_count": 87,
          "metadata": {},
          "output_type": "execute_result"
        }
      ],
      "source": [
        "df_pandas.groupby(['SEXO']).size().sort_values(ascending=False)"
      ]
    },
    {
      "cell_type": "code",
      "execution_count": null,
      "metadata": {
        "colab": {
          "base_uri": "https://localhost:8080/"
        },
        "id": "SfzSzBX9wgO4",
        "outputId": "bcb64075-735e-42a2-e48c-6b3dd1136699"
      },
      "outputs": [
        {
          "data": {
            "text/plain": [
              "IDADE\n",
              "Idoso     1102992\n",
              "Adulto     392101\n",
              "Jovem       53820\n",
              "dtype: int64"
            ]
          },
          "execution_count": 88,
          "metadata": {},
          "output_type": "execute_result"
        }
      ],
      "source": [
        "df_pandas.groupby(['IDADE']).size().sort_values(ascending=False)"
      ]
    },
    {
      "cell_type": "code",
      "execution_count": null,
      "metadata": {
        "colab": {
          "base_uri": "https://localhost:8080/"
        },
        "id": "NUgYD1iTwKsP",
        "outputId": "b96e2eba-760e-44e4-e152-98959525859a"
      },
      "outputs": [
        {
          "data": {
            "text/plain": [
              "IDADE   LOCAL_OCORRENCIA                \n",
              "Idoso   Hospital                            751279\n",
              "        Domicílio                           251962\n",
              "Adulto  Hospital                            236455\n",
              "Idoso   Outros estabelecimentos de saúde     72546\n",
              "Adulto  Domicílio                            67700\n",
              "Jovem   Hospital                             40886\n",
              "Adulto  Via pública                          38843\n",
              "        Outros estabelecimentos de saúde     25585\n",
              "        Outros                               23041\n",
              "Idoso   Outros                               19202\n",
              "        Via pública                           7525\n",
              "Jovem   Via pública                           4143\n",
              "        Domicílio                             4104\n",
              "        Outros                                2918\n",
              "        Outros estabelecimentos de saúde      1678\n",
              "Adulto  Ignorado                               450\n",
              "Idoso   Ignorado                               426\n",
              "Jovem   Ignorado                                56\n",
              "Idoso   Aldeia indígena                         52\n",
              "Jovem   Aldeia indígena                         35\n",
              "Adulto  Aldeia indígena                         27\n",
              "Name: QTD_OBITO, dtype: int64"
            ]
          },
          "execution_count": 89,
          "metadata": {},
          "output_type": "execute_result"
        }
      ],
      "source": [
        "df_pandas.groupby(['IDADE','LOCAL_OCORRENCIA']).QTD_OBITO.count().sort_values(ascending=False)"
      ]
    },
    {
      "cell_type": "code",
      "execution_count": null,
      "metadata": {
        "colab": {
          "base_uri": "https://localhost:8080/"
        },
        "id": "wWcCJKYUzQtA",
        "outputId": "6ab3f283-b263-4de4-e239-9fe7af360356"
      },
      "outputs": [
        {
          "data": {
            "text/plain": [
              "IDADE   SEXO  RACA_COR  LOCAL_OCORRENCIA  DESCRICAO_OBITO                                         \n",
              "Idoso   Masc  Branca    Hospital          Infecção Por Coronavírus de Localização Não Especificada    42784\n",
              "        Fem   Branca    Hospital          Infecção Por Coronavírus de Localização Não Especificada    34992\n",
              "        Masc  Parda     Hospital          Infecção Por Coronavírus de Localização Não Especificada    30563\n",
              "        Fem   Parda     Hospital          Infecção Por Coronavírus de Localização Não Especificada    22411\n",
              "Adulto  Masc  Parda     Hospital          Infecção Por Coronavírus de Localização Não Especificada    10911\n",
              "              Branca    Hospital          Infecção Por Coronavírus de Localização Não Especificada    10204\n",
              "Idoso   Masc  Branca    Hospital          Infarto Agudo do Miocárdio Não Especificado                  9941\n",
              "        Fem   Branca    Hospital          Pneumonia Não Especificada                                   8391\n",
              "                                          Infarto Agudo do Miocárdio Não Especificado                  8158\n",
              "        Masc  Branca    Hospital          Pneumonia Não Especificada                                   7511\n",
              "dtype: int64"
            ]
          },
          "execution_count": 90,
          "metadata": {},
          "output_type": "execute_result"
        }
      ],
      "source": [
        "df_pandas.groupby(['IDADE','SEXO','RACA_COR','LOCAL_OCORRENCIA','DESCRICAO_OBITO']).size().sort_values(ascending=False).head(10)"
      ]
    },
    {
      "cell_type": "code",
      "execution_count": null,
      "metadata": {
        "colab": {
          "base_uri": "https://localhost:8080/"
        },
        "id": "gixXUL-00ru2",
        "outputId": "d3791e88-a065-44f6-d6be-77039446252b"
      },
      "outputs": [
        {
          "data": {
            "text/plain": [
              "DESCRICAO_OBITO\n",
              "Infecção Por Coronavírus de Localização Não Especificada                      209720\n",
              "Infarto Agudo do Miocárdio Não Especificado                                    87008\n",
              "Outras Causas Mal Definidas e as Não Especificadas de Mortalidade              63772\n",
              "Pneumonia Não Especificada                                                     37483\n",
              "Hipertensão Essencial (primária)                                               37129\n",
              "Acidente Vascular Cerebral, Não Especificado Como Hemorrágico ou Isquêmico     35382\n",
              "Diabetes Mellitus Não Especificado - Sem Complicações                          32067\n",
              "Neoplasia Maligna Dos Brônquios ou Pulmões, Não Especificado                   26368\n",
              "Doença de Alzheimer Não Especificada                                           21798\n",
              "Infecção do Trato Urinário de Localização Não Especificada                     19963\n",
              "dtype: int64"
            ]
          },
          "execution_count": 91,
          "metadata": {},
          "output_type": "execute_result"
        }
      ],
      "source": [
        "df_pandas.groupby(['DESCRICAO_OBITO']).size().sort_values(ascending=False).head(10)"
      ]
    },
    {
      "cell_type": "markdown",
      "metadata": {
        "id": "j_vMzfuB3MTu"
      },
      "source": [
        "##**GRAFICOS**"
      ]
    },
    {
      "cell_type": "code",
      "execution_count": null,
      "metadata": {
        "colab": {
          "base_uri": "https://localhost:8080/"
        },
        "id": "4bYsIc-j3Ozc",
        "outputId": "26418d8d-9da2-4208-816d-e797f2b97cb8"
      },
      "outputs": [
        {
          "data": {
            "text/plain": [
              "<matplotlib.axes._subplots.AxesSubplot at 0x7f3d1b37d790>"
            ]
          },
          "execution_count": 92,
          "metadata": {},
          "output_type": "execute_result"
        },
        {
          "data": {
            "image/png": "[encoded data removed]",
            "text/plain": [
              "<Figure size 720x576 with 1 Axes>"
            ]
          },
          "metadata": {},
          "output_type": "display_data"
        }
      ],
      "source": [
        "df_pandas.groupby(['ESTADO_DA_OCORRENCIA']).size().sort_values(ascending=False).plot.bar(figsize=(10,8),xlabel = 'ESTADO_DA_OCORRENCIA', ylabel= 'QTD_OBITO')"
      ]
    },
    {
      "cell_type": "code",
      "execution_count": null,
      "metadata": {
        "colab": {
          "base_uri": "https://localhost:8080/"
        },
        "id": "Q-du37_J3XRV",
        "outputId": "e1934537-a214-4679-ecd2-b1729c0fd4d3"
      },
      "outputs": [
        {
          "data": {
            "text/plain": [
              "<matplotlib.axes._subplots.AxesSubplot at 0x7f3d1a4cf910>"
            ]
          },
          "execution_count": 93,
          "metadata": {},
          "output_type": "execute_result"
        },
        {
          "data": {
            "image/png": "[encoded data removed]",
            "text/plain": [
              "<Figure size 720x576 with 1 Axes>"
            ]
          },
          "metadata": {},
          "output_type": "display_data"
        }
      ],
      "source": [
        "df_pandas.groupby(['LOCAL_OCORRENCIA']).size().sort_values(ascending=False).plot.bar(figsize=(10,8),xlabel = 'LOCAL_OCORRENCIA', ylabel= 'QTD_OBITO')"
      ]
    },
    {
      "cell_type": "code",
      "execution_count": null,
      "metadata": {
        "colab": {
          "base_uri": "https://localhost:8080/"
        },
        "id": "eGcGVr7iRmBe",
        "outputId": "054f48ed-fbc6-4dd3-c382-30bb74ad5fd2"
      },
      "outputs": [
        {
          "data": {
            "text/plain": [
              "<matplotlib.axes._subplots.AxesSubplot at 0x7f3d19ceef90>"
            ]
          },
          "execution_count": 94,
          "metadata": {},
          "output_type": "execute_result"
        },
        {
          "data": {
            "image/png": "[encoded data removed]",
            "text/plain": [
              "<Figure size 720x576 with 1 Axes>"
            ]
          },
          "metadata": {},
          "output_type": "display_data"
        }
      ],
      "source": [
        "df_pandas.groupby(['IDADE']).size().sort_values(ascending=False).plot.bar(figsize=(10,8),xlabel = 'IDADE', ylabel= 'QTD_OBITO')"
      ]
    },
    {
      "cell_type": "markdown",
      "metadata": {
        "id": "Qzkc2RhW4Xpn"
      },
      "source": [
        "##**CONVERTENDO DATAFRAME EM CSV E ENVIANDO PARA O BUCKET**"
      ]
    },
    {
      "cell_type": "code",
      "execution_count": null,
      "metadata": {
        "id": "I5xoEtFC4en-"
      },
      "outputs": [],
      "source": [
        "#df_pandas.to_csv('gs://projeto-final/tratados/df_2020.csv', index=False)"
      ]
    },
    {
      "cell_type": "markdown",
      "metadata": {
        "id": "qyORDhrhsUqq"
      },
      "source": [
        "##**ENVIO DOS DATAFRAMES TRATADOS PARA O BANCO DE DADOS NoSQL (MONGODB)**"
      ]
    },
    {
      "cell_type": "code",
      "execution_count": null,
      "metadata": {
        "id": "gH5uOK0ouIUj"
      },
      "outputs": [],
      "source": [
        "df_2017 = pd.read_csv('gs://projeto-final/tratados/df_2017.csv', delimiter=',')"
      ]
    },
    {
      "cell_type": "code",
      "execution_count": null,
      "metadata": {
        "id": "EN113p5buLgm"
      },
      "outputs": [],
      "source": [
        "df_2018 = pd.read_csv('gs://projeto-final/tratados/df_2018.csv', delimiter=',')"
      ]
    },
    {
      "cell_type": "code",
      "execution_count": null,
      "metadata": {
        "id": "D20zBcsduOwm"
      },
      "outputs": [],
      "source": [
        "df_2019 = pd.read_csv('gs://projeto-final/tratados/df_2019.csv', delimiter=',')"
      ]
    },
    {
      "cell_type": "code",
      "execution_count": null,
      "metadata": {
        "id": "XmCe__EPuQcg"
      },
      "outputs": [],
      "source": [
        "df_2020 = pd.read_csv('gs://projeto-final/tratados/df_2020.csv', delimiter=',')"
      ]
    },
    {
      "cell_type": "markdown",
      "metadata": {
        "id": "rA3hcquetg2Z"
      },
      "source": [
        "**TRANSFORMANDO EM DICIONÁRIO**"
      ]
    },
    {
      "cell_type": "code",
      "execution_count": null,
      "metadata": {
        "id": "xv6jVdQ7tkdO"
      },
      "outputs": [],
      "source": [
        "df_dicio = df_2017.to_dict('records')"
      ]
    },
    {
      "cell_type": "code",
      "execution_count": null,
      "metadata": {
        "id": "vCXuWRMUtmD3"
      },
      "outputs": [],
      "source": [
        "df_dicio1 = df_2018.to_dict('records')"
      ]
    },
    {
      "cell_type": "code",
      "execution_count": null,
      "metadata": {
        "id": "WTI7Y1-rtnta"
      },
      "outputs": [],
      "source": [
        "df_dicio2 = df_2019.to_dict('records')"
      ]
    },
    {
      "cell_type": "code",
      "execution_count": null,
      "metadata": {
        "id": "79y7MkoFtpmy"
      },
      "outputs": [],
      "source": [
        "df_dicio3 = df_2020.to_dict('records')"
      ]
    },
    {
      "cell_type": "markdown",
      "metadata": {
        "id": "HttO3SI0tswD"
      },
      "source": [
        "**DETERMINANDO A COLLECTION**"
      ]
    },
    {
      "cell_type": "code",
      "execution_count": null,
      "metadata": {
        "id": "bs8KCa_dtyPk"
      },
      "outputs": [],
      "source": [
        "collection = db['df_2017']"
      ]
    },
    {
      "cell_type": "code",
      "execution_count": null,
      "metadata": {
        "id": "bTY0-UfPt0EV"
      },
      "outputs": [],
      "source": [
        "collection1 = db['df_2018']"
      ]
    },
    {
      "cell_type": "code",
      "execution_count": null,
      "metadata": {
        "id": "DDMi85wyt18V"
      },
      "outputs": [],
      "source": [
        "collection2 = db['df_2019']"
      ]
    },
    {
      "cell_type": "code",
      "execution_count": null,
      "metadata": {
        "id": "mkRTz0fTt33A"
      },
      "outputs": [],
      "source": [
        "collection3 = db['df_2020']"
      ]
    },
    {
      "cell_type": "markdown",
      "metadata": {
        "id": "hdUByWmQt6XS"
      },
      "source": [
        "**INSERINDO NO MONGO**"
      ]
    },
    {
      "cell_type": "code",
      "execution_count": null,
      "metadata": {
        "id": "oVv4C7C9t9nB"
      },
      "outputs": [],
      "source": [
        "collection.insert_many(df_dicio)"
      ]
    },
    {
      "cell_type": "code",
      "execution_count": null,
      "metadata": {
        "id": "mPCCmVljt_bu"
      },
      "outputs": [],
      "source": [
        "collection1.insert_many(df_dicio1)"
      ]
    },
    {
      "cell_type": "code",
      "execution_count": null,
      "metadata": {
        "id": "D4uMehu5uBDX"
      },
      "outputs": [],
      "source": [
        "collection2.insert_many(df_dicio2)"
      ]
    },
    {
      "cell_type": "code",
      "execution_count": null,
      "metadata": {
        "id": "gr-CFfgduCyi"
      },
      "outputs": [],
      "source": [
        "collection3.insert_many(df_dicio3)"
      ]
    },
    {
      "cell_type": "markdown",
      "metadata": {
        "id": "L47kHzPVHS2n"
      },
      "source": [
        "##**CRIAÇÃO DAS PIPELINES**"
      ]
    },
    {
      "cell_type": "code",
      "execution_count": null,
      "metadata": {
        "id": "YX9_UMl3HbMT"
      },
      "outputs": [],
      "source": [
        "p1 = beam.Pipeline()\n",
        "pipeline_options = {\n",
        "    'project':'projeto-soulcode-350816',\n",
        "    'runner':'DataflowRunner',\n",
        "    'region':'southamerica-east1',\n",
        "    'staging_location':'gs://projeto-final/staging',\n",
        "    'temp_location':'gs://projeto-final/staging',\n",
        "    'template_location':'gs://projeto-final/models/modelo_qtd_morte_estado'\n",
        "}\n",
        "pipeline_options = PipelineOptions.from_dictionary(pipeline_options)\n",
        "p1 = beam.Pipeline(options=pipeline_options)\n",
        "qtd_obito = (\n",
        "    p1\n",
        "    |'Leitura do dataset'>> beam.io.ReadFromText('gs://projeto-final/tratados/df_2017.csv',skip_header_lines=1)\n",
        "    |'Separar por virgula'>> beam.Map(lambda record: record.split(','))\n",
        "    |'Filtrar por região'>> beam.Filter(lambda record: float(record[13] == '1'))\n",
        "    |'Agregar as colunas' >> beam.Map(lambda record: (record[15], float(record[13])))\n",
        "    |'Qtd de mortes' >> beam.combiners.Count.PerKey(sum)\n",
        "    |'Load para arquivo' >> beam.io.WriteToText(\"gs://projeto-final/test/modelo_qtd_morte_estado\", file_name_suffix='.csv')   \n",
        ")\n",
        "p1.run()"
      ]
    }
  ],
  "metadata": {
    "colab": {
      "collapsed_sections": [
        "6xJP6lbLNtJ3",
        "oi7d3hOhMzS8",
        "5poK7DUTMUk-",
        "e3f3YRlavrT-",
        "j_vMzfuB3MTu",
        "qyORDhrhsUqq"
      ],
      "name": "SIM_2020.ipynb",
      "toc_visible": true,
      "provenance": [],
      "include_colab_link": true
    },
    "kernelspec": {
      "display_name": "Python 3",
      "name": "python3"
    },
    "language_info": {
      "name": "python"
    }
  },
  "nbformat": 4,
  "nbformat_minor": 0
}